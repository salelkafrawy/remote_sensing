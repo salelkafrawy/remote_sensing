{
 "cells": [
  {
   "cell_type": "code",
   "execution_count": 1,
   "metadata": {},
   "outputs": [],
   "source": [
    "import pandas as pd"
   ]
  },
  {
   "cell_type": "code",
   "execution_count": 8,
   "metadata": {},
   "outputs": [],
   "source": [
    "fr = pd.read_csv('../data/observations_fr_train.csv', sep = \";\")\n",
    "us = pd.read_csv('../data/observations_us_train.csv', sep = \";\")"
   ]
  },
  {
   "cell_type": "code",
   "execution_count": 17,
   "metadata": {},
   "outputs": [
    {
     "data": {
      "text/plain": [
       "(671244, 956231, 25099)"
      ]
     },
     "execution_count": 17,
     "metadata": {},
     "output_type": "execute_result"
    }
   ],
   "source": [
    "len(fr), len(us), len(us[us[\"subset\"] == 'val'])\n",
    "#VALIDATION  set is about 2.5%"
   ]
  },
  {
   "cell_type": "code",
   "execution_count": 51,
   "metadata": {},
   "outputs": [
    {
     "name": "stdout",
     "output_type": "stream",
     "text": [
      "25099\n",
      "931132\n"
     ]
    }
   ],
   "source": [
    "val_us = us[us[\"subset\"] == 'val']\n",
    "print(len(val_us))\n",
    "train_us = us[us[\"subset\"] == 'train']\n",
    "print(len(train_us))"
   ]
  },
  {
   "cell_type": "code",
   "execution_count": 52,
   "metadata": {},
   "outputs": [],
   "source": [
    "val_us = us[us[\"subset\"] == 'val']\n",
    "print(len(val_us))\n",
    "train_us = us[us[\"subset\"] == 'train']\n",
    "print(len(train_us))\n",
    "us_val_sp = val_us[\"species_id\"].unique()\n",
    "us_train_sp = train_us[\"species_id\"].unique()"
   ]
  },
  {
   "cell_type": "code",
   "execution_count": 57,
   "metadata": {},
   "outputs": [],
   "source": [
    "not_there = [i for i in us_val_sp if i not in us_train_sp]"
   ]
  },
  {
   "cell_type": "code",
   "execution_count": 71,
   "metadata": {},
   "outputs": [],
   "source": [
    "not_ = val_us[val_us.species_id.isin(not_there)]"
   ]
  },
  {
   "cell_type": "code",
   "execution_count": 63,
   "metadata": {},
   "outputs": [
    {
     "name": "stdout",
     "output_type": "stream",
     "text": [
      "14981\n",
      "656263\n",
      "671244\n"
     ]
    }
   ],
   "source": [
    "val_fr = fr[fr[\"subset\"] == 'val']\n",
    "print(len(val_fr))\n",
    "train_fr = fr[fr[\"subset\"] == 'train']\n",
    "print(len(train_fr))\n",
    "print(len(fr))\n",
    "fr_val_sp = val_fr[\"species_id\"].unique()\n",
    "fr_train_sp = train_fr[\"species_id\"].unique()"
   ]
  },
  {
   "cell_type": "code",
   "execution_count": 77,
   "metadata": {},
   "outputs": [],
   "source": [
    "import os\n",
    "import sys\n",
    "from pathlib import Path\n",
    "sys.path.append(str(Path().resolve().parent))\n",
    "sys.path.append(str(Path().resolve().parent.parent))\n",
    "import matplotlib.pyplot as plt"
   ]
  },
  {
   "cell_type": "code",
   "execution_count": 78,
   "metadata": {},
   "outputs": [
    {
     "ename": "ModuleNotFoundError",
     "evalue": "No module named 'cartopy'",
     "output_type": "error",
     "traceback": [
      "\u001b[0;31m---------------------------------------------------------------------------\u001b[0m",
      "\u001b[0;31mModuleNotFoundError\u001b[0m                       Traceback (most recent call last)",
      "\u001b[1;32m/Users/melisande/github/GLC/notebooks/dataset.ipynb Cell 10'\u001b[0m in \u001b[0;36m<cell line: 20>\u001b[0;34m()\u001b[0m\n\u001b[1;32m     <a href='vscode-notebook-cell:/Users/melisande/github/GLC/notebooks/dataset.ipynb#ch0000019?line=15'>16</a>\u001b[0m         ax\u001b[39m.\u001b[39mscatter(df_obs_test\u001b[39m.\u001b[39mlongitude, df_obs_test\u001b[39m.\u001b[39mlatitude, color\u001b[39m=\u001b[39m\u001b[39m\"\u001b[39m\u001b[39mred\u001b[39m\u001b[39m\"\u001b[39m, \u001b[39m*\u001b[39m\u001b[39m*\u001b[39mkwargs)\n\u001b[1;32m     <a href='vscode-notebook-cell:/Users/melisande/github/GLC/notebooks/dataset.ipynb#ch0000019?line=18'>19</a>\u001b[0m fig \u001b[39m=\u001b[39m plt\u001b[39m.\u001b[39mfigure(figsize\u001b[39m=\u001b[39m(\u001b[39m10\u001b[39m, \u001b[39m5.5\u001b[39m))\n\u001b[0;32m---> <a href='vscode-notebook-cell:/Users/melisande/github/GLC/notebooks/dataset.ipynb#ch0000019?line=19'>20</a>\u001b[0m ax \u001b[39m=\u001b[39m plot_map(region\u001b[39m=\u001b[39;49m\u001b[39m\"\u001b[39;49m\u001b[39mus\u001b[39;49m\u001b[39m\"\u001b[39;49m)\n\u001b[1;32m     <a href='vscode-notebook-cell:/Users/melisande/github/GLC/notebooks/dataset.ipynb#ch0000019?line=20'>21</a>\u001b[0m plot_observations_distribution(ax, not_, not_)\n\u001b[1;32m     <a href='vscode-notebook-cell:/Users/melisande/github/GLC/notebooks/dataset.ipynb#ch0000019?line=21'>22</a>\u001b[0m ax\u001b[39m.\u001b[39mset_title(\u001b[39m\"\u001b[39m\u001b[39mObservations distribution (US)\u001b[39m\u001b[39m\"\u001b[39m)\n",
      "File \u001b[0;32m~/github/GLC/plotting.py:25\u001b[0m, in \u001b[0;36mplot_map\u001b[0;34m(region, extent, ax)\u001b[0m\n\u001b[1;32m     <a href='file:///Users/melisande/github/GLC/plotting.py?line=21'>22</a>\u001b[0m \u001b[39melif\u001b[39;00m region \u001b[39mis\u001b[39;00m \u001b[39mNone\u001b[39;00m \u001b[39mand\u001b[39;00m extent \u001b[39mis\u001b[39;00m \u001b[39mNone\u001b[39;00m:\n\u001b[1;32m     <a href='file:///Users/melisande/github/GLC/plotting.py?line=22'>23</a>\u001b[0m     \u001b[39mraise\u001b[39;00m \u001b[39mValueError\u001b[39;00m(\u001b[39m\"\u001b[39m\u001b[39mEither region or extent must be set\u001b[39m\u001b[39m\"\u001b[39m)\n\u001b[0;32m---> <a href='file:///Users/melisande/github/GLC/plotting.py?line=24'>25</a>\u001b[0m \u001b[39mimport\u001b[39;00m \u001b[39mcartopy\u001b[39;00m\u001b[39m.\u001b[39;00m\u001b[39mcrs\u001b[39;00m \u001b[39mas\u001b[39;00m \u001b[39mccrs\u001b[39;00m\n\u001b[1;32m     <a href='file:///Users/melisande/github/GLC/plotting.py?line=25'>26</a>\u001b[0m \u001b[39mimport\u001b[39;00m \u001b[39mcartopy\u001b[39;00m\u001b[39m.\u001b[39;00m\u001b[39mfeature\u001b[39;00m \u001b[39mas\u001b[39;00m \u001b[39mcfeature\u001b[39;00m\n\u001b[1;32m     <a href='file:///Users/melisande/github/GLC/plotting.py?line=27'>28</a>\u001b[0m \u001b[39mif\u001b[39;00m ax \u001b[39mis\u001b[39;00m \u001b[39mNone\u001b[39;00m:\n",
      "\u001b[0;31mModuleNotFoundError\u001b[0m: No module named 'cartopy'"
     ]
    },
    {
     "data": {
      "text/plain": [
       "<Figure size 720x396 with 0 Axes>"
      ]
     },
     "metadata": {},
     "output_type": "display_data"
    }
   ],
   "source": [
    "\n",
    "from GLC.plotting import plot_map\n",
    "\n",
    "\n",
    "def plot_observations_distribution(ax, df_obs, df_obs_test=None, **kwargs):\n",
    "    default_kwargs = {\n",
    "        \"zorder\": 1,\n",
    "        \"alpha\": 0.1,\n",
    "        \"s\": 0.5\n",
    "    }\n",
    "    default_kwargs.update(kwargs)\n",
    "    kwargs = default_kwargs\n",
    "    \n",
    "    ax.scatter(df_obs.longitude, df_obs.latitude, color=\"blue\", **kwargs)\n",
    "    \n",
    "    if df_obs_test is not None:\n",
    "        ax.scatter(df_obs_test.longitude, df_obs_test.latitude, color=\"red\", **kwargs)\n",
    "\n",
    "\n",
    "fig = plt.figure(figsize=(10, 5.5))\n",
    "ax = plot_map(region=\"us\")\n",
    "plot_observations_distribution(ax, not_, not_)\n",
    "ax.set_title(\"Observations distribution (US)\")"
   ]
  },
  {
   "cell_type": "code",
   "execution_count": 64,
   "metadata": {},
   "outputs": [
    {
     "data": {
      "text/plain": [
       "14135"
      ]
     },
     "execution_count": 64,
     "metadata": {},
     "output_type": "execute_result"
    }
   ],
   "source": [
    "us_train_sp = train_us[\"species_id\"].unique()\n",
    "us[\"species_id\"].nunique()"
   ]
  },
  {
   "cell_type": "code",
   "execution_count": 66,
   "metadata": {},
   "outputs": [
    {
     "data": {
      "text/plain": [
       "4857"
      ]
     },
     "execution_count": 66,
     "metadata": {},
     "output_type": "execute_result"
    }
   ],
   "source": [
    "len(fr_train_sp)\n"
   ]
  },
  {
   "cell_type": "code",
   "execution_count": 43,
   "metadata": {},
   "outputs": [
    {
     "data": {
      "text/plain": [
       "4858"
      ]
     },
     "execution_count": 43,
     "metadata": {},
     "output_type": "execute_result"
    }
   ],
   "source": [
    "fr[\"species_id\"].nunique()"
   ]
  },
  {
   "cell_type": "code",
   "execution_count": 39,
   "metadata": {},
   "outputs": [
    {
     "data": {
      "text/plain": [
       "1956"
      ]
     },
     "execution_count": 39,
     "metadata": {},
     "output_type": "execute_result"
    }
   ],
   "source": [
    "len(inter)"
   ]
  },
  {
   "cell_type": "code",
   "execution_count": 68,
   "metadata": {},
   "outputs": [
    {
     "data": {
      "text/html": [
       "<div>\n",
       "<style scoped>\n",
       "    .dataframe tbody tr th:only-of-type {\n",
       "        vertical-align: middle;\n",
       "    }\n",
       "\n",
       "    .dataframe tbody tr th {\n",
       "        vertical-align: top;\n",
       "    }\n",
       "\n",
       "    .dataframe thead th {\n",
       "        text-align: right;\n",
       "    }\n",
       "</style>\n",
       "<table border=\"1\" class=\"dataframe\">\n",
       "  <thead>\n",
       "    <tr style=\"text-align: right;\">\n",
       "      <th></th>\n",
       "      <th>observation_id</th>\n",
       "      <th>latitude</th>\n",
       "      <th>longitude</th>\n",
       "      <th>species_id</th>\n",
       "      <th>subset</th>\n",
       "    </tr>\n",
       "  </thead>\n",
       "  <tbody>\n",
       "    <tr>\n",
       "      <th>0</th>\n",
       "      <td>10561949</td>\n",
       "      <td>45.705116</td>\n",
       "      <td>1.424622</td>\n",
       "      <td>241</td>\n",
       "      <td>train</td>\n",
       "    </tr>\n",
       "    <tr>\n",
       "      <th>1</th>\n",
       "      <td>10131188</td>\n",
       "      <td>45.146973</td>\n",
       "      <td>6.416794</td>\n",
       "      <td>101</td>\n",
       "      <td>train</td>\n",
       "    </tr>\n",
       "    <tr>\n",
       "      <th>2</th>\n",
       "      <td>10799362</td>\n",
       "      <td>46.783695</td>\n",
       "      <td>-2.072855</td>\n",
       "      <td>700</td>\n",
       "      <td>train</td>\n",
       "    </tr>\n",
       "    <tr>\n",
       "      <th>3</th>\n",
       "      <td>10392536</td>\n",
       "      <td>48.604866</td>\n",
       "      <td>-2.825003</td>\n",
       "      <td>1456</td>\n",
       "      <td>train</td>\n",
       "    </tr>\n",
       "    <tr>\n",
       "      <th>4</th>\n",
       "      <td>10335049</td>\n",
       "      <td>48.815567</td>\n",
       "      <td>-0.161431</td>\n",
       "      <td>157</td>\n",
       "      <td>train</td>\n",
       "    </tr>\n",
       "    <tr>\n",
       "      <th>...</th>\n",
       "      <td>...</td>\n",
       "      <td>...</td>\n",
       "      <td>...</td>\n",
       "      <td>...</td>\n",
       "      <td>...</td>\n",
       "    </tr>\n",
       "    <tr>\n",
       "      <th>671239</th>\n",
       "      <td>10543820</td>\n",
       "      <td>43.542500</td>\n",
       "      <td>4.967778</td>\n",
       "      <td>1041</td>\n",
       "      <td>train</td>\n",
       "    </tr>\n",
       "    <tr>\n",
       "      <th>671240</th>\n",
       "      <td>10304005</td>\n",
       "      <td>43.829823</td>\n",
       "      <td>4.450699</td>\n",
       "      <td>19</td>\n",
       "      <td>train</td>\n",
       "    </tr>\n",
       "    <tr>\n",
       "      <th>671241</th>\n",
       "      <td>10433186</td>\n",
       "      <td>43.329414</td>\n",
       "      <td>5.599397</td>\n",
       "      <td>906</td>\n",
       "      <td>train</td>\n",
       "    </tr>\n",
       "    <tr>\n",
       "      <th>671242</th>\n",
       "      <td>10352176</td>\n",
       "      <td>43.556637</td>\n",
       "      <td>7.016971</td>\n",
       "      <td>516</td>\n",
       "      <td>train</td>\n",
       "    </tr>\n",
       "    <tr>\n",
       "      <th>671243</th>\n",
       "      <td>10102027</td>\n",
       "      <td>43.080345</td>\n",
       "      <td>6.030236</td>\n",
       "      <td>170</td>\n",
       "      <td>train</td>\n",
       "    </tr>\n",
       "  </tbody>\n",
       "</table>\n",
       "<p>671244 rows × 5 columns</p>\n",
       "</div>"
      ],
      "text/plain": [
       "        observation_id   latitude  longitude  species_id subset\n",
       "0             10561949  45.705116   1.424622         241  train\n",
       "1             10131188  45.146973   6.416794         101  train\n",
       "2             10799362  46.783695  -2.072855         700  train\n",
       "3             10392536  48.604866  -2.825003        1456  train\n",
       "4             10335049  48.815567  -0.161431         157  train\n",
       "...                ...        ...        ...         ...    ...\n",
       "671239        10543820  43.542500   4.967778        1041  train\n",
       "671240        10304005  43.829823   4.450699          19  train\n",
       "671241        10433186  43.329414   5.599397         906  train\n",
       "671242        10352176  43.556637   7.016971         516  train\n",
       "671243        10102027  43.080345   6.030236         170  train\n",
       "\n",
       "[671244 rows x 5 columns]"
      ]
     },
     "execution_count": 68,
     "metadata": {},
     "output_type": "execute_result"
    }
   ],
   "source": [
    "fr"
   ]
  },
  {
   "cell_type": "markdown",
   "metadata": {},
   "source": []
  }
 ],
 "metadata": {
  "interpreter": {
   "hash": "9af17a4b03cf5f94386f58c03d63e94f9fcc1f5ee7604e5625ebbba08dff10b7"
  },
  "kernelspec": {
   "display_name": "Python 3.8.2 ('omnienv')",
   "language": "python",
   "name": "python3"
  },
  "language_info": {
   "codemirror_mode": {
    "name": "ipython",
    "version": 3
   },
   "file_extension": ".py",
   "mimetype": "text/x-python",
   "name": "python",
   "nbconvert_exporter": "python",
   "pygments_lexer": "ipython3",
   "version": "3.8.2"
  },
  "orig_nbformat": 4
 },
 "nbformat": 4,
 "nbformat_minor": 2
}
