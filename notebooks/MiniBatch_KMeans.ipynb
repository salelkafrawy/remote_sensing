{
 "cells": [
  {
   "cell_type": "markdown",
   "metadata": {},
   "source": [
    "# Online learning of a dictionary of parts of faces"
   ]
  },
  {
   "cell_type": "markdown",
   "metadata": {},
   "source": [
    "This example uses a large dataset of faces to learn a set of 20 x 20 images patches that constitute faces.\n",
    "\n",
    "From the programming standpoint, it is interesting because it shows how to use the online API of the scikit-learn to process a very large dataset by chunks. The way we proceed is that we load an image at a time and extract randomly 50 patches from this image. Once we have accumulated 500 of these patches (using 10 images), we run the partial_fit method of the online KMeans object, MiniBatchKMeans.\n",
    "\n",
    "The verbose setting on the MiniBatchKMeans enables us to see that some clusters are reassigned during the successive calls to partial-fit. This is because the number of patches that they represent has become too low, and it is better to choose a random new cluster."
   ]
  },
  {
   "cell_type": "code",
   "execution_count": null,
   "metadata": {},
   "outputs": [],
   "source": [
    "from sklearn import datasets\n",
    "\n",
    "faces = datasets.fetch_olivetti_faces()"
   ]
  },
  {
   "cell_type": "code",
   "execution_count": null,
   "metadata": {},
   "outputs": [],
   "source": [
    "import time\n",
    "\n",
    "import numpy as np\n",
    "\n",
    "from sklearn.cluster import MiniBatchKMeans\n",
    "from sklearn.feature_extraction.image import extract_patches_2d\n",
    "\n",
    "print(\"Learning the dictionary... \")\n",
    "rng = np.random.RandomState(0)\n",
    "kmeans = MiniBatchKMeans(n_clusters=81, random_state=rng, verbose=True)\n",
    "patch_size = (20, 20)\n",
    "\n",
    "buffer = []"
   ]
  },
  {
   "cell_type": "code",
   "execution_count": null,
   "metadata": {},
   "outputs": [],
   "source": [
    "t0 = time.time()\n",
    "\n",
    "# The online learning part: cycle over the whole dataset 6 times\n",
    "index = 0\n",
    "for _ in range(6):\n",
    "    for img in faces.images:\n",
    "        data = extract_patches_2d(img, patch_size, max_patches=50, random_state=rng)\n",
    "        data = np.reshape(data, (len(data), -1))\n",
    "        buffer.append(data)\n",
    "        index += 1\n",
    "        if index % 10 == 0:\n",
    "            data = np.concatenate(buffer, axis=0)\n",
    "            data -= np.mean(data, axis=0)\n",
    "            data /= np.std(data, axis=0)\n",
    "            kmeans.partial_fit(data)\n",
    "            buffer = []\n",
    "        if index % 100 == 0:\n",
    "            print(\"Partial fit of %4i out of %i\" % (index, 6 * len(faces.images)))\n",
    "\n",
    "dt = time.time() - t0\n",
    "print(\"done in %.2fs.\" % dt)"
   ]
  },
  {
   "cell_type": "markdown",
   "metadata": {},
   "source": [
    "# Plot the results"
   ]
  },
  {
   "cell_type": "code",
   "execution_count": null,
   "metadata": {},
   "outputs": [],
   "source": [
    "import matplotlib.pyplot as plt\n",
    "\n",
    "plt.figure(figsize=(4.2, 4))\n",
    "for i, patch in enumerate(kmeans.cluster_centers_):\n",
    "    plt.subplot(9, 9, i + 1)\n",
    "    plt.imshow(patch.reshape(patch_size), cmap=plt.cm.gray, interpolation=\"nearest\")\n",
    "    plt.xticks(())\n",
    "    plt.yticks(())\n",
    "    print(patch.min())\n",
    "    print(patch.max())\n",
    "    break\n",
    "\n",
    "plt.suptitle(\n",
    "    \"Patches of faces\\nTrain time %.1fs on %d patches\" % (dt, 8 * len(faces.images)),\n",
    "    fontsize=16,\n",
    ")\n",
    "plt.subplots_adjust(0.08, 0.02, 0.92, 0.85, 0.08, 0.23)\n",
    "\n",
    "plt.show()"
   ]
  },
  {
   "cell_type": "markdown",
   "metadata": {},
   "source": [
    "# Try with small GeoLife"
   ]
  },
  {
   "cell_type": "code",
   "execution_count": 1,
   "metadata": {},
   "outputs": [],
   "source": [
    "import os\n",
    "import sys\n",
    "import inspect\n",
    "from pathlib import Path\n",
    "\n",
    "CURR_DIR = os.path.dirname(os.path.abspath(inspect.getfile(inspect.currentframe())))\n",
    "PARENT_DIR = os.path.dirname(CURR_DIR)\n",
    "sys.path.insert(0, \"/home/mila/s/sara.ebrahim-elkafrawy/scratch/ecosystem_project/remote_sensing\")"
   ]
  },
  {
   "cell_type": "code",
   "execution_count": 2,
   "metadata": {},
   "outputs": [],
   "source": [
    "from dataset.pytorch_dataset import GeoLifeCLEF2022Dataset\n",
    "from torch.utils.data import random_split, DataLoader"
   ]
  },
  {
   "cell_type": "code",
   "execution_count": 3,
   "metadata": {},
   "outputs": [],
   "source": [
    "data_dir =\"/network/scratch/s/sara.ebrahim-elkafrawy/small_geo_data\" # \"/network/scratch/s/sara.ebrahim-elkafrawy/\" #\n",
    "split = \"train\"\n",
    "use_ffcv_loader = False\n",
    "bands = [\"rgb\"] \n",
    "batch_size = 1\n",
    "num_workers = 0\n",
    "patch_size = (10, 10)\n",
    "num_feats = 64"
   ]
  },
  {
   "cell_type": "code",
   "execution_count": 4,
   "metadata": {},
   "outputs": [],
   "source": [
    "geo_train_dataset = GeoLifeCLEF2022Dataset(\n",
    "                root=data_dir,\n",
    "                subset=split,\n",
    "                use_ffcv_loader=use_ffcv_loader,\n",
    "                region=\"both\",\n",
    "                patch_data=bands,\n",
    "                use_rasters=False,\n",
    "                patch_extractor=None,\n",
    "                transform=None,\n",
    "                target_transform=None,\n",
    "                opts=None,\n",
    "            )\n",
    "\n",
    "geo_train_loader = DataLoader(\n",
    "                geo_train_dataset,\n",
    "                batch_size=batch_size,\n",
    "                num_workers=num_workers,\n",
    "                shuffle=True,\n",
    "                pin_memory=True,\n",
    "            )"
   ]
  },
  {
   "cell_type": "code",
   "execution_count": 5,
   "metadata": {},
   "outputs": [
    {
     "data": {
      "text/plain": [
       "2004"
      ]
     },
     "execution_count": 5,
     "metadata": {},
     "output_type": "execute_result"
    }
   ],
   "source": [
    "len(geo_train_loader)"
   ]
  },
  {
   "cell_type": "code",
   "execution_count": 6,
   "metadata": {},
   "outputs": [
    {
     "name": "stdout",
     "output_type": "stream",
     "text": [
      "Learning the dictionary... \n"
     ]
    }
   ],
   "source": [
    "import time\n",
    "\n",
    "import numpy as np\n",
    "\n",
    "from sklearn.cluster import MiniBatchKMeans\n",
    "from sklearn.feature_extraction.image import extract_patches_2d\n",
    "\n",
    "print(\"Learning the dictionary... \")\n",
    "rng = np.random.RandomState(0)\n",
    "kmeans = MiniBatchKMeans(n_clusters=num_feats, random_state=rng, verbose=True)\n",
    "\n",
    "\n",
    "buffer = []"
   ]
  },
  {
   "cell_type": "code",
   "execution_count": null,
   "metadata": {},
   "outputs": [],
   "source": [
    "t0 = time.time()\n",
    "\n",
    "# The online learning part: cycle over the whole dataset 6 times\n",
    "index = 0\n",
    "for _ in range(6):\n",
    "    for batch in geo_train_loader:\n",
    "        patches, target, meta = batch\n",
    "        img_np = patches['rgb'].numpy()\n",
    "        img_np = img_np.squeeze(0)\n",
    "        img_np = np.einsum('ijk->jki', img_np)\n",
    "\n",
    "        data = extract_patches_2d(img_np, patch_size, max_patches=50, random_state=rng)\n",
    "        data = np.reshape(data, (len(data), -1))\n",
    "        buffer.append(data)\n",
    "        index += 1\n",
    "#         print(data.shape)\n",
    "        if index % 100 == 0:\n",
    "            data = np.concatenate(buffer, axis=0)\n",
    "            data -= np.mean(data, axis=0)\n",
    "            data /= np.std(data, axis=0)\n",
    "            kmeans.partial_fit(data)\n",
    "            buffer = []\n",
    "        if index % 10000 == 0:\n",
    "            print(\"Partial fit of %4i out of %i\" % (index, 6 * len(geo_train_loader)))\n",
    "\n",
    "dt = time.time() - t0\n",
    "print(\"done in %.2fs.\" % dt)"
   ]
  },
  {
   "cell_type": "code",
   "execution_count": null,
   "metadata": {},
   "outputs": [],
   "source": [
    "# done in 44132.36s.  whole dataset"
   ]
  },
  {
   "cell_type": "code",
   "execution_count": 12,
   "metadata": {},
   "outputs": [],
   "source": [
    "kmeans_np = np.load('kmeans_64_whole.npy')\n",
    "dt = 44132.36"
   ]
  },
  {
   "cell_type": "code",
   "execution_count": 10,
   "metadata": {},
   "outputs": [
    {
     "data": {
      "text/plain": [
       "-1.899466"
      ]
     },
     "execution_count": 10,
     "metadata": {},
     "output_type": "execute_result"
    }
   ],
   "source": [
    "kmeans_np.min()"
   ]
  },
  {
   "cell_type": "code",
   "execution_count": 13,
   "metadata": {},
   "outputs": [
    {
     "data": {
      "image/png": "[encoded data removed]",
      "text/plain": [
       "<Figure size 720x720 with 64 Axes>"
      ]
     },
     "metadata": {},
     "output_type": "display_data"
    }
   ],
   "source": [
    "import matplotlib.pyplot as plt\n",
    "\n",
    "plt.figure(figsize=(10, 10))\n",
    "for i, patch in enumerate(kmeans_np): #kmeans.cluster_centers_):\n",
    "    plt.subplot(8, 8, i + 1)\n",
    "    img = patch.reshape(patch_size[0], patch_size[1],3)\n",
    "    img = (img- np.amin(img))/(np.amax(img)-np.amin(img))\n",
    "    img = np.clip(img, 0, 1)\n",
    "    plt.imshow(img) #interpolation=\"nearest\")\n",
    "    plt.xticks(())\n",
    "    plt.yticks(())\n",
    "\n",
    "\n",
    "plt.suptitle(\n",
    "    \"Patches of GeoLife data \\nTrain time %.1fs on %d patches\" % (dt, 8 * len(geo_train_loader)),\n",
    "    fontsize=16,\n",
    ")\n",
    "plt.subplots_adjust(0.08, 0.02, 0.92, 0.85, 0.08, 0.23)\n",
    "\n",
    "# plt.show()\n",
    "plt.savefig('patches_1st_layer.png')"
   ]
  },
  {
   "cell_type": "code",
   "execution_count": null,
   "metadata": {},
   "outputs": [],
   "source": [
    "np.save('kmeans_64_whole.npy', kmeans.cluster_centers_)"
   ]
  },
  {
   "cell_type": "code",
   "execution_count": null,
   "metadata": {},
   "outputs": [],
   "source": []
  }
 ],
 "metadata": {
  "kernelspec": {
   "display_name": "gis",
   "language": "python",
   "name": "gis"
  },
  "language_info": {
   "codemirror_mode": {
    "name": "ipython",
    "version": 3
   },
   "file_extension": ".py",
   "mimetype": "text/x-python",
   "name": "python",
   "nbconvert_exporter": "python",
   "pygments_lexer": "ipython3",
   "version": "3.6.13"
  }
 },
 "nbformat": 4,
 "nbformat_minor": 4
}
