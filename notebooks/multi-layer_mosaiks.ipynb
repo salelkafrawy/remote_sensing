{
 "cells": [
  {
   "cell_type": "markdown",
   "metadata": {},
   "source": [
    "# Multi-layer resnet50 from MOSAIKS"
   ]
  },
  {
   "cell_type": "markdown",
   "metadata": {},
   "source": [
    "## Prepare GeoLife data loader"
   ]
  },
  {
   "cell_type": "code",
   "execution_count": 1,
   "metadata": {},
   "outputs": [
    {
     "name": "stderr",
     "output_type": "stream",
     "text": [
      "/home/mila/s/sara.ebrahim-elkafrawy/.conda/envs/ffcv2/lib/python3.9/site-packages/tqdm/auto.py:22: TqdmWarning: IProgress not found. Please update jupyter and ipywidgets. See https://ipywidgets.readthedocs.io/en/stable/user_install.html\n",
      "  from .autonotebook import tqdm as notebook_tqdm\n"
     ]
    }
   ],
   "source": [
    "import os\n",
    "import sys\n",
    "import time\n",
    "import inspect\n",
    "import numpy as np\n",
    "import pandas as pd\n",
    "from pathlib import Path\n",
    "\n",
    "import torch\n",
    "import torch.nn as nn\n",
    "import timm\n",
    "\n",
    "from sklearn.cluster import MiniBatchKMeans\n",
    "from sklearn.feature_extraction.image import extract_patches_2d\n",
    "\n",
    "CURR_DIR = os.path.dirname(os.path.abspath(inspect.getfile(inspect.currentframe())))\n",
    "PARENT_DIR = os.path.dirname(CURR_DIR)\n",
    "sys.path.insert(0, \"/home/mila/s/sara.ebrahim-elkafrawy/scratch/ecosystem_project/remote_sensing\")\n",
    "\n",
    "from dataset.pytorch_dataset import GeoLifeCLEF2022Dataset\n",
    "from torch.utils.data import random_split, DataLoader\n",
    "\n",
    "random_state = np.random.RandomState(0)"
   ]
  },
  {
   "cell_type": "code",
   "execution_count": 2,
   "metadata": {},
   "outputs": [],
   "source": [
    "data_dir = \"/network/scratch/s/sara.ebrahim-elkafrawy/small_geo_data\"  # \"/network/scratch/s/sara.ebrahim-elkafrawy/\" \n",
    "split = \"train\"\n",
    "use_ffcv_loader = False\n",
    "num_species= 17037\n",
    "bands = [\"rgb\"] \n",
    "batch_size = 1\n",
    "num_workers = 0"
   ]
  },
  {
   "cell_type": "code",
   "execution_count": 3,
   "metadata": {},
   "outputs": [],
   "source": [
    "import torchvision\n",
    "\n",
    "template_model = getattr(torchvision.models, 'resnet50')\n",
    "encoder_q = template_model(num_classes=num_species)\n",
    "encoder_k = template_model(num_classes=num_species)"
   ]
  },
  {
   "cell_type": "code",
   "execution_count": null,
   "metadata": {},
   "outputs": [],
   "source": []
  },
  {
   "cell_type": "code",
   "execution_count": 3,
   "metadata": {},
   "outputs": [],
   "source": [
    "geo_train_dataset = GeoLifeCLEF2022Dataset(\n",
    "                root=data_dir,\n",
    "                subset=split,\n",
    "                use_ffcv_loader=use_ffcv_loader,\n",
    "                region=\"both\",\n",
    "                patch_data=bands,\n",
    "                use_rasters=False,\n",
    "                patch_extractor=None,\n",
    "                transform=None,\n",
    "                target_transform=None,\n",
    "                opts=None,\n",
    "            )\n",
    "\n",
    "geo_train_loader = DataLoader(\n",
    "                geo_train_dataset,\n",
    "                batch_size=batch_size,\n",
    "                num_workers=num_workers,\n",
    "                shuffle=True,\n",
    "                pin_memory=True,\n",
    "            )"
   ]
  },
  {
   "cell_type": "markdown",
   "metadata": {},
   "source": [
    "## initialize weights for the first layer with KMeans"
   ]
  },
  {
   "cell_type": "code",
   "execution_count": 4,
   "metadata": {},
   "outputs": [],
   "source": [
    "patch_size = (7, 7)\n",
    "num_feats = 64  # also number of patches\n",
    "num_iters = 6   # The online learning part: cycle over the whole dataset 6 times\n",
    "max_patches = 50"
   ]
  },
  {
   "cell_type": "code",
   "execution_count": 5,
   "metadata": {},
   "outputs": [],
   "source": [
    "kmeans = MiniBatchKMeans(n_clusters=num_feats, \n",
    "                         random_state=random_state,\n",
    "#                          max_no_improvement=5,\n",
    "#                          tol=0.01,\n",
    "#                          max_iter=5,\n",
    "#                          batch_size = kmeans_bs,\n",
    "                         verbose=True)"
   ]
  },
  {
   "cell_type": "code",
   "execution_count": 6,
   "metadata": {},
   "outputs": [
    {
     "name": "stdout",
     "output_type": "stream",
     "text": [
      "[MiniBatchKMeans] Reassigning 1 cluster centers.\n",
      "Partial fit of 10000 out of 12024\n",
      "done in 61.58s.\n"
     ]
    }
   ],
   "source": [
    "t0 = time.time()\n",
    "\n",
    "index = 0\n",
    "buffer = []\n",
    "\n",
    "for _ in range(num_iters):\n",
    "    for batch in geo_train_loader:\n",
    "        patches, target, meta = batch\n",
    "        img_np = patches['rgb'].numpy()\n",
    "        img_np = img_np.squeeze(0)\n",
    "        img_np = np.einsum('ijk->jki', img_np)\n",
    "\n",
    "        data = extract_patches_2d(img_np, patch_size, max_patches=max_patches, random_state=random_state)\n",
    "        data = np.reshape(data, (len(data), -1))\n",
    "        buffer.append(data)\n",
    "        index += 1\n",
    "        if index % int(len(geo_train_loader)/10) == 0:\n",
    "            data = np.concatenate(buffer, axis=0)\n",
    "            data -= np.mean(data, axis=0)\n",
    "            data /= np.std(data, axis=0)\n",
    "            kmeans.partial_fit(data)\n",
    "            buffer = []\n",
    "    #             print(f'inertia: {kmeans.inertia_}')\n",
    "        if index % 10000 == 0:\n",
    "            print(\"Partial fit of %4i out of %i\" % (index, num_iters * len(geo_train_loader)))\n",
    "\n",
    "dt = time.time() - t0\n",
    "print(\"done in %.2fs.\" % dt)"
   ]
  },
  {
   "cell_type": "code",
   "execution_count": 7,
   "metadata": {},
   "outputs": [
    {
     "data": {
      "text/plain": [
       "((256, 256, 3), (64, 147))"
      ]
     },
     "execution_count": 7,
     "metadata": {},
     "output_type": "execute_result"
    }
   ],
   "source": [
    "img_np.shape, kmeans.cluster_centers_.shape"
   ]
  },
  {
   "cell_type": "code",
   "execution_count": 8,
   "metadata": {},
   "outputs": [
    {
     "data": {
      "text/plain": [
       "(-1.9257957, 2.7969317)"
      ]
     },
     "execution_count": 8,
     "metadata": {},
     "output_type": "execute_result"
    }
   ],
   "source": [
    "kmeans.cluster_centers_.min(), kmeans.cluster_centers_.max()"
   ]
  },
  {
   "cell_type": "markdown",
   "metadata": {},
   "source": [
    "## slicing up resnet50"
   ]
  },
  {
   "cell_type": "code",
   "execution_count": 9,
   "metadata": {},
   "outputs": [],
   "source": [
    "model    = timm.create_model(model_name = 'resnet50', pretrained = True)\n",
    "model.fc = nn.Linear(2048, num_species)"
   ]
  },
  {
   "cell_type": "code",
   "execution_count": 10,
   "metadata": {},
   "outputs": [],
   "source": [
    "# set the weights for hte first layer\n",
    "list(model.named_parameters())[0][1].data = torch.from_numpy(kmeans.cluster_centers_.reshape(64, 3, 7, 7))"
   ]
  },
  {
   "cell_type": "code",
   "execution_count": 11,
   "metadata": {},
   "outputs": [
    {
     "data": {
      "text/plain": [
       "(tensor(-1.9258), tensor(2.7969))"
      ]
     },
     "execution_count": 11,
     "metadata": {},
     "output_type": "execute_result"
    }
   ],
   "source": [
    "list(model.named_parameters())[0][1].data.min(), list(model.named_parameters())[0][1].data.max()"
   ]
  },
  {
   "cell_type": "markdown",
   "metadata": {},
   "source": [
    "## extract all conv layers"
   ]
  },
  {
   "cell_type": "code",
   "execution_count": 12,
   "metadata": {},
   "outputs": [],
   "source": [
    "conv_idxs = []\n",
    "idx = 0\n",
    "for name, param in model.named_parameters():\n",
    "    if 'conv' in name:\n",
    "        conv_idxs.append(idx)\n",
    "#         print(name, '---------------\\t', param.shape)\n",
    "#         print(idx)\n",
    "#         conv_idxs[f\"conv_layer_{idx}\"] = param.shape\n",
    "    \n",
    "    idx += 1"
   ]
  },
  {
   "cell_type": "code",
   "execution_count": 13,
   "metadata": {},
   "outputs": [
    {
     "data": {
      "text/plain": [
       "[0,\n",
       " 3,\n",
       " 6,\n",
       " 9,\n",
       " 15,\n",
       " 18,\n",
       " 21,\n",
       " 24,\n",
       " 27,\n",
       " 30,\n",
       " 33,\n",
       " 36,\n",
       " 39,\n",
       " 45,\n",
       " 48,\n",
       " 51,\n",
       " 54,\n",
       " 57,\n",
       " 60,\n",
       " 63,\n",
       " 66,\n",
       " 69,\n",
       " 72,\n",
       " 75,\n",
       " 78,\n",
       " 84,\n",
       " 87,\n",
       " 90,\n",
       " 93,\n",
       " 96,\n",
       " 99,\n",
       " 102,\n",
       " 105,\n",
       " 108,\n",
       " 111,\n",
       " 114,\n",
       " 117,\n",
       " 120,\n",
       " 123,\n",
       " 126,\n",
       " 129,\n",
       " 132,\n",
       " 135,\n",
       " 141,\n",
       " 144,\n",
       " 147,\n",
       " 150,\n",
       " 153,\n",
       " 156]"
      ]
     },
     "execution_count": 13,
     "metadata": {},
     "output_type": "execute_result"
    }
   ],
   "source": [
    "# del conv_idxs['conv_layer_0']\n",
    "conv_idxs"
   ]
  },
  {
   "cell_type": "markdown",
   "metadata": {},
   "source": [
    "## with hooks"
   ]
  },
  {
   "cell_type": "code",
   "execution_count": 14,
   "metadata": {},
   "outputs": [],
   "source": [
    "features_dim = {}\n",
    "def get_features(name):\n",
    "    def hook(model, input, output):\n",
    "        features_dim[name] = output.detach()\n",
    "    return hook"
   ]
  },
  {
   "cell_type": "code",
   "execution_count": 15,
   "metadata": {},
   "outputs": [
    {
     "data": {
      "text/plain": [
       "<torch.utils.hooks.RemovableHandle at 0x7fec0d8534a8>"
      ]
     },
     "execution_count": 15,
     "metadata": {},
     "output_type": "execute_result"
    }
   ],
   "source": [
    "model.act1.register_forward_hook(get_features('conv_layer_0'))  #model.layer1[1].act2\n",
    "\n",
    "model.layer1[0].act1.register_forward_hook(get_features('conv_layer_3'))\n",
    "model.layer1[0].act2.register_forward_hook(get_features('conv_layer_6'))\n",
    "model.layer1[0].act3.register_forward_hook(get_features('conv_layer_9'))\n",
    "\n",
    "model.layer1[1].act1.register_forward_hook(get_features('conv_layer_15'))\n",
    "model.layer1[1].act2.register_forward_hook(get_features('conv_layer_18'))\n",
    "model.layer1[1].act3.register_forward_hook(get_features('conv_layer_21'))\n",
    "\n",
    "model.layer1[2].act1.register_forward_hook(get_features('conv_layer_24'))\n",
    "model.layer1[2].act2.register_forward_hook(get_features('conv_layer_27'))\n",
    "model.layer1[2].act3.register_forward_hook(get_features('conv_layer_30'))\n",
    "\n",
    "model.layer2[0].act1.register_forward_hook(get_features('conv_layer_33'))\n",
    "model.layer2[0].act2.register_forward_hook(get_features('conv_layer_36'))\n",
    "model.layer2[0].act3.register_forward_hook(get_features('conv_layer_39'))\n",
    "\n",
    "model.layer2[1].act1.register_forward_hook(get_features('conv_layer_45'))\n",
    "model.layer2[1].act2.register_forward_hook(get_features('conv_layer_48'))\n",
    "model.layer2[1].act3.register_forward_hook(get_features('conv_layer_51'))\n",
    "\n",
    "model.layer2[2].act1.register_forward_hook(get_features('conv_layer_54'))\n",
    "model.layer2[2].act2.register_forward_hook(get_features('conv_layer_57'))\n",
    "model.layer2[2].act3.register_forward_hook(get_features('conv_layer_60'))\n",
    "\n",
    "model.layer2[3].act1.register_forward_hook(get_features('conv_layer_63'))\n",
    "model.layer2[3].act2.register_forward_hook(get_features('conv_layer_66'))\n",
    "model.layer2[3].act3.register_forward_hook(get_features('conv_layer_69'))\n",
    "\n",
    "model.layer3[0].act1.register_forward_hook(get_features('conv_layer_72'))\n",
    "model.layer3[0].act2.register_forward_hook(get_features('conv_layer_75'))\n",
    "model.layer3[0].act3.register_forward_hook(get_features('conv_layer_78'))\n",
    "\n",
    "model.layer3[1].act1.register_forward_hook(get_features('conv_layer_84'))\n",
    "model.layer3[1].act2.register_forward_hook(get_features('conv_layer_87'))\n",
    "model.layer3[1].act3.register_forward_hook(get_features('conv_layer_90'))\n",
    "    \n",
    "model.layer3[2].act1.register_forward_hook(get_features('conv_layer_93'))\n",
    "model.layer3[2].act2.register_forward_hook(get_features('conv_layer_96'))\n",
    "model.layer3[2].act3.register_forward_hook(get_features('conv_layer_99'))\n",
    "    \n",
    "model.layer3[3].act1.register_forward_hook(get_features('conv_layer_102'))\n",
    "model.layer3[3].act2.register_forward_hook(get_features('conv_layer_105'))\n",
    "model.layer3[3].act3.register_forward_hook(get_features('conv_layer_108'))\n",
    "\n",
    "model.layer3[4].act1.register_forward_hook(get_features('conv_layer_111'))\n",
    "model.layer3[4].act2.register_forward_hook(get_features('conv_layer_114'))\n",
    "model.layer3[4].act3.register_forward_hook(get_features('conv_layer_117'))\n",
    "\n",
    "model.layer3[5].act1.register_forward_hook(get_features('conv_layer_120'))\n",
    "model.layer3[5].act2.register_forward_hook(get_features('conv_layer_123'))\n",
    "model.layer3[5].act3.register_forward_hook(get_features('conv_layer_126'))    \n",
    "\n",
    "model.layer4[0].act1.register_forward_hook(get_features('conv_layer_129'))\n",
    "model.layer4[0].act2.register_forward_hook(get_features('conv_layer_132'))\n",
    "model.layer4[0].act3.register_forward_hook(get_features('conv_layer_135'))    \n",
    "\n",
    "model.layer4[1].act1.register_forward_hook(get_features('conv_layer_141'))\n",
    "model.layer4[1].act2.register_forward_hook(get_features('conv_layer_144'))\n",
    "model.layer4[1].act3.register_forward_hook(get_features('conv_layer_147'))    \n",
    "\n",
    "model.layer4[2].act1.register_forward_hook(get_features('conv_layer_150'))\n",
    "model.layer4[2].act2.register_forward_hook(get_features('conv_layer_153'))\n",
    "model.layer4[2].act3.register_forward_hook(get_features('conv_layer_156'))    "
   ]
  },
  {
   "cell_type": "code",
   "execution_count": 16,
   "metadata": {},
   "outputs": [
    {
     "name": "stdout",
     "output_type": "stream",
     "text": [
      "kmeans for output of conv layer#0\n",
      "current feature map dim: torch.Size([64, 3, 7, 7])\n",
      "Initializing parameter#3 with size: torch.Size([64, 64, 1, 1])\n",
      "num_feats:64, num_ch:64, patch_size:(1, 1)\n",
      "kmeans for output of conv layer#3\n",
      "current feature map dim: torch.Size([64, 64, 1, 1])\n",
      "Initializing parameter#6 with size: torch.Size([64, 64, 3, 3])\n",
      "num_feats:64, num_ch:64, patch_size:(3, 3)\n"
     ]
    },
    {
     "name": "stderr",
     "output_type": "stream",
     "text": [
      "/home/mila/s/sara.ebrahim-elkafrawy/.conda/envs/gis/lib/python3.6/site-packages/ipykernel_launcher.py:60: RuntimeWarning: invalid value encountered in true_divide\n",
      "/home/mila/s/sara.ebrahim-elkafrawy/.conda/envs/gis/lib/python3.6/site-packages/ipykernel_launcher.py:60: RuntimeWarning: invalid value encountered in true_divide\n",
      "/home/mila/s/sara.ebrahim-elkafrawy/.conda/envs/gis/lib/python3.6/site-packages/ipykernel_launcher.py:60: RuntimeWarning: invalid value encountered in true_divide\n",
      "/home/mila/s/sara.ebrahim-elkafrawy/.conda/envs/gis/lib/python3.6/site-packages/ipykernel_launcher.py:60: RuntimeWarning: invalid value encountered in true_divide\n",
      "/home/mila/s/sara.ebrahim-elkafrawy/.conda/envs/gis/lib/python3.6/site-packages/ipykernel_launcher.py:60: RuntimeWarning: invalid value encountered in true_divide\n",
      "/home/mila/s/sara.ebrahim-elkafrawy/.conda/envs/gis/lib/python3.6/site-packages/ipykernel_launcher.py:60: RuntimeWarning: invalid value encountered in true_divide\n",
      "/home/mila/s/sara.ebrahim-elkafrawy/.conda/envs/gis/lib/python3.6/site-packages/ipykernel_launcher.py:60: RuntimeWarning: invalid value encountered in true_divide\n",
      "/home/mila/s/sara.ebrahim-elkafrawy/.conda/envs/gis/lib/python3.6/site-packages/ipykernel_launcher.py:60: RuntimeWarning: invalid value encountered in true_divide\n",
      "/home/mila/s/sara.ebrahim-elkafrawy/.conda/envs/gis/lib/python3.6/site-packages/ipykernel_launcher.py:60: RuntimeWarning: invalid value encountered in true_divide\n",
      "/home/mila/s/sara.ebrahim-elkafrawy/.conda/envs/gis/lib/python3.6/site-packages/ipykernel_launcher.py:60: RuntimeWarning: invalid value encountered in true_divide\n",
      "/home/mila/s/sara.ebrahim-elkafrawy/.conda/envs/gis/lib/python3.6/site-packages/ipykernel_launcher.py:60: RuntimeWarning: invalid value encountered in true_divide\n",
      "/home/mila/s/sara.ebrahim-elkafrawy/.conda/envs/gis/lib/python3.6/site-packages/ipykernel_launcher.py:60: RuntimeWarning: invalid value encountered in true_divide\n",
      "/home/mila/s/sara.ebrahim-elkafrawy/.conda/envs/gis/lib/python3.6/site-packages/ipykernel_launcher.py:60: RuntimeWarning: invalid value encountered in true_divide\n",
      "/home/mila/s/sara.ebrahim-elkafrawy/.conda/envs/gis/lib/python3.6/site-packages/ipykernel_launcher.py:60: RuntimeWarning: invalid value encountered in true_divide\n",
      "/home/mila/s/sara.ebrahim-elkafrawy/.conda/envs/gis/lib/python3.6/site-packages/ipykernel_launcher.py:60: RuntimeWarning: invalid value encountered in true_divide\n"
     ]
    },
    {
     "name": "stdout",
     "output_type": "stream",
     "text": [
      "kmeans for output of conv layer#6\n",
      "current feature map dim: torch.Size([64, 64, 3, 3])\n",
      "Initializing parameter#9 with size: torch.Size([256, 64, 1, 1])\n",
      "num_feats:256, num_ch:64, patch_size:(1, 1)\n",
      "kmeans for output of conv layer#9\n",
      "current feature map dim: torch.Size([256, 64, 1, 1])\n",
      "Initializing parameter#15 with size: torch.Size([64, 256, 1, 1])\n",
      "num_feats:64, num_ch:256, patch_size:(1, 1)\n",
      "[MiniBatchKMeans] Reassigning 3 cluster centers.\n"
     ]
    },
    {
     "name": "stderr",
     "output_type": "stream",
     "text": [
      "/home/mila/s/sara.ebrahim-elkafrawy/.conda/envs/gis/lib/python3.6/site-packages/ipykernel_launcher.py:60: RuntimeWarning: invalid value encountered in true_divide\n"
     ]
    },
    {
     "name": "stdout",
     "output_type": "stream",
     "text": [
      "kmeans for output of conv layer#15\n",
      "current feature map dim: torch.Size([64, 256, 1, 1])\n",
      "Initializing parameter#18 with size: torch.Size([64, 64, 3, 3])\n",
      "num_feats:64, num_ch:64, patch_size:(3, 3)\n",
      "[MiniBatchKMeans] Reassigning 5 cluster centers.\n"
     ]
    },
    {
     "name": "stderr",
     "output_type": "stream",
     "text": [
      "/home/mila/s/sara.ebrahim-elkafrawy/.conda/envs/gis/lib/python3.6/site-packages/ipykernel_launcher.py:60: RuntimeWarning: invalid value encountered in true_divide\n",
      "/home/mila/s/sara.ebrahim-elkafrawy/.conda/envs/gis/lib/python3.6/site-packages/ipykernel_launcher.py:60: RuntimeWarning: invalid value encountered in true_divide\n"
     ]
    },
    {
     "name": "stdout",
     "output_type": "stream",
     "text": [
      "kmeans for output of conv layer#18\n",
      "current feature map dim: torch.Size([64, 64, 3, 3])\n",
      "Initializing parameter#21 with size: torch.Size([256, 64, 1, 1])\n",
      "num_feats:256, num_ch:64, patch_size:(1, 1)\n",
      "kmeans for output of conv layer#21\n",
      "current feature map dim: torch.Size([256, 64, 1, 1])\n",
      "Initializing parameter#24 with size: torch.Size([64, 256, 1, 1])\n",
      "num_feats:64, num_ch:256, patch_size:(1, 1)\n"
     ]
    },
    {
     "name": "stderr",
     "output_type": "stream",
     "text": [
      "/home/mila/s/sara.ebrahim-elkafrawy/.conda/envs/gis/lib/python3.6/site-packages/ipykernel_launcher.py:60: RuntimeWarning: invalid value encountered in true_divide\n",
      "/home/mila/s/sara.ebrahim-elkafrawy/.conda/envs/gis/lib/python3.6/site-packages/ipykernel_launcher.py:60: RuntimeWarning: invalid value encountered in true_divide\n",
      "/home/mila/s/sara.ebrahim-elkafrawy/.conda/envs/gis/lib/python3.6/site-packages/ipykernel_launcher.py:60: RuntimeWarning: invalid value encountered in true_divide\n",
      "/home/mila/s/sara.ebrahim-elkafrawy/.conda/envs/gis/lib/python3.6/site-packages/ipykernel_launcher.py:60: RuntimeWarning: invalid value encountered in true_divide\n",
      "/home/mila/s/sara.ebrahim-elkafrawy/.conda/envs/gis/lib/python3.6/site-packages/ipykernel_launcher.py:60: RuntimeWarning: invalid value encountered in true_divide\n",
      "/home/mila/s/sara.ebrahim-elkafrawy/.conda/envs/gis/lib/python3.6/site-packages/ipykernel_launcher.py:60: RuntimeWarning: invalid value encountered in true_divide\n",
      "/home/mila/s/sara.ebrahim-elkafrawy/.conda/envs/gis/lib/python3.6/site-packages/ipykernel_launcher.py:60: RuntimeWarning: invalid value encountered in true_divide\n",
      "/home/mila/s/sara.ebrahim-elkafrawy/.conda/envs/gis/lib/python3.6/site-packages/ipykernel_launcher.py:60: RuntimeWarning: invalid value encountered in true_divide\n",
      "/home/mila/s/sara.ebrahim-elkafrawy/.conda/envs/gis/lib/python3.6/site-packages/ipykernel_launcher.py:60: RuntimeWarning: invalid value encountered in true_divide\n",
      "/home/mila/s/sara.ebrahim-elkafrawy/.conda/envs/gis/lib/python3.6/site-packages/ipykernel_launcher.py:60: RuntimeWarning: invalid value encountered in true_divide\n",
      "/home/mila/s/sara.ebrahim-elkafrawy/.conda/envs/gis/lib/python3.6/site-packages/ipykernel_launcher.py:60: RuntimeWarning: invalid value encountered in true_divide\n",
      "/home/mila/s/sara.ebrahim-elkafrawy/.conda/envs/gis/lib/python3.6/site-packages/ipykernel_launcher.py:60: RuntimeWarning: invalid value encountered in true_divide\n",
      "/home/mila/s/sara.ebrahim-elkafrawy/.conda/envs/gis/lib/python3.6/site-packages/ipykernel_launcher.py:60: RuntimeWarning: invalid value encountered in true_divide\n",
      "/home/mila/s/sara.ebrahim-elkafrawy/.conda/envs/gis/lib/python3.6/site-packages/ipykernel_launcher.py:60: RuntimeWarning: invalid value encountered in true_divide\n",
      "/home/mila/s/sara.ebrahim-elkafrawy/.conda/envs/gis/lib/python3.6/site-packages/ipykernel_launcher.py:60: RuntimeWarning: invalid value encountered in true_divide\n",
      "/home/mila/s/sara.ebrahim-elkafrawy/.conda/envs/gis/lib/python3.6/site-packages/ipykernel_launcher.py:60: RuntimeWarning: invalid value encountered in true_divide\n",
      "/home/mila/s/sara.ebrahim-elkafrawy/.conda/envs/gis/lib/python3.6/site-packages/ipykernel_launcher.py:60: RuntimeWarning: invalid value encountered in true_divide\n",
      "/home/mila/s/sara.ebrahim-elkafrawy/.conda/envs/gis/lib/python3.6/site-packages/ipykernel_launcher.py:60: RuntimeWarning: invalid value encountered in true_divide\n",
      "/home/mila/s/sara.ebrahim-elkafrawy/.conda/envs/gis/lib/python3.6/site-packages/ipykernel_launcher.py:60: RuntimeWarning: invalid value encountered in true_divide\n",
      "/home/mila/s/sara.ebrahim-elkafrawy/.conda/envs/gis/lib/python3.6/site-packages/ipykernel_launcher.py:60: RuntimeWarning: invalid value encountered in true_divide\n",
      "/home/mila/s/sara.ebrahim-elkafrawy/.conda/envs/gis/lib/python3.6/site-packages/ipykernel_launcher.py:60: RuntimeWarning: invalid value encountered in true_divide\n",
      "/home/mila/s/sara.ebrahim-elkafrawy/.conda/envs/gis/lib/python3.6/site-packages/ipykernel_launcher.py:60: RuntimeWarning: invalid value encountered in true_divide\n",
      "/home/mila/s/sara.ebrahim-elkafrawy/.conda/envs/gis/lib/python3.6/site-packages/ipykernel_launcher.py:60: RuntimeWarning: invalid value encountered in true_divide\n",
      "/home/mila/s/sara.ebrahim-elkafrawy/.conda/envs/gis/lib/python3.6/site-packages/ipykernel_launcher.py:60: RuntimeWarning: invalid value encountered in true_divide\n",
      "/home/mila/s/sara.ebrahim-elkafrawy/.conda/envs/gis/lib/python3.6/site-packages/ipykernel_launcher.py:60: RuntimeWarning: invalid value encountered in true_divide\n",
      "/home/mila/s/sara.ebrahim-elkafrawy/.conda/envs/gis/lib/python3.6/site-packages/ipykernel_launcher.py:60: RuntimeWarning: invalid value encountered in true_divide\n",
      "/home/mila/s/sara.ebrahim-elkafrawy/.conda/envs/gis/lib/python3.6/site-packages/ipykernel_launcher.py:60: RuntimeWarning: invalid value encountered in true_divide\n",
      "/home/mila/s/sara.ebrahim-elkafrawy/.conda/envs/gis/lib/python3.6/site-packages/ipykernel_launcher.py:60: RuntimeWarning: invalid value encountered in true_divide\n",
      "/home/mila/s/sara.ebrahim-elkafrawy/.conda/envs/gis/lib/python3.6/site-packages/ipykernel_launcher.py:60: RuntimeWarning: invalid value encountered in true_divide\n"
     ]
    },
    {
     "name": "stdout",
     "output_type": "stream",
     "text": [
      "kmeans for output of conv layer#24\n",
      "current feature map dim: torch.Size([64, 256, 1, 1])\n",
      "Initializing parameter#27 with size: torch.Size([64, 64, 3, 3])\n",
      "num_feats:64, num_ch:64, patch_size:(3, 3)\n",
      "kmeans for output of conv layer#27\n",
      "current feature map dim: torch.Size([64, 64, 3, 3])\n",
      "Initializing parameter#30 with size: torch.Size([256, 64, 1, 1])\n",
      "num_feats:256, num_ch:64, patch_size:(1, 1)\n",
      "kmeans for output of conv layer#30\n",
      "current feature map dim: torch.Size([256, 64, 1, 1])\n",
      "Initializing parameter#33 with size: torch.Size([128, 256, 1, 1])\n",
      "num_feats:128, num_ch:256, patch_size:(1, 1)\n"
     ]
    },
    {
     "name": "stderr",
     "output_type": "stream",
     "text": [
      "/home/mila/s/sara.ebrahim-elkafrawy/.conda/envs/gis/lib/python3.6/site-packages/ipykernel_launcher.py:60: RuntimeWarning: invalid value encountered in true_divide\n",
      "/home/mila/s/sara.ebrahim-elkafrawy/.conda/envs/gis/lib/python3.6/site-packages/ipykernel_launcher.py:60: RuntimeWarning: invalid value encountered in true_divide\n"
     ]
    },
    {
     "name": "stdout",
     "output_type": "stream",
     "text": [
      "kmeans for output of conv layer#33\n",
      "current feature map dim: torch.Size([128, 256, 1, 1])\n",
      "Initializing parameter#36 with size: torch.Size([128, 128, 3, 3])\n",
      "num_feats:128, num_ch:128, patch_size:(3, 3)\n"
     ]
    },
    {
     "name": "stderr",
     "output_type": "stream",
     "text": [
      "/home/mila/s/sara.ebrahim-elkafrawy/.conda/envs/gis/lib/python3.6/site-packages/ipykernel_launcher.py:60: RuntimeWarning: invalid value encountered in true_divide\n",
      "/home/mila/s/sara.ebrahim-elkafrawy/.conda/envs/gis/lib/python3.6/site-packages/ipykernel_launcher.py:60: RuntimeWarning: invalid value encountered in true_divide\n",
      "/home/mila/s/sara.ebrahim-elkafrawy/.conda/envs/gis/lib/python3.6/site-packages/ipykernel_launcher.py:60: RuntimeWarning: invalid value encountered in true_divide\n",
      "/home/mila/s/sara.ebrahim-elkafrawy/.conda/envs/gis/lib/python3.6/site-packages/ipykernel_launcher.py:60: RuntimeWarning: invalid value encountered in true_divide\n",
      "/home/mila/s/sara.ebrahim-elkafrawy/.conda/envs/gis/lib/python3.6/site-packages/ipykernel_launcher.py:60: RuntimeWarning: invalid value encountered in true_divide\n",
      "/home/mila/s/sara.ebrahim-elkafrawy/.conda/envs/gis/lib/python3.6/site-packages/ipykernel_launcher.py:60: RuntimeWarning: invalid value encountered in true_divide\n",
      "/home/mila/s/sara.ebrahim-elkafrawy/.conda/envs/gis/lib/python3.6/site-packages/ipykernel_launcher.py:60: RuntimeWarning: invalid value encountered in true_divide\n",
      "/home/mila/s/sara.ebrahim-elkafrawy/.conda/envs/gis/lib/python3.6/site-packages/ipykernel_launcher.py:60: RuntimeWarning: invalid value encountered in true_divide\n",
      "/home/mila/s/sara.ebrahim-elkafrawy/.conda/envs/gis/lib/python3.6/site-packages/ipykernel_launcher.py:60: RuntimeWarning: invalid value encountered in true_divide\n",
      "/home/mila/s/sara.ebrahim-elkafrawy/.conda/envs/gis/lib/python3.6/site-packages/ipykernel_launcher.py:60: RuntimeWarning: invalid value encountered in true_divide\n",
      "/home/mila/s/sara.ebrahim-elkafrawy/.conda/envs/gis/lib/python3.6/site-packages/ipykernel_launcher.py:60: RuntimeWarning: invalid value encountered in true_divide\n",
      "/home/mila/s/sara.ebrahim-elkafrawy/.conda/envs/gis/lib/python3.6/site-packages/ipykernel_launcher.py:60: RuntimeWarning: invalid value encountered in true_divide\n",
      "/home/mila/s/sara.ebrahim-elkafrawy/.conda/envs/gis/lib/python3.6/site-packages/ipykernel_launcher.py:60: RuntimeWarning: invalid value encountered in true_divide\n",
      "/home/mila/s/sara.ebrahim-elkafrawy/.conda/envs/gis/lib/python3.6/site-packages/ipykernel_launcher.py:60: RuntimeWarning: invalid value encountered in true_divide\n",
      "/home/mila/s/sara.ebrahim-elkafrawy/.conda/envs/gis/lib/python3.6/site-packages/ipykernel_launcher.py:60: RuntimeWarning: invalid value encountered in true_divide\n",
      "/home/mila/s/sara.ebrahim-elkafrawy/.conda/envs/gis/lib/python3.6/site-packages/ipykernel_launcher.py:60: RuntimeWarning: invalid value encountered in true_divide\n",
      "/home/mila/s/sara.ebrahim-elkafrawy/.conda/envs/gis/lib/python3.6/site-packages/ipykernel_launcher.py:60: RuntimeWarning: invalid value encountered in true_divide\n",
      "/home/mila/s/sara.ebrahim-elkafrawy/.conda/envs/gis/lib/python3.6/site-packages/ipykernel_launcher.py:60: RuntimeWarning: invalid value encountered in true_divide\n",
      "/home/mila/s/sara.ebrahim-elkafrawy/.conda/envs/gis/lib/python3.6/site-packages/ipykernel_launcher.py:60: RuntimeWarning: invalid value encountered in true_divide\n",
      "/home/mila/s/sara.ebrahim-elkafrawy/.conda/envs/gis/lib/python3.6/site-packages/ipykernel_launcher.py:60: RuntimeWarning: invalid value encountered in true_divide\n",
      "/home/mila/s/sara.ebrahim-elkafrawy/.conda/envs/gis/lib/python3.6/site-packages/ipykernel_launcher.py:60: RuntimeWarning: invalid value encountered in true_divide\n",
      "/home/mila/s/sara.ebrahim-elkafrawy/.conda/envs/gis/lib/python3.6/site-packages/ipykernel_launcher.py:60: RuntimeWarning: invalid value encountered in true_divide\n"
     ]
    },
    {
     "name": "stdout",
     "output_type": "stream",
     "text": [
      "[MiniBatchKMeans] Reassigning 6 cluster centers.\n"
     ]
    },
    {
     "name": "stderr",
     "output_type": "stream",
     "text": [
      "/home/mila/s/sara.ebrahim-elkafrawy/.conda/envs/gis/lib/python3.6/site-packages/ipykernel_launcher.py:60: RuntimeWarning: invalid value encountered in true_divide\n",
      "/home/mila/s/sara.ebrahim-elkafrawy/.conda/envs/gis/lib/python3.6/site-packages/ipykernel_launcher.py:60: RuntimeWarning: invalid value encountered in true_divide\n",
      "/home/mila/s/sara.ebrahim-elkafrawy/.conda/envs/gis/lib/python3.6/site-packages/ipykernel_launcher.py:60: RuntimeWarning: invalid value encountered in true_divide\n",
      "/home/mila/s/sara.ebrahim-elkafrawy/.conda/envs/gis/lib/python3.6/site-packages/ipykernel_launcher.py:60: RuntimeWarning: invalid value encountered in true_divide\n",
      "/home/mila/s/sara.ebrahim-elkafrawy/.conda/envs/gis/lib/python3.6/site-packages/ipykernel_launcher.py:60: RuntimeWarning: invalid value encountered in true_divide\n",
      "/home/mila/s/sara.ebrahim-elkafrawy/.conda/envs/gis/lib/python3.6/site-packages/ipykernel_launcher.py:60: RuntimeWarning: invalid value encountered in true_divide\n",
      "/home/mila/s/sara.ebrahim-elkafrawy/.conda/envs/gis/lib/python3.6/site-packages/ipykernel_launcher.py:60: RuntimeWarning: invalid value encountered in true_divide\n",
      "/home/mila/s/sara.ebrahim-elkafrawy/.conda/envs/gis/lib/python3.6/site-packages/ipykernel_launcher.py:60: RuntimeWarning: invalid value encountered in true_divide\n"
     ]
    },
    {
     "name": "stdout",
     "output_type": "stream",
     "text": [
      "kmeans for output of conv layer#36\n",
      "current feature map dim: torch.Size([128, 128, 3, 3])\n",
      "Initializing parameter#39 with size: torch.Size([512, 128, 1, 1])\n",
      "num_feats:512, num_ch:128, patch_size:(1, 1)\n",
      "[MiniBatchKMeans] Reassigning 13 cluster centers.\n",
      "kmeans for output of conv layer#39\n",
      "current feature map dim: torch.Size([512, 128, 1, 1])\n",
      "Initializing parameter#45 with size: torch.Size([128, 512, 1, 1])\n",
      "num_feats:128, num_ch:512, patch_size:(1, 1)\n"
     ]
    },
    {
     "name": "stderr",
     "output_type": "stream",
     "text": [
      "/home/mila/s/sara.ebrahim-elkafrawy/.conda/envs/gis/lib/python3.6/site-packages/ipykernel_launcher.py:60: RuntimeWarning: invalid value encountered in true_divide\n",
      "/home/mila/s/sara.ebrahim-elkafrawy/.conda/envs/gis/lib/python3.6/site-packages/ipykernel_launcher.py:60: RuntimeWarning: invalid value encountered in true_divide\n",
      "/home/mila/s/sara.ebrahim-elkafrawy/.conda/envs/gis/lib/python3.6/site-packages/ipykernel_launcher.py:60: RuntimeWarning: invalid value encountered in true_divide\n",
      "/home/mila/s/sara.ebrahim-elkafrawy/.conda/envs/gis/lib/python3.6/site-packages/ipykernel_launcher.py:60: RuntimeWarning: invalid value encountered in true_divide\n",
      "/home/mila/s/sara.ebrahim-elkafrawy/.conda/envs/gis/lib/python3.6/site-packages/ipykernel_launcher.py:60: RuntimeWarning: invalid value encountered in true_divide\n",
      "/home/mila/s/sara.ebrahim-elkafrawy/.conda/envs/gis/lib/python3.6/site-packages/ipykernel_launcher.py:60: RuntimeWarning: invalid value encountered in true_divide\n",
      "/home/mila/s/sara.ebrahim-elkafrawy/.conda/envs/gis/lib/python3.6/site-packages/ipykernel_launcher.py:60: RuntimeWarning: invalid value encountered in true_divide\n",
      "/home/mila/s/sara.ebrahim-elkafrawy/.conda/envs/gis/lib/python3.6/site-packages/ipykernel_launcher.py:60: RuntimeWarning: invalid value encountered in true_divide\n",
      "/home/mila/s/sara.ebrahim-elkafrawy/.conda/envs/gis/lib/python3.6/site-packages/ipykernel_launcher.py:60: RuntimeWarning: invalid value encountered in true_divide\n",
      "/home/mila/s/sara.ebrahim-elkafrawy/.conda/envs/gis/lib/python3.6/site-packages/ipykernel_launcher.py:60: RuntimeWarning: invalid value encountered in true_divide\n"
     ]
    },
    {
     "name": "stdout",
     "output_type": "stream",
     "text": [
      "[MiniBatchKMeans] Reassigning 4 cluster centers.\n"
     ]
    },
    {
     "name": "stderr",
     "output_type": "stream",
     "text": [
      "/home/mila/s/sara.ebrahim-elkafrawy/.conda/envs/gis/lib/python3.6/site-packages/ipykernel_launcher.py:60: RuntimeWarning: invalid value encountered in true_divide\n",
      "/home/mila/s/sara.ebrahim-elkafrawy/.conda/envs/gis/lib/python3.6/site-packages/ipykernel_launcher.py:60: RuntimeWarning: invalid value encountered in true_divide\n"
     ]
    },
    {
     "name": "stdout",
     "output_type": "stream",
     "text": [
      "[MiniBatchKMeans] Reassigning 2 cluster centers.\n"
     ]
    },
    {
     "name": "stderr",
     "output_type": "stream",
     "text": [
      "/home/mila/s/sara.ebrahim-elkafrawy/.conda/envs/gis/lib/python3.6/site-packages/ipykernel_launcher.py:60: RuntimeWarning: invalid value encountered in true_divide\n",
      "/home/mila/s/sara.ebrahim-elkafrawy/.conda/envs/gis/lib/python3.6/site-packages/ipykernel_launcher.py:60: RuntimeWarning: invalid value encountered in true_divide\n",
      "/home/mila/s/sara.ebrahim-elkafrawy/.conda/envs/gis/lib/python3.6/site-packages/ipykernel_launcher.py:60: RuntimeWarning: invalid value encountered in true_divide\n",
      "/home/mila/s/sara.ebrahim-elkafrawy/.conda/envs/gis/lib/python3.6/site-packages/ipykernel_launcher.py:60: RuntimeWarning: invalid value encountered in true_divide\n",
      "/home/mila/s/sara.ebrahim-elkafrawy/.conda/envs/gis/lib/python3.6/site-packages/ipykernel_launcher.py:60: RuntimeWarning: invalid value encountered in true_divide\n",
      "/home/mila/s/sara.ebrahim-elkafrawy/.conda/envs/gis/lib/python3.6/site-packages/ipykernel_launcher.py:60: RuntimeWarning: invalid value encountered in true_divide\n",
      "/home/mila/s/sara.ebrahim-elkafrawy/.conda/envs/gis/lib/python3.6/site-packages/ipykernel_launcher.py:60: RuntimeWarning: invalid value encountered in true_divide\n",
      "/home/mila/s/sara.ebrahim-elkafrawy/.conda/envs/gis/lib/python3.6/site-packages/ipykernel_launcher.py:60: RuntimeWarning: invalid value encountered in true_divide\n",
      "/home/mila/s/sara.ebrahim-elkafrawy/.conda/envs/gis/lib/python3.6/site-packages/ipykernel_launcher.py:60: RuntimeWarning: invalid value encountered in true_divide\n",
      "/home/mila/s/sara.ebrahim-elkafrawy/.conda/envs/gis/lib/python3.6/site-packages/ipykernel_launcher.py:60: RuntimeWarning: invalid value encountered in true_divide\n",
      "/home/mila/s/sara.ebrahim-elkafrawy/.conda/envs/gis/lib/python3.6/site-packages/ipykernel_launcher.py:60: RuntimeWarning: invalid value encountered in true_divide\n",
      "/home/mila/s/sara.ebrahim-elkafrawy/.conda/envs/gis/lib/python3.6/site-packages/ipykernel_launcher.py:60: RuntimeWarning: invalid value encountered in true_divide\n",
      "/home/mila/s/sara.ebrahim-elkafrawy/.conda/envs/gis/lib/python3.6/site-packages/ipykernel_launcher.py:60: RuntimeWarning: invalid value encountered in true_divide\n",
      "/home/mila/s/sara.ebrahim-elkafrawy/.conda/envs/gis/lib/python3.6/site-packages/ipykernel_launcher.py:60: RuntimeWarning: invalid value encountered in true_divide\n",
      "/home/mila/s/sara.ebrahim-elkafrawy/.conda/envs/gis/lib/python3.6/site-packages/ipykernel_launcher.py:60: RuntimeWarning: invalid value encountered in true_divide\n",
      "/home/mila/s/sara.ebrahim-elkafrawy/.conda/envs/gis/lib/python3.6/site-packages/ipykernel_launcher.py:60: RuntimeWarning: invalid value encountered in true_divide\n",
      "/home/mila/s/sara.ebrahim-elkafrawy/.conda/envs/gis/lib/python3.6/site-packages/ipykernel_launcher.py:60: RuntimeWarning: invalid value encountered in true_divide\n",
      "/home/mila/s/sara.ebrahim-elkafrawy/.conda/envs/gis/lib/python3.6/site-packages/ipykernel_launcher.py:60: RuntimeWarning: invalid value encountered in true_divide\n"
     ]
    },
    {
     "name": "stdout",
     "output_type": "stream",
     "text": [
      "kmeans for output of conv layer#45\n",
      "current feature map dim: torch.Size([128, 512, 1, 1])\n",
      "Initializing parameter#48 with size: torch.Size([128, 128, 3, 3])\n",
      "num_feats:128, num_ch:128, patch_size:(3, 3)\n",
      "[MiniBatchKMeans] Reassigning 19 cluster centers.\n",
      "kmeans for output of conv layer#48\n",
      "current feature map dim: torch.Size([128, 128, 3, 3])\n",
      "Initializing parameter#51 with size: torch.Size([512, 128, 1, 1])\n",
      "num_feats:512, num_ch:128, patch_size:(1, 1)\n"
     ]
    },
    {
     "name": "stderr",
     "output_type": "stream",
     "text": [
      "/home/mila/s/sara.ebrahim-elkafrawy/.conda/envs/gis/lib/python3.6/site-packages/ipykernel_launcher.py:60: RuntimeWarning: invalid value encountered in true_divide\n"
     ]
    },
    {
     "name": "stdout",
     "output_type": "stream",
     "text": [
      "[MiniBatchKMeans] Reassigning 82 cluster centers.\n"
     ]
    },
    {
     "name": "stderr",
     "output_type": "stream",
     "text": [
      "/home/mila/s/sara.ebrahim-elkafrawy/.conda/envs/gis/lib/python3.6/site-packages/ipykernel_launcher.py:60: RuntimeWarning: invalid value encountered in true_divide\n",
      "/home/mila/s/sara.ebrahim-elkafrawy/.conda/envs/gis/lib/python3.6/site-packages/ipykernel_launcher.py:60: RuntimeWarning: invalid value encountered in true_divide\n",
      "/home/mila/s/sara.ebrahim-elkafrawy/.conda/envs/gis/lib/python3.6/site-packages/ipykernel_launcher.py:60: RuntimeWarning: invalid value encountered in true_divide\n",
      "/home/mila/s/sara.ebrahim-elkafrawy/.conda/envs/gis/lib/python3.6/site-packages/ipykernel_launcher.py:60: RuntimeWarning: invalid value encountered in true_divide\n",
      "/home/mila/s/sara.ebrahim-elkafrawy/.conda/envs/gis/lib/python3.6/site-packages/ipykernel_launcher.py:60: RuntimeWarning: invalid value encountered in true_divide\n"
     ]
    },
    {
     "name": "stdout",
     "output_type": "stream",
     "text": [
      "kmeans for output of conv layer#51\n",
      "current feature map dim: torch.Size([512, 128, 1, 1])\n",
      "Initializing parameter#54 with size: torch.Size([128, 512, 1, 1])\n",
      "num_feats:128, num_ch:512, patch_size:(1, 1)\n",
      "[MiniBatchKMeans] Reassigning 4 cluster centers.\n",
      "kmeans for output of conv layer#54\n",
      "current feature map dim: torch.Size([128, 512, 1, 1])\n",
      "Initializing parameter#57 with size: torch.Size([128, 128, 3, 3])\n",
      "num_feats:128, num_ch:128, patch_size:(3, 3)\n",
      "[MiniBatchKMeans] Reassigning 12 cluster centers.\n",
      "kmeans for output of conv layer#57\n",
      "current feature map dim: torch.Size([128, 128, 3, 3])\n",
      "Initializing parameter#60 with size: torch.Size([512, 128, 1, 1])\n",
      "num_feats:512, num_ch:128, patch_size:(1, 1)\n",
      "[MiniBatchKMeans] Reassigning 64 cluster centers.\n",
      "kmeans for output of conv layer#60\n",
      "current feature map dim: torch.Size([512, 128, 1, 1])\n",
      "Initializing parameter#63 with size: torch.Size([128, 512, 1, 1])\n",
      "num_feats:128, num_ch:512, patch_size:(1, 1)\n"
     ]
    },
    {
     "name": "stderr",
     "output_type": "stream",
     "text": [
      "/home/mila/s/sara.ebrahim-elkafrawy/.conda/envs/gis/lib/python3.6/site-packages/ipykernel_launcher.py:60: RuntimeWarning: invalid value encountered in true_divide\n",
      "/home/mila/s/sara.ebrahim-elkafrawy/.conda/envs/gis/lib/python3.6/site-packages/ipykernel_launcher.py:60: RuntimeWarning: invalid value encountered in true_divide\n",
      "/home/mila/s/sara.ebrahim-elkafrawy/.conda/envs/gis/lib/python3.6/site-packages/ipykernel_launcher.py:60: RuntimeWarning: invalid value encountered in true_divide\n",
      "/home/mila/s/sara.ebrahim-elkafrawy/.conda/envs/gis/lib/python3.6/site-packages/ipykernel_launcher.py:60: RuntimeWarning: invalid value encountered in true_divide\n",
      "/home/mila/s/sara.ebrahim-elkafrawy/.conda/envs/gis/lib/python3.6/site-packages/ipykernel_launcher.py:60: RuntimeWarning: invalid value encountered in true_divide\n",
      "/home/mila/s/sara.ebrahim-elkafrawy/.conda/envs/gis/lib/python3.6/site-packages/ipykernel_launcher.py:60: RuntimeWarning: invalid value encountered in true_divide\n",
      "/home/mila/s/sara.ebrahim-elkafrawy/.conda/envs/gis/lib/python3.6/site-packages/ipykernel_launcher.py:60: RuntimeWarning: invalid value encountered in true_divide\n",
      "/home/mila/s/sara.ebrahim-elkafrawy/.conda/envs/gis/lib/python3.6/site-packages/ipykernel_launcher.py:60: RuntimeWarning: invalid value encountered in true_divide\n",
      "/home/mila/s/sara.ebrahim-elkafrawy/.conda/envs/gis/lib/python3.6/site-packages/ipykernel_launcher.py:60: RuntimeWarning: invalid value encountered in true_divide\n",
      "/home/mila/s/sara.ebrahim-elkafrawy/.conda/envs/gis/lib/python3.6/site-packages/ipykernel_launcher.py:60: RuntimeWarning: invalid value encountered in true_divide\n",
      "/home/mila/s/sara.ebrahim-elkafrawy/.conda/envs/gis/lib/python3.6/site-packages/ipykernel_launcher.py:60: RuntimeWarning: invalid value encountered in true_divide\n",
      "/home/mila/s/sara.ebrahim-elkafrawy/.conda/envs/gis/lib/python3.6/site-packages/ipykernel_launcher.py:60: RuntimeWarning: invalid value encountered in true_divide\n",
      "/home/mila/s/sara.ebrahim-elkafrawy/.conda/envs/gis/lib/python3.6/site-packages/ipykernel_launcher.py:60: RuntimeWarning: invalid value encountered in true_divide\n",
      "/home/mila/s/sara.ebrahim-elkafrawy/.conda/envs/gis/lib/python3.6/site-packages/ipykernel_launcher.py:60: RuntimeWarning: invalid value encountered in true_divide\n",
      "/home/mila/s/sara.ebrahim-elkafrawy/.conda/envs/gis/lib/python3.6/site-packages/ipykernel_launcher.py:60: RuntimeWarning: invalid value encountered in true_divide\n",
      "/home/mila/s/sara.ebrahim-elkafrawy/.conda/envs/gis/lib/python3.6/site-packages/ipykernel_launcher.py:60: RuntimeWarning: invalid value encountered in true_divide\n",
      "/home/mila/s/sara.ebrahim-elkafrawy/.conda/envs/gis/lib/python3.6/site-packages/ipykernel_launcher.py:60: RuntimeWarning: invalid value encountered in true_divide\n",
      "/home/mila/s/sara.ebrahim-elkafrawy/.conda/envs/gis/lib/python3.6/site-packages/ipykernel_launcher.py:60: RuntimeWarning: invalid value encountered in true_divide\n",
      "/home/mila/s/sara.ebrahim-elkafrawy/.conda/envs/gis/lib/python3.6/site-packages/ipykernel_launcher.py:60: RuntimeWarning: invalid value encountered in true_divide\n",
      "/home/mila/s/sara.ebrahim-elkafrawy/.conda/envs/gis/lib/python3.6/site-packages/ipykernel_launcher.py:60: RuntimeWarning: invalid value encountered in true_divide\n",
      "/home/mila/s/sara.ebrahim-elkafrawy/.conda/envs/gis/lib/python3.6/site-packages/ipykernel_launcher.py:60: RuntimeWarning: invalid value encountered in true_divide\n",
      "/home/mila/s/sara.ebrahim-elkafrawy/.conda/envs/gis/lib/python3.6/site-packages/ipykernel_launcher.py:60: RuntimeWarning: invalid value encountered in true_divide\n",
      "/home/mila/s/sara.ebrahim-elkafrawy/.conda/envs/gis/lib/python3.6/site-packages/ipykernel_launcher.py:60: RuntimeWarning: invalid value encountered in true_divide\n",
      "/home/mila/s/sara.ebrahim-elkafrawy/.conda/envs/gis/lib/python3.6/site-packages/ipykernel_launcher.py:60: RuntimeWarning: invalid value encountered in true_divide\n",
      "/home/mila/s/sara.ebrahim-elkafrawy/.conda/envs/gis/lib/python3.6/site-packages/ipykernel_launcher.py:60: RuntimeWarning: invalid value encountered in true_divide\n",
      "/home/mila/s/sara.ebrahim-elkafrawy/.conda/envs/gis/lib/python3.6/site-packages/ipykernel_launcher.py:60: RuntimeWarning: invalid value encountered in true_divide\n",
      "/home/mila/s/sara.ebrahim-elkafrawy/.conda/envs/gis/lib/python3.6/site-packages/ipykernel_launcher.py:60: RuntimeWarning: invalid value encountered in true_divide\n",
      "/home/mila/s/sara.ebrahim-elkafrawy/.conda/envs/gis/lib/python3.6/site-packages/ipykernel_launcher.py:60: RuntimeWarning: invalid value encountered in true_divide\n",
      "/home/mila/s/sara.ebrahim-elkafrawy/.conda/envs/gis/lib/python3.6/site-packages/ipykernel_launcher.py:60: RuntimeWarning: invalid value encountered in true_divide\n",
      "/home/mila/s/sara.ebrahim-elkafrawy/.conda/envs/gis/lib/python3.6/site-packages/ipykernel_launcher.py:60: RuntimeWarning: invalid value encountered in true_divide\n"
     ]
    },
    {
     "name": "stdout",
     "output_type": "stream",
     "text": [
      "kmeans for output of conv layer#63\n",
      "current feature map dim: torch.Size([128, 512, 1, 1])\n",
      "Initializing parameter#66 with size: torch.Size([128, 128, 3, 3])\n",
      "num_feats:128, num_ch:128, patch_size:(3, 3)\n",
      "[MiniBatchKMeans] Reassigning 14 cluster centers.\n",
      "kmeans for output of conv layer#66\n",
      "current feature map dim: torch.Size([128, 128, 3, 3])\n",
      "Initializing parameter#69 with size: torch.Size([512, 128, 1, 1])\n",
      "num_feats:512, num_ch:128, patch_size:(1, 1)\n",
      "[MiniBatchKMeans] Reassigning 59 cluster centers.\n"
     ]
    },
    {
     "name": "stderr",
     "output_type": "stream",
     "text": [
      "/home/mila/s/sara.ebrahim-elkafrawy/.conda/envs/gis/lib/python3.6/site-packages/ipykernel_launcher.py:60: RuntimeWarning: invalid value encountered in true_divide\n",
      "/home/mila/s/sara.ebrahim-elkafrawy/.conda/envs/gis/lib/python3.6/site-packages/ipykernel_launcher.py:60: RuntimeWarning: invalid value encountered in true_divide\n",
      "/home/mila/s/sara.ebrahim-elkafrawy/.conda/envs/gis/lib/python3.6/site-packages/ipykernel_launcher.py:60: RuntimeWarning: invalid value encountered in true_divide\n",
      "/home/mila/s/sara.ebrahim-elkafrawy/.conda/envs/gis/lib/python3.6/site-packages/ipykernel_launcher.py:60: RuntimeWarning: invalid value encountered in true_divide\n",
      "/home/mila/s/sara.ebrahim-elkafrawy/.conda/envs/gis/lib/python3.6/site-packages/ipykernel_launcher.py:60: RuntimeWarning: invalid value encountered in true_divide\n"
     ]
    },
    {
     "name": "stdout",
     "output_type": "stream",
     "text": [
      "[MiniBatchKMeans] Reassigning 15 cluster centers.\n"
     ]
    },
    {
     "name": "stderr",
     "output_type": "stream",
     "text": [
      "/home/mila/s/sara.ebrahim-elkafrawy/.conda/envs/gis/lib/python3.6/site-packages/ipykernel_launcher.py:60: RuntimeWarning: invalid value encountered in true_divide\n"
     ]
    },
    {
     "name": "stdout",
     "output_type": "stream",
     "text": [
      "kmeans for output of conv layer#69\n",
      "current feature map dim: torch.Size([512, 128, 1, 1])\n",
      "Initializing parameter#72 with size: torch.Size([256, 512, 1, 1])\n",
      "num_feats:256, num_ch:512, patch_size:(1, 1)\n"
     ]
    },
    {
     "name": "stderr",
     "output_type": "stream",
     "text": [
      "/home/mila/s/sara.ebrahim-elkafrawy/.conda/envs/gis/lib/python3.6/site-packages/ipykernel_launcher.py:60: RuntimeWarning: invalid value encountered in true_divide\n",
      "/home/mila/s/sara.ebrahim-elkafrawy/.conda/envs/gis/lib/python3.6/site-packages/ipykernel_launcher.py:60: RuntimeWarning: invalid value encountered in true_divide\n"
     ]
    },
    {
     "name": "stdout",
     "output_type": "stream",
     "text": [
      "[MiniBatchKMeans] Reassigning 28 cluster centers.\n"
     ]
    },
    {
     "name": "stderr",
     "output_type": "stream",
     "text": [
      "/home/mila/s/sara.ebrahim-elkafrawy/.conda/envs/gis/lib/python3.6/site-packages/ipykernel_launcher.py:60: RuntimeWarning: invalid value encountered in true_divide\n",
      "/home/mila/s/sara.ebrahim-elkafrawy/.conda/envs/gis/lib/python3.6/site-packages/ipykernel_launcher.py:60: RuntimeWarning: invalid value encountered in true_divide\n",
      "/home/mila/s/sara.ebrahim-elkafrawy/.conda/envs/gis/lib/python3.6/site-packages/ipykernel_launcher.py:60: RuntimeWarning: invalid value encountered in true_divide\n",
      "/home/mila/s/sara.ebrahim-elkafrawy/.conda/envs/gis/lib/python3.6/site-packages/ipykernel_launcher.py:60: RuntimeWarning: invalid value encountered in true_divide\n",
      "/home/mila/s/sara.ebrahim-elkafrawy/.conda/envs/gis/lib/python3.6/site-packages/ipykernel_launcher.py:60: RuntimeWarning: invalid value encountered in true_divide\n",
      "/home/mila/s/sara.ebrahim-elkafrawy/.conda/envs/gis/lib/python3.6/site-packages/ipykernel_launcher.py:60: RuntimeWarning: invalid value encountered in true_divide\n",
      "/home/mila/s/sara.ebrahim-elkafrawy/.conda/envs/gis/lib/python3.6/site-packages/ipykernel_launcher.py:60: RuntimeWarning: invalid value encountered in true_divide\n",
      "/home/mila/s/sara.ebrahim-elkafrawy/.conda/envs/gis/lib/python3.6/site-packages/ipykernel_launcher.py:60: RuntimeWarning: invalid value encountered in true_divide\n",
      "/home/mila/s/sara.ebrahim-elkafrawy/.conda/envs/gis/lib/python3.6/site-packages/ipykernel_launcher.py:60: RuntimeWarning: invalid value encountered in true_divide\n",
      "/home/mila/s/sara.ebrahim-elkafrawy/.conda/envs/gis/lib/python3.6/site-packages/ipykernel_launcher.py:60: RuntimeWarning: invalid value encountered in true_divide\n",
      "/home/mila/s/sara.ebrahim-elkafrawy/.conda/envs/gis/lib/python3.6/site-packages/ipykernel_launcher.py:60: RuntimeWarning: invalid value encountered in true_divide\n",
      "/home/mila/s/sara.ebrahim-elkafrawy/.conda/envs/gis/lib/python3.6/site-packages/ipykernel_launcher.py:60: RuntimeWarning: invalid value encountered in true_divide\n",
      "/home/mila/s/sara.ebrahim-elkafrawy/.conda/envs/gis/lib/python3.6/site-packages/ipykernel_launcher.py:60: RuntimeWarning: invalid value encountered in true_divide\n",
      "/home/mila/s/sara.ebrahim-elkafrawy/.conda/envs/gis/lib/python3.6/site-packages/ipykernel_launcher.py:60: RuntimeWarning: invalid value encountered in true_divide\n",
      "/home/mila/s/sara.ebrahim-elkafrawy/.conda/envs/gis/lib/python3.6/site-packages/ipykernel_launcher.py:60: RuntimeWarning: invalid value encountered in true_divide\n",
      "/home/mila/s/sara.ebrahim-elkafrawy/.conda/envs/gis/lib/python3.6/site-packages/ipykernel_launcher.py:60: RuntimeWarning: invalid value encountered in true_divide\n",
      "/home/mila/s/sara.ebrahim-elkafrawy/.conda/envs/gis/lib/python3.6/site-packages/ipykernel_launcher.py:60: RuntimeWarning: invalid value encountered in true_divide\n",
      "/home/mila/s/sara.ebrahim-elkafrawy/.conda/envs/gis/lib/python3.6/site-packages/ipykernel_launcher.py:60: RuntimeWarning: invalid value encountered in true_divide\n",
      "/home/mila/s/sara.ebrahim-elkafrawy/.conda/envs/gis/lib/python3.6/site-packages/ipykernel_launcher.py:60: RuntimeWarning: invalid value encountered in true_divide\n",
      "/home/mila/s/sara.ebrahim-elkafrawy/.conda/envs/gis/lib/python3.6/site-packages/ipykernel_launcher.py:60: RuntimeWarning: invalid value encountered in true_divide\n",
      "/home/mila/s/sara.ebrahim-elkafrawy/.conda/envs/gis/lib/python3.6/site-packages/ipykernel_launcher.py:60: RuntimeWarning: invalid value encountered in true_divide\n",
      "/home/mila/s/sara.ebrahim-elkafrawy/.conda/envs/gis/lib/python3.6/site-packages/ipykernel_launcher.py:60: RuntimeWarning: invalid value encountered in true_divide\n",
      "/home/mila/s/sara.ebrahim-elkafrawy/.conda/envs/gis/lib/python3.6/site-packages/ipykernel_launcher.py:60: RuntimeWarning: invalid value encountered in true_divide\n",
      "/home/mila/s/sara.ebrahim-elkafrawy/.conda/envs/gis/lib/python3.6/site-packages/ipykernel_launcher.py:60: RuntimeWarning: invalid value encountered in true_divide\n"
     ]
    },
    {
     "name": "stdout",
     "output_type": "stream",
     "text": [
      "kmeans for output of conv layer#72\n",
      "current feature map dim: torch.Size([256, 512, 1, 1])\n",
      "Initializing parameter#75 with size: torch.Size([256, 256, 3, 3])\n",
      "num_feats:256, num_ch:256, patch_size:(3, 3)\n"
     ]
    },
    {
     "name": "stderr",
     "output_type": "stream",
     "text": [
      "/home/mila/s/sara.ebrahim-elkafrawy/.conda/envs/gis/lib/python3.6/site-packages/ipykernel_launcher.py:60: RuntimeWarning: invalid value encountered in true_divide\n",
      "/home/mila/s/sara.ebrahim-elkafrawy/.conda/envs/gis/lib/python3.6/site-packages/ipykernel_launcher.py:60: RuntimeWarning: invalid value encountered in true_divide\n",
      "/home/mila/s/sara.ebrahim-elkafrawy/.conda/envs/gis/lib/python3.6/site-packages/ipykernel_launcher.py:60: RuntimeWarning: invalid value encountered in true_divide\n",
      "/home/mila/s/sara.ebrahim-elkafrawy/.conda/envs/gis/lib/python3.6/site-packages/ipykernel_launcher.py:60: RuntimeWarning: invalid value encountered in true_divide\n",
      "/home/mila/s/sara.ebrahim-elkafrawy/.conda/envs/gis/lib/python3.6/site-packages/ipykernel_launcher.py:60: RuntimeWarning: invalid value encountered in true_divide\n",
      "/home/mila/s/sara.ebrahim-elkafrawy/.conda/envs/gis/lib/python3.6/site-packages/ipykernel_launcher.py:60: RuntimeWarning: invalid value encountered in true_divide\n",
      "/home/mila/s/sara.ebrahim-elkafrawy/.conda/envs/gis/lib/python3.6/site-packages/ipykernel_launcher.py:60: RuntimeWarning: invalid value encountered in true_divide\n",
      "/home/mila/s/sara.ebrahim-elkafrawy/.conda/envs/gis/lib/python3.6/site-packages/ipykernel_launcher.py:60: RuntimeWarning: invalid value encountered in true_divide\n",
      "/home/mila/s/sara.ebrahim-elkafrawy/.conda/envs/gis/lib/python3.6/site-packages/ipykernel_launcher.py:60: RuntimeWarning: invalid value encountered in true_divide\n",
      "/home/mila/s/sara.ebrahim-elkafrawy/.conda/envs/gis/lib/python3.6/site-packages/ipykernel_launcher.py:60: RuntimeWarning: invalid value encountered in true_divide\n",
      "/home/mila/s/sara.ebrahim-elkafrawy/.conda/envs/gis/lib/python3.6/site-packages/ipykernel_launcher.py:60: RuntimeWarning: invalid value encountered in true_divide\n",
      "/home/mila/s/sara.ebrahim-elkafrawy/.conda/envs/gis/lib/python3.6/site-packages/ipykernel_launcher.py:60: RuntimeWarning: invalid value encountered in true_divide\n",
      "/home/mila/s/sara.ebrahim-elkafrawy/.conda/envs/gis/lib/python3.6/site-packages/ipykernel_launcher.py:60: RuntimeWarning: invalid value encountered in true_divide\n",
      "/home/mila/s/sara.ebrahim-elkafrawy/.conda/envs/gis/lib/python3.6/site-packages/ipykernel_launcher.py:60: RuntimeWarning: invalid value encountered in true_divide\n",
      "/home/mila/s/sara.ebrahim-elkafrawy/.conda/envs/gis/lib/python3.6/site-packages/ipykernel_launcher.py:60: RuntimeWarning: invalid value encountered in true_divide\n",
      "/home/mila/s/sara.ebrahim-elkafrawy/.conda/envs/gis/lib/python3.6/site-packages/ipykernel_launcher.py:60: RuntimeWarning: invalid value encountered in true_divide\n"
     ]
    },
    {
     "name": "stdout",
     "output_type": "stream",
     "text": [
      "[MiniBatchKMeans] Reassigning 50 cluster centers.\n"
     ]
    },
    {
     "name": "stderr",
     "output_type": "stream",
     "text": [
      "/home/mila/s/sara.ebrahim-elkafrawy/.conda/envs/gis/lib/python3.6/site-packages/ipykernel_launcher.py:60: RuntimeWarning: invalid value encountered in true_divide\n",
      "/home/mila/s/sara.ebrahim-elkafrawy/.conda/envs/gis/lib/python3.6/site-packages/ipykernel_launcher.py:60: RuntimeWarning: invalid value encountered in true_divide\n",
      "/home/mila/s/sara.ebrahim-elkafrawy/.conda/envs/gis/lib/python3.6/site-packages/ipykernel_launcher.py:60: RuntimeWarning: invalid value encountered in true_divide\n",
      "/home/mila/s/sara.ebrahim-elkafrawy/.conda/envs/gis/lib/python3.6/site-packages/ipykernel_launcher.py:60: RuntimeWarning: invalid value encountered in true_divide\n",
      "/home/mila/s/sara.ebrahim-elkafrawy/.conda/envs/gis/lib/python3.6/site-packages/ipykernel_launcher.py:60: RuntimeWarning: invalid value encountered in true_divide\n",
      "/home/mila/s/sara.ebrahim-elkafrawy/.conda/envs/gis/lib/python3.6/site-packages/ipykernel_launcher.py:60: RuntimeWarning: invalid value encountered in true_divide\n",
      "/home/mila/s/sara.ebrahim-elkafrawy/.conda/envs/gis/lib/python3.6/site-packages/ipykernel_launcher.py:60: RuntimeWarning: invalid value encountered in true_divide\n",
      "/home/mila/s/sara.ebrahim-elkafrawy/.conda/envs/gis/lib/python3.6/site-packages/ipykernel_launcher.py:60: RuntimeWarning: invalid value encountered in true_divide\n",
      "/home/mila/s/sara.ebrahim-elkafrawy/.conda/envs/gis/lib/python3.6/site-packages/ipykernel_launcher.py:60: RuntimeWarning: invalid value encountered in true_divide\n",
      "/home/mila/s/sara.ebrahim-elkafrawy/.conda/envs/gis/lib/python3.6/site-packages/ipykernel_launcher.py:60: RuntimeWarning: invalid value encountered in true_divide\n",
      "/home/mila/s/sara.ebrahim-elkafrawy/.conda/envs/gis/lib/python3.6/site-packages/ipykernel_launcher.py:60: RuntimeWarning: invalid value encountered in true_divide\n",
      "/home/mila/s/sara.ebrahim-elkafrawy/.conda/envs/gis/lib/python3.6/site-packages/ipykernel_launcher.py:60: RuntimeWarning: invalid value encountered in true_divide\n",
      "/home/mila/s/sara.ebrahim-elkafrawy/.conda/envs/gis/lib/python3.6/site-packages/ipykernel_launcher.py:60: RuntimeWarning: invalid value encountered in true_divide\n",
      "/home/mila/s/sara.ebrahim-elkafrawy/.conda/envs/gis/lib/python3.6/site-packages/ipykernel_launcher.py:60: RuntimeWarning: invalid value encountered in true_divide\n"
     ]
    },
    {
     "name": "stdout",
     "output_type": "stream",
     "text": [
      "kmeans for output of conv layer#75\n",
      "current feature map dim: torch.Size([256, 256, 3, 3])\n",
      "Initializing parameter#78 with size: torch.Size([1024, 256, 1, 1])\n",
      "num_feats:1024, num_ch:256, patch_size:(1, 1)\n",
      "[MiniBatchKMeans] Reassigning 228 cluster centers.\n",
      "kmeans for output of conv layer#78\n",
      "current feature map dim: torch.Size([1024, 256, 1, 1])\n",
      "Initializing parameter#84 with size: torch.Size([256, 1024, 1, 1])\n",
      "num_feats:256, num_ch:1024, patch_size:(1, 1)\n"
     ]
    },
    {
     "name": "stderr",
     "output_type": "stream",
     "text": [
      "/home/mila/s/sara.ebrahim-elkafrawy/.conda/envs/gis/lib/python3.6/site-packages/ipykernel_launcher.py:60: RuntimeWarning: invalid value encountered in true_divide\n",
      "/home/mila/s/sara.ebrahim-elkafrawy/.conda/envs/gis/lib/python3.6/site-packages/ipykernel_launcher.py:60: RuntimeWarning: invalid value encountered in true_divide\n",
      "/home/mila/s/sara.ebrahim-elkafrawy/.conda/envs/gis/lib/python3.6/site-packages/ipykernel_launcher.py:60: RuntimeWarning: invalid value encountered in true_divide\n",
      "/home/mila/s/sara.ebrahim-elkafrawy/.conda/envs/gis/lib/python3.6/site-packages/ipykernel_launcher.py:60: RuntimeWarning: invalid value encountered in true_divide\n",
      "/home/mila/s/sara.ebrahim-elkafrawy/.conda/envs/gis/lib/python3.6/site-packages/ipykernel_launcher.py:60: RuntimeWarning: invalid value encountered in true_divide\n",
      "/home/mila/s/sara.ebrahim-elkafrawy/.conda/envs/gis/lib/python3.6/site-packages/ipykernel_launcher.py:60: RuntimeWarning: invalid value encountered in true_divide\n",
      "/home/mila/s/sara.ebrahim-elkafrawy/.conda/envs/gis/lib/python3.6/site-packages/ipykernel_launcher.py:60: RuntimeWarning: invalid value encountered in true_divide\n",
      "/home/mila/s/sara.ebrahim-elkafrawy/.conda/envs/gis/lib/python3.6/site-packages/ipykernel_launcher.py:60: RuntimeWarning: invalid value encountered in true_divide\n",
      "/home/mila/s/sara.ebrahim-elkafrawy/.conda/envs/gis/lib/python3.6/site-packages/ipykernel_launcher.py:60: RuntimeWarning: invalid value encountered in true_divide\n",
      "/home/mila/s/sara.ebrahim-elkafrawy/.conda/envs/gis/lib/python3.6/site-packages/ipykernel_launcher.py:60: RuntimeWarning: invalid value encountered in true_divide\n"
     ]
    },
    {
     "name": "stdout",
     "output_type": "stream",
     "text": [
      "[MiniBatchKMeans] Reassigning 18 cluster centers.\n"
     ]
    },
    {
     "name": "stderr",
     "output_type": "stream",
     "text": [
      "/home/mila/s/sara.ebrahim-elkafrawy/.conda/envs/gis/lib/python3.6/site-packages/ipykernel_launcher.py:60: RuntimeWarning: invalid value encountered in true_divide\n",
      "/home/mila/s/sara.ebrahim-elkafrawy/.conda/envs/gis/lib/python3.6/site-packages/ipykernel_launcher.py:60: RuntimeWarning: invalid value encountered in true_divide\n",
      "/home/mila/s/sara.ebrahim-elkafrawy/.conda/envs/gis/lib/python3.6/site-packages/ipykernel_launcher.py:60: RuntimeWarning: invalid value encountered in true_divide\n",
      "/home/mila/s/sara.ebrahim-elkafrawy/.conda/envs/gis/lib/python3.6/site-packages/ipykernel_launcher.py:60: RuntimeWarning: invalid value encountered in true_divide\n",
      "/home/mila/s/sara.ebrahim-elkafrawy/.conda/envs/gis/lib/python3.6/site-packages/ipykernel_launcher.py:60: RuntimeWarning: invalid value encountered in true_divide\n",
      "/home/mila/s/sara.ebrahim-elkafrawy/.conda/envs/gis/lib/python3.6/site-packages/ipykernel_launcher.py:60: RuntimeWarning: invalid value encountered in true_divide\n",
      "/home/mila/s/sara.ebrahim-elkafrawy/.conda/envs/gis/lib/python3.6/site-packages/ipykernel_launcher.py:60: RuntimeWarning: invalid value encountered in true_divide\n",
      "/home/mila/s/sara.ebrahim-elkafrawy/.conda/envs/gis/lib/python3.6/site-packages/ipykernel_launcher.py:60: RuntimeWarning: invalid value encountered in true_divide\n",
      "/home/mila/s/sara.ebrahim-elkafrawy/.conda/envs/gis/lib/python3.6/site-packages/ipykernel_launcher.py:60: RuntimeWarning: invalid value encountered in true_divide\n",
      "/home/mila/s/sara.ebrahim-elkafrawy/.conda/envs/gis/lib/python3.6/site-packages/ipykernel_launcher.py:60: RuntimeWarning: invalid value encountered in true_divide\n",
      "/home/mila/s/sara.ebrahim-elkafrawy/.conda/envs/gis/lib/python3.6/site-packages/ipykernel_launcher.py:60: RuntimeWarning: invalid value encountered in true_divide\n",
      "/home/mila/s/sara.ebrahim-elkafrawy/.conda/envs/gis/lib/python3.6/site-packages/ipykernel_launcher.py:60: RuntimeWarning: invalid value encountered in true_divide\n",
      "/home/mila/s/sara.ebrahim-elkafrawy/.conda/envs/gis/lib/python3.6/site-packages/ipykernel_launcher.py:60: RuntimeWarning: invalid value encountered in true_divide\n",
      "/home/mila/s/sara.ebrahim-elkafrawy/.conda/envs/gis/lib/python3.6/site-packages/ipykernel_launcher.py:60: RuntimeWarning: invalid value encountered in true_divide\n",
      "/home/mila/s/sara.ebrahim-elkafrawy/.conda/envs/gis/lib/python3.6/site-packages/ipykernel_launcher.py:60: RuntimeWarning: invalid value encountered in true_divide\n",
      "/home/mila/s/sara.ebrahim-elkafrawy/.conda/envs/gis/lib/python3.6/site-packages/ipykernel_launcher.py:60: RuntimeWarning: invalid value encountered in true_divide\n",
      "/home/mila/s/sara.ebrahim-elkafrawy/.conda/envs/gis/lib/python3.6/site-packages/ipykernel_launcher.py:60: RuntimeWarning: invalid value encountered in true_divide\n",
      "/home/mila/s/sara.ebrahim-elkafrawy/.conda/envs/gis/lib/python3.6/site-packages/ipykernel_launcher.py:60: RuntimeWarning: invalid value encountered in true_divide\n",
      "/home/mila/s/sara.ebrahim-elkafrawy/.conda/envs/gis/lib/python3.6/site-packages/ipykernel_launcher.py:60: RuntimeWarning: invalid value encountered in true_divide\n",
      "/home/mila/s/sara.ebrahim-elkafrawy/.conda/envs/gis/lib/python3.6/site-packages/ipykernel_launcher.py:60: RuntimeWarning: invalid value encountered in true_divide\n"
     ]
    },
    {
     "name": "stdout",
     "output_type": "stream",
     "text": [
      "kmeans for output of conv layer#84\n",
      "current feature map dim: torch.Size([256, 1024, 1, 1])\n",
      "Initializing parameter#87 with size: torch.Size([256, 256, 3, 3])\n",
      "num_feats:256, num_ch:256, patch_size:(3, 3)\n"
     ]
    },
    {
     "name": "stderr",
     "output_type": "stream",
     "text": [
      "/home/mila/s/sara.ebrahim-elkafrawy/.conda/envs/gis/lib/python3.6/site-packages/ipykernel_launcher.py:60: RuntimeWarning: invalid value encountered in true_divide\n",
      "/home/mila/s/sara.ebrahim-elkafrawy/.conda/envs/gis/lib/python3.6/site-packages/ipykernel_launcher.py:60: RuntimeWarning: invalid value encountered in true_divide\n",
      "/home/mila/s/sara.ebrahim-elkafrawy/.conda/envs/gis/lib/python3.6/site-packages/ipykernel_launcher.py:60: RuntimeWarning: invalid value encountered in true_divide\n",
      "/home/mila/s/sara.ebrahim-elkafrawy/.conda/envs/gis/lib/python3.6/site-packages/ipykernel_launcher.py:60: RuntimeWarning: invalid value encountered in true_divide\n",
      "/home/mila/s/sara.ebrahim-elkafrawy/.conda/envs/gis/lib/python3.6/site-packages/ipykernel_launcher.py:60: RuntimeWarning: invalid value encountered in true_divide\n",
      "/home/mila/s/sara.ebrahim-elkafrawy/.conda/envs/gis/lib/python3.6/site-packages/ipykernel_launcher.py:60: RuntimeWarning: invalid value encountered in true_divide\n",
      "/home/mila/s/sara.ebrahim-elkafrawy/.conda/envs/gis/lib/python3.6/site-packages/ipykernel_launcher.py:60: RuntimeWarning: invalid value encountered in true_divide\n",
      "/home/mila/s/sara.ebrahim-elkafrawy/.conda/envs/gis/lib/python3.6/site-packages/ipykernel_launcher.py:60: RuntimeWarning: invalid value encountered in true_divide\n",
      "/home/mila/s/sara.ebrahim-elkafrawy/.conda/envs/gis/lib/python3.6/site-packages/ipykernel_launcher.py:60: RuntimeWarning: invalid value encountered in true_divide\n",
      "/home/mila/s/sara.ebrahim-elkafrawy/.conda/envs/gis/lib/python3.6/site-packages/ipykernel_launcher.py:60: RuntimeWarning: invalid value encountered in true_divide\n",
      "/home/mila/s/sara.ebrahim-elkafrawy/.conda/envs/gis/lib/python3.6/site-packages/ipykernel_launcher.py:60: RuntimeWarning: invalid value encountered in true_divide\n",
      "/home/mila/s/sara.ebrahim-elkafrawy/.conda/envs/gis/lib/python3.6/site-packages/ipykernel_launcher.py:60: RuntimeWarning: invalid value encountered in true_divide\n",
      "/home/mila/s/sara.ebrahim-elkafrawy/.conda/envs/gis/lib/python3.6/site-packages/ipykernel_launcher.py:60: RuntimeWarning: invalid value encountered in true_divide\n",
      "/home/mila/s/sara.ebrahim-elkafrawy/.conda/envs/gis/lib/python3.6/site-packages/ipykernel_launcher.py:60: RuntimeWarning: invalid value encountered in true_divide\n",
      "/home/mila/s/sara.ebrahim-elkafrawy/.conda/envs/gis/lib/python3.6/site-packages/ipykernel_launcher.py:60: RuntimeWarning: invalid value encountered in true_divide\n",
      "/home/mila/s/sara.ebrahim-elkafrawy/.conda/envs/gis/lib/python3.6/site-packages/ipykernel_launcher.py:60: RuntimeWarning: invalid value encountered in true_divide\n",
      "/home/mila/s/sara.ebrahim-elkafrawy/.conda/envs/gis/lib/python3.6/site-packages/ipykernel_launcher.py:60: RuntimeWarning: invalid value encountered in true_divide\n",
      "/home/mila/s/sara.ebrahim-elkafrawy/.conda/envs/gis/lib/python3.6/site-packages/ipykernel_launcher.py:60: RuntimeWarning: invalid value encountered in true_divide\n",
      "/home/mila/s/sara.ebrahim-elkafrawy/.conda/envs/gis/lib/python3.6/site-packages/ipykernel_launcher.py:60: RuntimeWarning: invalid value encountered in true_divide\n",
      "/home/mila/s/sara.ebrahim-elkafrawy/.conda/envs/gis/lib/python3.6/site-packages/ipykernel_launcher.py:60: RuntimeWarning: invalid value encountered in true_divide\n",
      "/home/mila/s/sara.ebrahim-elkafrawy/.conda/envs/gis/lib/python3.6/site-packages/ipykernel_launcher.py:60: RuntimeWarning: invalid value encountered in true_divide\n",
      "/home/mila/s/sara.ebrahim-elkafrawy/.conda/envs/gis/lib/python3.6/site-packages/ipykernel_launcher.py:60: RuntimeWarning: invalid value encountered in true_divide\n",
      "/home/mila/s/sara.ebrahim-elkafrawy/.conda/envs/gis/lib/python3.6/site-packages/ipykernel_launcher.py:60: RuntimeWarning: invalid value encountered in true_divide\n",
      "/home/mila/s/sara.ebrahim-elkafrawy/.conda/envs/gis/lib/python3.6/site-packages/ipykernel_launcher.py:60: RuntimeWarning: invalid value encountered in true_divide\n",
      "/home/mila/s/sara.ebrahim-elkafrawy/.conda/envs/gis/lib/python3.6/site-packages/ipykernel_launcher.py:60: RuntimeWarning: invalid value encountered in true_divide\n",
      "/home/mila/s/sara.ebrahim-elkafrawy/.conda/envs/gis/lib/python3.6/site-packages/ipykernel_launcher.py:60: RuntimeWarning: invalid value encountered in true_divide\n",
      "/home/mila/s/sara.ebrahim-elkafrawy/.conda/envs/gis/lib/python3.6/site-packages/ipykernel_launcher.py:60: RuntimeWarning: invalid value encountered in true_divide\n"
     ]
    },
    {
     "name": "stdout",
     "output_type": "stream",
     "text": [
      "[MiniBatchKMeans] Reassigning 22 cluster centers.\n"
     ]
    },
    {
     "name": "stderr",
     "output_type": "stream",
     "text": [
      "/home/mila/s/sara.ebrahim-elkafrawy/.conda/envs/gis/lib/python3.6/site-packages/ipykernel_launcher.py:60: RuntimeWarning: invalid value encountered in true_divide\n",
      "/home/mila/s/sara.ebrahim-elkafrawy/.conda/envs/gis/lib/python3.6/site-packages/ipykernel_launcher.py:60: RuntimeWarning: invalid value encountered in true_divide\n",
      "/home/mila/s/sara.ebrahim-elkafrawy/.conda/envs/gis/lib/python3.6/site-packages/ipykernel_launcher.py:60: RuntimeWarning: invalid value encountered in true_divide\n"
     ]
    },
    {
     "name": "stdout",
     "output_type": "stream",
     "text": [
      "kmeans for output of conv layer#87\n",
      "current feature map dim: torch.Size([256, 256, 3, 3])\n",
      "Initializing parameter#90 with size: torch.Size([1024, 256, 1, 1])\n",
      "num_feats:1024, num_ch:256, patch_size:(1, 1)\n",
      "[MiniBatchKMeans] Reassigning 187 cluster centers.\n",
      "kmeans for output of conv layer#90\n",
      "current feature map dim: torch.Size([1024, 256, 1, 1])\n",
      "Initializing parameter#93 with size: torch.Size([256, 1024, 1, 1])\n",
      "num_feats:256, num_ch:1024, patch_size:(1, 1)\n"
     ]
    },
    {
     "name": "stderr",
     "output_type": "stream",
     "text": [
      "/home/mila/s/sara.ebrahim-elkafrawy/.conda/envs/gis/lib/python3.6/site-packages/ipykernel_launcher.py:60: RuntimeWarning: invalid value encountered in true_divide\n",
      "/home/mila/s/sara.ebrahim-elkafrawy/.conda/envs/gis/lib/python3.6/site-packages/ipykernel_launcher.py:60: RuntimeWarning: invalid value encountered in true_divide\n",
      "/home/mila/s/sara.ebrahim-elkafrawy/.conda/envs/gis/lib/python3.6/site-packages/ipykernel_launcher.py:60: RuntimeWarning: invalid value encountered in true_divide\n",
      "/home/mila/s/sara.ebrahim-elkafrawy/.conda/envs/gis/lib/python3.6/site-packages/ipykernel_launcher.py:60: RuntimeWarning: invalid value encountered in true_divide\n",
      "/home/mila/s/sara.ebrahim-elkafrawy/.conda/envs/gis/lib/python3.6/site-packages/ipykernel_launcher.py:60: RuntimeWarning: invalid value encountered in true_divide\n",
      "/home/mila/s/sara.ebrahim-elkafrawy/.conda/envs/gis/lib/python3.6/site-packages/ipykernel_launcher.py:60: RuntimeWarning: invalid value encountered in true_divide\n",
      "/home/mila/s/sara.ebrahim-elkafrawy/.conda/envs/gis/lib/python3.6/site-packages/ipykernel_launcher.py:60: RuntimeWarning: invalid value encountered in true_divide\n",
      "/home/mila/s/sara.ebrahim-elkafrawy/.conda/envs/gis/lib/python3.6/site-packages/ipykernel_launcher.py:60: RuntimeWarning: invalid value encountered in true_divide\n",
      "/home/mila/s/sara.ebrahim-elkafrawy/.conda/envs/gis/lib/python3.6/site-packages/ipykernel_launcher.py:60: RuntimeWarning: invalid value encountered in true_divide\n",
      "/home/mila/s/sara.ebrahim-elkafrawy/.conda/envs/gis/lib/python3.6/site-packages/ipykernel_launcher.py:60: RuntimeWarning: invalid value encountered in true_divide\n",
      "/home/mila/s/sara.ebrahim-elkafrawy/.conda/envs/gis/lib/python3.6/site-packages/ipykernel_launcher.py:60: RuntimeWarning: invalid value encountered in true_divide\n",
      "/home/mila/s/sara.ebrahim-elkafrawy/.conda/envs/gis/lib/python3.6/site-packages/ipykernel_launcher.py:60: RuntimeWarning: invalid value encountered in true_divide\n",
      "/home/mila/s/sara.ebrahim-elkafrawy/.conda/envs/gis/lib/python3.6/site-packages/ipykernel_launcher.py:60: RuntimeWarning: invalid value encountered in true_divide\n",
      "/home/mila/s/sara.ebrahim-elkafrawy/.conda/envs/gis/lib/python3.6/site-packages/ipykernel_launcher.py:60: RuntimeWarning: invalid value encountered in true_divide\n",
      "/home/mila/s/sara.ebrahim-elkafrawy/.conda/envs/gis/lib/python3.6/site-packages/ipykernel_launcher.py:60: RuntimeWarning: invalid value encountered in true_divide\n"
     ]
    },
    {
     "name": "stdout",
     "output_type": "stream",
     "text": [
      "[MiniBatchKMeans] Reassigning 13 cluster centers.\n"
     ]
    },
    {
     "name": "stderr",
     "output_type": "stream",
     "text": [
      "/home/mila/s/sara.ebrahim-elkafrawy/.conda/envs/gis/lib/python3.6/site-packages/ipykernel_launcher.py:60: RuntimeWarning: invalid value encountered in true_divide\n",
      "/home/mila/s/sara.ebrahim-elkafrawy/.conda/envs/gis/lib/python3.6/site-packages/ipykernel_launcher.py:60: RuntimeWarning: invalid value encountered in true_divide\n",
      "/home/mila/s/sara.ebrahim-elkafrawy/.conda/envs/gis/lib/python3.6/site-packages/ipykernel_launcher.py:60: RuntimeWarning: invalid value encountered in true_divide\n",
      "/home/mila/s/sara.ebrahim-elkafrawy/.conda/envs/gis/lib/python3.6/site-packages/ipykernel_launcher.py:60: RuntimeWarning: invalid value encountered in true_divide\n",
      "/home/mila/s/sara.ebrahim-elkafrawy/.conda/envs/gis/lib/python3.6/site-packages/ipykernel_launcher.py:60: RuntimeWarning: invalid value encountered in true_divide\n",
      "/home/mila/s/sara.ebrahim-elkafrawy/.conda/envs/gis/lib/python3.6/site-packages/ipykernel_launcher.py:60: RuntimeWarning: invalid value encountered in true_divide\n",
      "/home/mila/s/sara.ebrahim-elkafrawy/.conda/envs/gis/lib/python3.6/site-packages/ipykernel_launcher.py:60: RuntimeWarning: invalid value encountered in true_divide\n",
      "/home/mila/s/sara.ebrahim-elkafrawy/.conda/envs/gis/lib/python3.6/site-packages/ipykernel_launcher.py:60: RuntimeWarning: invalid value encountered in true_divide\n",
      "/home/mila/s/sara.ebrahim-elkafrawy/.conda/envs/gis/lib/python3.6/site-packages/ipykernel_launcher.py:60: RuntimeWarning: invalid value encountered in true_divide\n",
      "/home/mila/s/sara.ebrahim-elkafrawy/.conda/envs/gis/lib/python3.6/site-packages/ipykernel_launcher.py:60: RuntimeWarning: invalid value encountered in true_divide\n",
      "/home/mila/s/sara.ebrahim-elkafrawy/.conda/envs/gis/lib/python3.6/site-packages/ipykernel_launcher.py:60: RuntimeWarning: invalid value encountered in true_divide\n",
      "/home/mila/s/sara.ebrahim-elkafrawy/.conda/envs/gis/lib/python3.6/site-packages/ipykernel_launcher.py:60: RuntimeWarning: invalid value encountered in true_divide\n",
      "/home/mila/s/sara.ebrahim-elkafrawy/.conda/envs/gis/lib/python3.6/site-packages/ipykernel_launcher.py:60: RuntimeWarning: invalid value encountered in true_divide\n",
      "/home/mila/s/sara.ebrahim-elkafrawy/.conda/envs/gis/lib/python3.6/site-packages/ipykernel_launcher.py:60: RuntimeWarning: invalid value encountered in true_divide\n",
      "/home/mila/s/sara.ebrahim-elkafrawy/.conda/envs/gis/lib/python3.6/site-packages/ipykernel_launcher.py:60: RuntimeWarning: invalid value encountered in true_divide\n"
     ]
    },
    {
     "name": "stdout",
     "output_type": "stream",
     "text": [
      "kmeans for output of conv layer#93\n",
      "current feature map dim: torch.Size([256, 1024, 1, 1])\n",
      "Initializing parameter#96 with size: torch.Size([256, 256, 3, 3])\n",
      "num_feats:256, num_ch:256, patch_size:(3, 3)\n"
     ]
    },
    {
     "name": "stderr",
     "output_type": "stream",
     "text": [
      "/home/mila/s/sara.ebrahim-elkafrawy/.conda/envs/gis/lib/python3.6/site-packages/ipykernel_launcher.py:60: RuntimeWarning: invalid value encountered in true_divide\n",
      "/home/mila/s/sara.ebrahim-elkafrawy/.conda/envs/gis/lib/python3.6/site-packages/ipykernel_launcher.py:60: RuntimeWarning: invalid value encountered in true_divide\n",
      "/home/mila/s/sara.ebrahim-elkafrawy/.conda/envs/gis/lib/python3.6/site-packages/ipykernel_launcher.py:60: RuntimeWarning: invalid value encountered in true_divide\n"
     ]
    },
    {
     "name": "stdout",
     "output_type": "stream",
     "text": [
      "[MiniBatchKMeans] Reassigning 70 cluster centers.\n"
     ]
    },
    {
     "name": "stderr",
     "output_type": "stream",
     "text": [
      "/home/mila/s/sara.ebrahim-elkafrawy/.conda/envs/gis/lib/python3.6/site-packages/ipykernel_launcher.py:60: RuntimeWarning: invalid value encountered in true_divide\n",
      "/home/mila/s/sara.ebrahim-elkafrawy/.conda/envs/gis/lib/python3.6/site-packages/ipykernel_launcher.py:60: RuntimeWarning: invalid value encountered in true_divide\n",
      "/home/mila/s/sara.ebrahim-elkafrawy/.conda/envs/gis/lib/python3.6/site-packages/ipykernel_launcher.py:60: RuntimeWarning: invalid value encountered in true_divide\n",
      "/home/mila/s/sara.ebrahim-elkafrawy/.conda/envs/gis/lib/python3.6/site-packages/ipykernel_launcher.py:60: RuntimeWarning: invalid value encountered in true_divide\n",
      "/home/mila/s/sara.ebrahim-elkafrawy/.conda/envs/gis/lib/python3.6/site-packages/ipykernel_launcher.py:60: RuntimeWarning: invalid value encountered in true_divide\n",
      "/home/mila/s/sara.ebrahim-elkafrawy/.conda/envs/gis/lib/python3.6/site-packages/ipykernel_launcher.py:60: RuntimeWarning: invalid value encountered in true_divide\n",
      "/home/mila/s/sara.ebrahim-elkafrawy/.conda/envs/gis/lib/python3.6/site-packages/ipykernel_launcher.py:60: RuntimeWarning: invalid value encountered in true_divide\n",
      "/home/mila/s/sara.ebrahim-elkafrawy/.conda/envs/gis/lib/python3.6/site-packages/ipykernel_launcher.py:60: RuntimeWarning: invalid value encountered in true_divide\n",
      "/home/mila/s/sara.ebrahim-elkafrawy/.conda/envs/gis/lib/python3.6/site-packages/ipykernel_launcher.py:60: RuntimeWarning: invalid value encountered in true_divide\n",
      "/home/mila/s/sara.ebrahim-elkafrawy/.conda/envs/gis/lib/python3.6/site-packages/ipykernel_launcher.py:60: RuntimeWarning: invalid value encountered in true_divide\n",
      "/home/mila/s/sara.ebrahim-elkafrawy/.conda/envs/gis/lib/python3.6/site-packages/ipykernel_launcher.py:60: RuntimeWarning: invalid value encountered in true_divide\n",
      "/home/mila/s/sara.ebrahim-elkafrawy/.conda/envs/gis/lib/python3.6/site-packages/ipykernel_launcher.py:60: RuntimeWarning: invalid value encountered in true_divide\n",
      "/home/mila/s/sara.ebrahim-elkafrawy/.conda/envs/gis/lib/python3.6/site-packages/ipykernel_launcher.py:60: RuntimeWarning: invalid value encountered in true_divide\n",
      "/home/mila/s/sara.ebrahim-elkafrawy/.conda/envs/gis/lib/python3.6/site-packages/ipykernel_launcher.py:60: RuntimeWarning: invalid value encountered in true_divide\n",
      "/home/mila/s/sara.ebrahim-elkafrawy/.conda/envs/gis/lib/python3.6/site-packages/ipykernel_launcher.py:60: RuntimeWarning: invalid value encountered in true_divide\n",
      "/home/mila/s/sara.ebrahim-elkafrawy/.conda/envs/gis/lib/python3.6/site-packages/ipykernel_launcher.py:60: RuntimeWarning: invalid value encountered in true_divide\n",
      "/home/mila/s/sara.ebrahim-elkafrawy/.conda/envs/gis/lib/python3.6/site-packages/ipykernel_launcher.py:60: RuntimeWarning: invalid value encountered in true_divide\n",
      "/home/mila/s/sara.ebrahim-elkafrawy/.conda/envs/gis/lib/python3.6/site-packages/ipykernel_launcher.py:60: RuntimeWarning: invalid value encountered in true_divide\n",
      "/home/mila/s/sara.ebrahim-elkafrawy/.conda/envs/gis/lib/python3.6/site-packages/ipykernel_launcher.py:60: RuntimeWarning: invalid value encountered in true_divide\n",
      "/home/mila/s/sara.ebrahim-elkafrawy/.conda/envs/gis/lib/python3.6/site-packages/ipykernel_launcher.py:60: RuntimeWarning: invalid value encountered in true_divide\n",
      "/home/mila/s/sara.ebrahim-elkafrawy/.conda/envs/gis/lib/python3.6/site-packages/ipykernel_launcher.py:60: RuntimeWarning: invalid value encountered in true_divide\n",
      "/home/mila/s/sara.ebrahim-elkafrawy/.conda/envs/gis/lib/python3.6/site-packages/ipykernel_launcher.py:60: RuntimeWarning: invalid value encountered in true_divide\n",
      "/home/mila/s/sara.ebrahim-elkafrawy/.conda/envs/gis/lib/python3.6/site-packages/ipykernel_launcher.py:60: RuntimeWarning: invalid value encountered in true_divide\n",
      "/home/mila/s/sara.ebrahim-elkafrawy/.conda/envs/gis/lib/python3.6/site-packages/ipykernel_launcher.py:60: RuntimeWarning: invalid value encountered in true_divide\n"
     ]
    },
    {
     "name": "stdout",
     "output_type": "stream",
     "text": [
      "[MiniBatchKMeans] Reassigning 27 cluster centers.\n"
     ]
    },
    {
     "name": "stderr",
     "output_type": "stream",
     "text": [
      "/home/mila/s/sara.ebrahim-elkafrawy/.conda/envs/gis/lib/python3.6/site-packages/ipykernel_launcher.py:60: RuntimeWarning: invalid value encountered in true_divide\n",
      "/home/mila/s/sara.ebrahim-elkafrawy/.conda/envs/gis/lib/python3.6/site-packages/ipykernel_launcher.py:60: RuntimeWarning: invalid value encountered in true_divide\n",
      "/home/mila/s/sara.ebrahim-elkafrawy/.conda/envs/gis/lib/python3.6/site-packages/ipykernel_launcher.py:60: RuntimeWarning: invalid value encountered in true_divide\n"
     ]
    },
    {
     "name": "stdout",
     "output_type": "stream",
     "text": [
      "kmeans for output of conv layer#96\n",
      "current feature map dim: torch.Size([256, 256, 3, 3])\n",
      "Initializing parameter#99 with size: torch.Size([1024, 256, 1, 1])\n",
      "num_feats:1024, num_ch:256, patch_size:(1, 1)\n",
      "[MiniBatchKMeans] Reassigning 337 cluster centers.\n"
     ]
    },
    {
     "name": "stderr",
     "output_type": "stream",
     "text": [
      "/home/mila/s/sara.ebrahim-elkafrawy/.conda/envs/gis/lib/python3.6/site-packages/ipykernel_launcher.py:60: RuntimeWarning: invalid value encountered in true_divide\n",
      "/home/mila/s/sara.ebrahim-elkafrawy/.conda/envs/gis/lib/python3.6/site-packages/ipykernel_launcher.py:60: RuntimeWarning: invalid value encountered in true_divide\n",
      "/home/mila/s/sara.ebrahim-elkafrawy/.conda/envs/gis/lib/python3.6/site-packages/ipykernel_launcher.py:60: RuntimeWarning: invalid value encountered in true_divide\n"
     ]
    },
    {
     "name": "stdout",
     "output_type": "stream",
     "text": [
      "kmeans for output of conv layer#99\n",
      "current feature map dim: torch.Size([1024, 256, 1, 1])\n",
      "Initializing parameter#102 with size: torch.Size([256, 1024, 1, 1])\n",
      "num_feats:256, num_ch:1024, patch_size:(1, 1)\n"
     ]
    },
    {
     "name": "stderr",
     "output_type": "stream",
     "text": [
      "/home/mila/s/sara.ebrahim-elkafrawy/.conda/envs/gis/lib/python3.6/site-packages/ipykernel_launcher.py:60: RuntimeWarning: invalid value encountered in true_divide\n",
      "/home/mila/s/sara.ebrahim-elkafrawy/.conda/envs/gis/lib/python3.6/site-packages/ipykernel_launcher.py:60: RuntimeWarning: invalid value encountered in true_divide\n",
      "/home/mila/s/sara.ebrahim-elkafrawy/.conda/envs/gis/lib/python3.6/site-packages/ipykernel_launcher.py:60: RuntimeWarning: invalid value encountered in true_divide\n",
      "/home/mila/s/sara.ebrahim-elkafrawy/.conda/envs/gis/lib/python3.6/site-packages/ipykernel_launcher.py:60: RuntimeWarning: invalid value encountered in true_divide\n",
      "/home/mila/s/sara.ebrahim-elkafrawy/.conda/envs/gis/lib/python3.6/site-packages/ipykernel_launcher.py:60: RuntimeWarning: invalid value encountered in true_divide\n",
      "/home/mila/s/sara.ebrahim-elkafrawy/.conda/envs/gis/lib/python3.6/site-packages/ipykernel_launcher.py:60: RuntimeWarning: invalid value encountered in true_divide\n",
      "/home/mila/s/sara.ebrahim-elkafrawy/.conda/envs/gis/lib/python3.6/site-packages/ipykernel_launcher.py:60: RuntimeWarning: invalid value encountered in true_divide\n",
      "/home/mila/s/sara.ebrahim-elkafrawy/.conda/envs/gis/lib/python3.6/site-packages/ipykernel_launcher.py:60: RuntimeWarning: invalid value encountered in true_divide\n",
      "/home/mila/s/sara.ebrahim-elkafrawy/.conda/envs/gis/lib/python3.6/site-packages/ipykernel_launcher.py:60: RuntimeWarning: invalid value encountered in true_divide\n",
      "/home/mila/s/sara.ebrahim-elkafrawy/.conda/envs/gis/lib/python3.6/site-packages/ipykernel_launcher.py:60: RuntimeWarning: invalid value encountered in true_divide\n",
      "/home/mila/s/sara.ebrahim-elkafrawy/.conda/envs/gis/lib/python3.6/site-packages/ipykernel_launcher.py:60: RuntimeWarning: invalid value encountered in true_divide\n"
     ]
    },
    {
     "name": "stdout",
     "output_type": "stream",
     "text": [
      "[MiniBatchKMeans] Reassigning 14 cluster centers.\n"
     ]
    },
    {
     "name": "stderr",
     "output_type": "stream",
     "text": [
      "/home/mila/s/sara.ebrahim-elkafrawy/.conda/envs/gis/lib/python3.6/site-packages/ipykernel_launcher.py:60: RuntimeWarning: invalid value encountered in true_divide\n",
      "/home/mila/s/sara.ebrahim-elkafrawy/.conda/envs/gis/lib/python3.6/site-packages/ipykernel_launcher.py:60: RuntimeWarning: invalid value encountered in true_divide\n",
      "/home/mila/s/sara.ebrahim-elkafrawy/.conda/envs/gis/lib/python3.6/site-packages/ipykernel_launcher.py:60: RuntimeWarning: invalid value encountered in true_divide\n",
      "/home/mila/s/sara.ebrahim-elkafrawy/.conda/envs/gis/lib/python3.6/site-packages/ipykernel_launcher.py:60: RuntimeWarning: invalid value encountered in true_divide\n",
      "/home/mila/s/sara.ebrahim-elkafrawy/.conda/envs/gis/lib/python3.6/site-packages/ipykernel_launcher.py:60: RuntimeWarning: invalid value encountered in true_divide\n",
      "/home/mila/s/sara.ebrahim-elkafrawy/.conda/envs/gis/lib/python3.6/site-packages/ipykernel_launcher.py:60: RuntimeWarning: invalid value encountered in true_divide\n",
      "/home/mila/s/sara.ebrahim-elkafrawy/.conda/envs/gis/lib/python3.6/site-packages/ipykernel_launcher.py:60: RuntimeWarning: invalid value encountered in true_divide\n",
      "/home/mila/s/sara.ebrahim-elkafrawy/.conda/envs/gis/lib/python3.6/site-packages/ipykernel_launcher.py:60: RuntimeWarning: invalid value encountered in true_divide\n",
      "/home/mila/s/sara.ebrahim-elkafrawy/.conda/envs/gis/lib/python3.6/site-packages/ipykernel_launcher.py:60: RuntimeWarning: invalid value encountered in true_divide\n",
      "/home/mila/s/sara.ebrahim-elkafrawy/.conda/envs/gis/lib/python3.6/site-packages/ipykernel_launcher.py:60: RuntimeWarning: invalid value encountered in true_divide\n",
      "/home/mila/s/sara.ebrahim-elkafrawy/.conda/envs/gis/lib/python3.6/site-packages/ipykernel_launcher.py:60: RuntimeWarning: invalid value encountered in true_divide\n",
      "/home/mila/s/sara.ebrahim-elkafrawy/.conda/envs/gis/lib/python3.6/site-packages/ipykernel_launcher.py:60: RuntimeWarning: invalid value encountered in true_divide\n",
      "/home/mila/s/sara.ebrahim-elkafrawy/.conda/envs/gis/lib/python3.6/site-packages/ipykernel_launcher.py:60: RuntimeWarning: invalid value encountered in true_divide\n",
      "/home/mila/s/sara.ebrahim-elkafrawy/.conda/envs/gis/lib/python3.6/site-packages/ipykernel_launcher.py:60: RuntimeWarning: invalid value encountered in true_divide\n",
      "/home/mila/s/sara.ebrahim-elkafrawy/.conda/envs/gis/lib/python3.6/site-packages/ipykernel_launcher.py:60: RuntimeWarning: invalid value encountered in true_divide\n",
      "/home/mila/s/sara.ebrahim-elkafrawy/.conda/envs/gis/lib/python3.6/site-packages/ipykernel_launcher.py:60: RuntimeWarning: invalid value encountered in true_divide\n",
      "/home/mila/s/sara.ebrahim-elkafrawy/.conda/envs/gis/lib/python3.6/site-packages/ipykernel_launcher.py:60: RuntimeWarning: invalid value encountered in true_divide\n",
      "/home/mila/s/sara.ebrahim-elkafrawy/.conda/envs/gis/lib/python3.6/site-packages/ipykernel_launcher.py:60: RuntimeWarning: invalid value encountered in true_divide\n",
      "/home/mila/s/sara.ebrahim-elkafrawy/.conda/envs/gis/lib/python3.6/site-packages/ipykernel_launcher.py:60: RuntimeWarning: invalid value encountered in true_divide\n"
     ]
    },
    {
     "name": "stdout",
     "output_type": "stream",
     "text": [
      "kmeans for output of conv layer#102\n",
      "current feature map dim: torch.Size([256, 1024, 1, 1])\n",
      "Initializing parameter#105 with size: torch.Size([256, 256, 3, 3])\n",
      "num_feats:256, num_ch:256, patch_size:(3, 3)\n"
     ]
    },
    {
     "name": "stderr",
     "output_type": "stream",
     "text": [
      "/home/mila/s/sara.ebrahim-elkafrawy/.conda/envs/gis/lib/python3.6/site-packages/ipykernel_launcher.py:60: RuntimeWarning: invalid value encountered in true_divide\n",
      "/home/mila/s/sara.ebrahim-elkafrawy/.conda/envs/gis/lib/python3.6/site-packages/ipykernel_launcher.py:60: RuntimeWarning: invalid value encountered in true_divide\n",
      "/home/mila/s/sara.ebrahim-elkafrawy/.conda/envs/gis/lib/python3.6/site-packages/ipykernel_launcher.py:60: RuntimeWarning: invalid value encountered in true_divide\n",
      "/home/mila/s/sara.ebrahim-elkafrawy/.conda/envs/gis/lib/python3.6/site-packages/ipykernel_launcher.py:60: RuntimeWarning: invalid value encountered in true_divide\n",
      "/home/mila/s/sara.ebrahim-elkafrawy/.conda/envs/gis/lib/python3.6/site-packages/ipykernel_launcher.py:60: RuntimeWarning: invalid value encountered in true_divide\n",
      "/home/mila/s/sara.ebrahim-elkafrawy/.conda/envs/gis/lib/python3.6/site-packages/ipykernel_launcher.py:60: RuntimeWarning: invalid value encountered in true_divide\n",
      "/home/mila/s/sara.ebrahim-elkafrawy/.conda/envs/gis/lib/python3.6/site-packages/ipykernel_launcher.py:60: RuntimeWarning: invalid value encountered in true_divide\n",
      "/home/mila/s/sara.ebrahim-elkafrawy/.conda/envs/gis/lib/python3.6/site-packages/ipykernel_launcher.py:60: RuntimeWarning: invalid value encountered in true_divide\n",
      "/home/mila/s/sara.ebrahim-elkafrawy/.conda/envs/gis/lib/python3.6/site-packages/ipykernel_launcher.py:60: RuntimeWarning: invalid value encountered in true_divide\n",
      "/home/mila/s/sara.ebrahim-elkafrawy/.conda/envs/gis/lib/python3.6/site-packages/ipykernel_launcher.py:60: RuntimeWarning: invalid value encountered in true_divide\n",
      "/home/mila/s/sara.ebrahim-elkafrawy/.conda/envs/gis/lib/python3.6/site-packages/ipykernel_launcher.py:60: RuntimeWarning: invalid value encountered in true_divide\n",
      "/home/mila/s/sara.ebrahim-elkafrawy/.conda/envs/gis/lib/python3.6/site-packages/ipykernel_launcher.py:60: RuntimeWarning: invalid value encountered in true_divide\n",
      "/home/mila/s/sara.ebrahim-elkafrawy/.conda/envs/gis/lib/python3.6/site-packages/ipykernel_launcher.py:60: RuntimeWarning: invalid value encountered in true_divide\n",
      "/home/mila/s/sara.ebrahim-elkafrawy/.conda/envs/gis/lib/python3.6/site-packages/ipykernel_launcher.py:60: RuntimeWarning: invalid value encountered in true_divide\n",
      "/home/mila/s/sara.ebrahim-elkafrawy/.conda/envs/gis/lib/python3.6/site-packages/ipykernel_launcher.py:60: RuntimeWarning: invalid value encountered in true_divide\n",
      "/home/mila/s/sara.ebrahim-elkafrawy/.conda/envs/gis/lib/python3.6/site-packages/ipykernel_launcher.py:60: RuntimeWarning: invalid value encountered in true_divide\n",
      "/home/mila/s/sara.ebrahim-elkafrawy/.conda/envs/gis/lib/python3.6/site-packages/ipykernel_launcher.py:60: RuntimeWarning: invalid value encountered in true_divide\n",
      "/home/mila/s/sara.ebrahim-elkafrawy/.conda/envs/gis/lib/python3.6/site-packages/ipykernel_launcher.py:60: RuntimeWarning: invalid value encountered in true_divide\n",
      "/home/mila/s/sara.ebrahim-elkafrawy/.conda/envs/gis/lib/python3.6/site-packages/ipykernel_launcher.py:60: RuntimeWarning: invalid value encountered in true_divide\n",
      "/home/mila/s/sara.ebrahim-elkafrawy/.conda/envs/gis/lib/python3.6/site-packages/ipykernel_launcher.py:60: RuntimeWarning: invalid value encountered in true_divide\n",
      "/home/mila/s/sara.ebrahim-elkafrawy/.conda/envs/gis/lib/python3.6/site-packages/ipykernel_launcher.py:60: RuntimeWarning: invalid value encountered in true_divide\n",
      "/home/mila/s/sara.ebrahim-elkafrawy/.conda/envs/gis/lib/python3.6/site-packages/ipykernel_launcher.py:60: RuntimeWarning: invalid value encountered in true_divide\n",
      "/home/mila/s/sara.ebrahim-elkafrawy/.conda/envs/gis/lib/python3.6/site-packages/ipykernel_launcher.py:60: RuntimeWarning: invalid value encountered in true_divide\n",
      "/home/mila/s/sara.ebrahim-elkafrawy/.conda/envs/gis/lib/python3.6/site-packages/ipykernel_launcher.py:60: RuntimeWarning: invalid value encountered in true_divide\n",
      "/home/mila/s/sara.ebrahim-elkafrawy/.conda/envs/gis/lib/python3.6/site-packages/ipykernel_launcher.py:60: RuntimeWarning: invalid value encountered in true_divide\n",
      "/home/mila/s/sara.ebrahim-elkafrawy/.conda/envs/gis/lib/python3.6/site-packages/ipykernel_launcher.py:60: RuntimeWarning: invalid value encountered in true_divide\n",
      "/home/mila/s/sara.ebrahim-elkafrawy/.conda/envs/gis/lib/python3.6/site-packages/ipykernel_launcher.py:60: RuntimeWarning: invalid value encountered in true_divide\n"
     ]
    },
    {
     "name": "stdout",
     "output_type": "stream",
     "text": [
      "[MiniBatchKMeans] Reassigning 48 cluster centers.\n"
     ]
    },
    {
     "name": "stderr",
     "output_type": "stream",
     "text": [
      "/home/mila/s/sara.ebrahim-elkafrawy/.conda/envs/gis/lib/python3.6/site-packages/ipykernel_launcher.py:60: RuntimeWarning: invalid value encountered in true_divide\n",
      "/home/mila/s/sara.ebrahim-elkafrawy/.conda/envs/gis/lib/python3.6/site-packages/ipykernel_launcher.py:60: RuntimeWarning: invalid value encountered in true_divide\n",
      "/home/mila/s/sara.ebrahim-elkafrawy/.conda/envs/gis/lib/python3.6/site-packages/ipykernel_launcher.py:60: RuntimeWarning: invalid value encountered in true_divide\n"
     ]
    },
    {
     "name": "stdout",
     "output_type": "stream",
     "text": [
      "kmeans for output of conv layer#105\n",
      "current feature map dim: torch.Size([256, 256, 3, 3])\n",
      "Initializing parameter#108 with size: torch.Size([1024, 256, 1, 1])\n",
      "num_feats:1024, num_ch:256, patch_size:(1, 1)\n",
      "[MiniBatchKMeans] Reassigning 370 cluster centers.\n"
     ]
    },
    {
     "name": "stderr",
     "output_type": "stream",
     "text": [
      "/home/mila/s/sara.ebrahim-elkafrawy/.conda/envs/gis/lib/python3.6/site-packages/ipykernel_launcher.py:60: RuntimeWarning: invalid value encountered in true_divide\n"
     ]
    },
    {
     "name": "stdout",
     "output_type": "stream",
     "text": [
      "kmeans for output of conv layer#108\n",
      "current feature map dim: torch.Size([1024, 256, 1, 1])\n",
      "Initializing parameter#111 with size: torch.Size([256, 1024, 1, 1])\n",
      "num_feats:256, num_ch:1024, patch_size:(1, 1)\n"
     ]
    },
    {
     "name": "stderr",
     "output_type": "stream",
     "text": [
      "/home/mila/s/sara.ebrahim-elkafrawy/.conda/envs/gis/lib/python3.6/site-packages/ipykernel_launcher.py:60: RuntimeWarning: invalid value encountered in true_divide\n",
      "/home/mila/s/sara.ebrahim-elkafrawy/.conda/envs/gis/lib/python3.6/site-packages/ipykernel_launcher.py:60: RuntimeWarning: invalid value encountered in true_divide\n",
      "/home/mila/s/sara.ebrahim-elkafrawy/.conda/envs/gis/lib/python3.6/site-packages/ipykernel_launcher.py:60: RuntimeWarning: invalid value encountered in true_divide\n",
      "/home/mila/s/sara.ebrahim-elkafrawy/.conda/envs/gis/lib/python3.6/site-packages/ipykernel_launcher.py:60: RuntimeWarning: invalid value encountered in true_divide\n",
      "/home/mila/s/sara.ebrahim-elkafrawy/.conda/envs/gis/lib/python3.6/site-packages/ipykernel_launcher.py:60: RuntimeWarning: invalid value encountered in true_divide\n",
      "/home/mila/s/sara.ebrahim-elkafrawy/.conda/envs/gis/lib/python3.6/site-packages/ipykernel_launcher.py:60: RuntimeWarning: invalid value encountered in true_divide\n",
      "/home/mila/s/sara.ebrahim-elkafrawy/.conda/envs/gis/lib/python3.6/site-packages/ipykernel_launcher.py:60: RuntimeWarning: invalid value encountered in true_divide\n",
      "/home/mila/s/sara.ebrahim-elkafrawy/.conda/envs/gis/lib/python3.6/site-packages/ipykernel_launcher.py:60: RuntimeWarning: invalid value encountered in true_divide\n",
      "/home/mila/s/sara.ebrahim-elkafrawy/.conda/envs/gis/lib/python3.6/site-packages/ipykernel_launcher.py:60: RuntimeWarning: invalid value encountered in true_divide\n"
     ]
    },
    {
     "name": "stdout",
     "output_type": "stream",
     "text": [
      "[MiniBatchKMeans] Reassigning 27 cluster centers.\n"
     ]
    },
    {
     "name": "stderr",
     "output_type": "stream",
     "text": [
      "/home/mila/s/sara.ebrahim-elkafrawy/.conda/envs/gis/lib/python3.6/site-packages/ipykernel_launcher.py:60: RuntimeWarning: invalid value encountered in true_divide\n",
      "/home/mila/s/sara.ebrahim-elkafrawy/.conda/envs/gis/lib/python3.6/site-packages/ipykernel_launcher.py:60: RuntimeWarning: invalid value encountered in true_divide\n",
      "/home/mila/s/sara.ebrahim-elkafrawy/.conda/envs/gis/lib/python3.6/site-packages/ipykernel_launcher.py:60: RuntimeWarning: invalid value encountered in true_divide\n",
      "/home/mila/s/sara.ebrahim-elkafrawy/.conda/envs/gis/lib/python3.6/site-packages/ipykernel_launcher.py:60: RuntimeWarning: invalid value encountered in true_divide\n",
      "/home/mila/s/sara.ebrahim-elkafrawy/.conda/envs/gis/lib/python3.6/site-packages/ipykernel_launcher.py:60: RuntimeWarning: invalid value encountered in true_divide\n",
      "/home/mila/s/sara.ebrahim-elkafrawy/.conda/envs/gis/lib/python3.6/site-packages/ipykernel_launcher.py:60: RuntimeWarning: invalid value encountered in true_divide\n",
      "/home/mila/s/sara.ebrahim-elkafrawy/.conda/envs/gis/lib/python3.6/site-packages/ipykernel_launcher.py:60: RuntimeWarning: invalid value encountered in true_divide\n",
      "/home/mila/s/sara.ebrahim-elkafrawy/.conda/envs/gis/lib/python3.6/site-packages/ipykernel_launcher.py:60: RuntimeWarning: invalid value encountered in true_divide\n",
      "/home/mila/s/sara.ebrahim-elkafrawy/.conda/envs/gis/lib/python3.6/site-packages/ipykernel_launcher.py:60: RuntimeWarning: invalid value encountered in true_divide\n",
      "/home/mila/s/sara.ebrahim-elkafrawy/.conda/envs/gis/lib/python3.6/site-packages/ipykernel_launcher.py:60: RuntimeWarning: invalid value encountered in true_divide\n",
      "/home/mila/s/sara.ebrahim-elkafrawy/.conda/envs/gis/lib/python3.6/site-packages/ipykernel_launcher.py:60: RuntimeWarning: invalid value encountered in true_divide\n",
      "/home/mila/s/sara.ebrahim-elkafrawy/.conda/envs/gis/lib/python3.6/site-packages/ipykernel_launcher.py:60: RuntimeWarning: invalid value encountered in true_divide\n",
      "/home/mila/s/sara.ebrahim-elkafrawy/.conda/envs/gis/lib/python3.6/site-packages/ipykernel_launcher.py:60: RuntimeWarning: invalid value encountered in true_divide\n",
      "/home/mila/s/sara.ebrahim-elkafrawy/.conda/envs/gis/lib/python3.6/site-packages/ipykernel_launcher.py:60: RuntimeWarning: invalid value encountered in true_divide\n",
      "/home/mila/s/sara.ebrahim-elkafrawy/.conda/envs/gis/lib/python3.6/site-packages/ipykernel_launcher.py:60: RuntimeWarning: invalid value encountered in true_divide\n",
      "/home/mila/s/sara.ebrahim-elkafrawy/.conda/envs/gis/lib/python3.6/site-packages/ipykernel_launcher.py:60: RuntimeWarning: invalid value encountered in true_divide\n",
      "/home/mila/s/sara.ebrahim-elkafrawy/.conda/envs/gis/lib/python3.6/site-packages/ipykernel_launcher.py:60: RuntimeWarning: invalid value encountered in true_divide\n",
      "/home/mila/s/sara.ebrahim-elkafrawy/.conda/envs/gis/lib/python3.6/site-packages/ipykernel_launcher.py:60: RuntimeWarning: invalid value encountered in true_divide\n",
      "/home/mila/s/sara.ebrahim-elkafrawy/.conda/envs/gis/lib/python3.6/site-packages/ipykernel_launcher.py:60: RuntimeWarning: invalid value encountered in true_divide\n",
      "/home/mila/s/sara.ebrahim-elkafrawy/.conda/envs/gis/lib/python3.6/site-packages/ipykernel_launcher.py:60: RuntimeWarning: invalid value encountered in true_divide\n",
      "/home/mila/s/sara.ebrahim-elkafrawy/.conda/envs/gis/lib/python3.6/site-packages/ipykernel_launcher.py:60: RuntimeWarning: invalid value encountered in true_divide\n"
     ]
    },
    {
     "name": "stdout",
     "output_type": "stream",
     "text": [
      "kmeans for output of conv layer#111\n",
      "current feature map dim: torch.Size([256, 1024, 1, 1])\n",
      "Initializing parameter#114 with size: torch.Size([256, 256, 3, 3])\n",
      "num_feats:256, num_ch:256, patch_size:(3, 3)\n"
     ]
    },
    {
     "name": "stderr",
     "output_type": "stream",
     "text": [
      "/home/mila/s/sara.ebrahim-elkafrawy/.conda/envs/gis/lib/python3.6/site-packages/ipykernel_launcher.py:60: RuntimeWarning: invalid value encountered in true_divide\n",
      "/home/mila/s/sara.ebrahim-elkafrawy/.conda/envs/gis/lib/python3.6/site-packages/ipykernel_launcher.py:60: RuntimeWarning: invalid value encountered in true_divide\n",
      "/home/mila/s/sara.ebrahim-elkafrawy/.conda/envs/gis/lib/python3.6/site-packages/ipykernel_launcher.py:60: RuntimeWarning: invalid value encountered in true_divide\n",
      "/home/mila/s/sara.ebrahim-elkafrawy/.conda/envs/gis/lib/python3.6/site-packages/ipykernel_launcher.py:60: RuntimeWarning: invalid value encountered in true_divide\n",
      "/home/mila/s/sara.ebrahim-elkafrawy/.conda/envs/gis/lib/python3.6/site-packages/ipykernel_launcher.py:60: RuntimeWarning: invalid value encountered in true_divide\n",
      "/home/mila/s/sara.ebrahim-elkafrawy/.conda/envs/gis/lib/python3.6/site-packages/ipykernel_launcher.py:60: RuntimeWarning: invalid value encountered in true_divide\n",
      "/home/mila/s/sara.ebrahim-elkafrawy/.conda/envs/gis/lib/python3.6/site-packages/ipykernel_launcher.py:60: RuntimeWarning: invalid value encountered in true_divide\n",
      "/home/mila/s/sara.ebrahim-elkafrawy/.conda/envs/gis/lib/python3.6/site-packages/ipykernel_launcher.py:60: RuntimeWarning: invalid value encountered in true_divide\n",
      "/home/mila/s/sara.ebrahim-elkafrawy/.conda/envs/gis/lib/python3.6/site-packages/ipykernel_launcher.py:60: RuntimeWarning: invalid value encountered in true_divide\n",
      "/home/mila/s/sara.ebrahim-elkafrawy/.conda/envs/gis/lib/python3.6/site-packages/ipykernel_launcher.py:60: RuntimeWarning: invalid value encountered in true_divide\n",
      "/home/mila/s/sara.ebrahim-elkafrawy/.conda/envs/gis/lib/python3.6/site-packages/ipykernel_launcher.py:60: RuntimeWarning: invalid value encountered in true_divide\n",
      "/home/mila/s/sara.ebrahim-elkafrawy/.conda/envs/gis/lib/python3.6/site-packages/ipykernel_launcher.py:60: RuntimeWarning: invalid value encountered in true_divide\n",
      "/home/mila/s/sara.ebrahim-elkafrawy/.conda/envs/gis/lib/python3.6/site-packages/ipykernel_launcher.py:60: RuntimeWarning: invalid value encountered in true_divide\n",
      "/home/mila/s/sara.ebrahim-elkafrawy/.conda/envs/gis/lib/python3.6/site-packages/ipykernel_launcher.py:60: RuntimeWarning: invalid value encountered in true_divide\n",
      "/home/mila/s/sara.ebrahim-elkafrawy/.conda/envs/gis/lib/python3.6/site-packages/ipykernel_launcher.py:60: RuntimeWarning: invalid value encountered in true_divide\n",
      "/home/mila/s/sara.ebrahim-elkafrawy/.conda/envs/gis/lib/python3.6/site-packages/ipykernel_launcher.py:60: RuntimeWarning: invalid value encountered in true_divide\n",
      "/home/mila/s/sara.ebrahim-elkafrawy/.conda/envs/gis/lib/python3.6/site-packages/ipykernel_launcher.py:60: RuntimeWarning: invalid value encountered in true_divide\n",
      "/home/mila/s/sara.ebrahim-elkafrawy/.conda/envs/gis/lib/python3.6/site-packages/ipykernel_launcher.py:60: RuntimeWarning: invalid value encountered in true_divide\n",
      "/home/mila/s/sara.ebrahim-elkafrawy/.conda/envs/gis/lib/python3.6/site-packages/ipykernel_launcher.py:60: RuntimeWarning: invalid value encountered in true_divide\n",
      "/home/mila/s/sara.ebrahim-elkafrawy/.conda/envs/gis/lib/python3.6/site-packages/ipykernel_launcher.py:60: RuntimeWarning: invalid value encountered in true_divide\n"
     ]
    },
    {
     "name": "stdout",
     "output_type": "stream",
     "text": [
      "[MiniBatchKMeans] Reassigning 50 cluster centers.\n"
     ]
    },
    {
     "name": "stderr",
     "output_type": "stream",
     "text": [
      "/home/mila/s/sara.ebrahim-elkafrawy/.conda/envs/gis/lib/python3.6/site-packages/ipykernel_launcher.py:60: RuntimeWarning: invalid value encountered in true_divide\n",
      "/home/mila/s/sara.ebrahim-elkafrawy/.conda/envs/gis/lib/python3.6/site-packages/ipykernel_launcher.py:60: RuntimeWarning: invalid value encountered in true_divide\n",
      "/home/mila/s/sara.ebrahim-elkafrawy/.conda/envs/gis/lib/python3.6/site-packages/ipykernel_launcher.py:60: RuntimeWarning: invalid value encountered in true_divide\n",
      "/home/mila/s/sara.ebrahim-elkafrawy/.conda/envs/gis/lib/python3.6/site-packages/ipykernel_launcher.py:60: RuntimeWarning: invalid value encountered in true_divide\n",
      "/home/mila/s/sara.ebrahim-elkafrawy/.conda/envs/gis/lib/python3.6/site-packages/ipykernel_launcher.py:60: RuntimeWarning: invalid value encountered in true_divide\n",
      "/home/mila/s/sara.ebrahim-elkafrawy/.conda/envs/gis/lib/python3.6/site-packages/ipykernel_launcher.py:60: RuntimeWarning: invalid value encountered in true_divide\n",
      "/home/mila/s/sara.ebrahim-elkafrawy/.conda/envs/gis/lib/python3.6/site-packages/ipykernel_launcher.py:60: RuntimeWarning: invalid value encountered in true_divide\n",
      "/home/mila/s/sara.ebrahim-elkafrawy/.conda/envs/gis/lib/python3.6/site-packages/ipykernel_launcher.py:60: RuntimeWarning: invalid value encountered in true_divide\n",
      "/home/mila/s/sara.ebrahim-elkafrawy/.conda/envs/gis/lib/python3.6/site-packages/ipykernel_launcher.py:60: RuntimeWarning: invalid value encountered in true_divide\n",
      "/home/mila/s/sara.ebrahim-elkafrawy/.conda/envs/gis/lib/python3.6/site-packages/ipykernel_launcher.py:60: RuntimeWarning: invalid value encountered in true_divide\n"
     ]
    },
    {
     "name": "stdout",
     "output_type": "stream",
     "text": [
      "kmeans for output of conv layer#114\n",
      "current feature map dim: torch.Size([256, 256, 3, 3])\n",
      "Initializing parameter#117 with size: torch.Size([1024, 256, 1, 1])\n",
      "num_feats:1024, num_ch:256, patch_size:(1, 1)\n"
     ]
    },
    {
     "name": "stderr",
     "output_type": "stream",
     "text": [
      "/home/mila/s/sara.ebrahim-elkafrawy/.conda/envs/gis/lib/python3.6/site-packages/ipykernel_launcher.py:60: RuntimeWarning: invalid value encountered in true_divide\n",
      "/home/mila/s/sara.ebrahim-elkafrawy/.conda/envs/gis/lib/python3.6/site-packages/ipykernel_launcher.py:60: RuntimeWarning: invalid value encountered in true_divide\n",
      "/home/mila/s/sara.ebrahim-elkafrawy/.conda/envs/gis/lib/python3.6/site-packages/ipykernel_launcher.py:60: RuntimeWarning: invalid value encountered in true_divide\n",
      "/home/mila/s/sara.ebrahim-elkafrawy/.conda/envs/gis/lib/python3.6/site-packages/ipykernel_launcher.py:60: RuntimeWarning: invalid value encountered in true_divide\n"
     ]
    },
    {
     "name": "stdout",
     "output_type": "stream",
     "text": [
      "[MiniBatchKMeans] Reassigning 569 cluster centers.\n"
     ]
    },
    {
     "name": "stderr",
     "output_type": "stream",
     "text": [
      "/home/mila/s/sara.ebrahim-elkafrawy/.conda/envs/gis/lib/python3.6/site-packages/ipykernel_launcher.py:60: RuntimeWarning: invalid value encountered in true_divide\n",
      "/home/mila/s/sara.ebrahim-elkafrawy/.conda/envs/gis/lib/python3.6/site-packages/ipykernel_launcher.py:60: RuntimeWarning: invalid value encountered in true_divide\n",
      "/home/mila/s/sara.ebrahim-elkafrawy/.conda/envs/gis/lib/python3.6/site-packages/ipykernel_launcher.py:60: RuntimeWarning: invalid value encountered in true_divide\n"
     ]
    },
    {
     "name": "stdout",
     "output_type": "stream",
     "text": [
      "kmeans for output of conv layer#117\n",
      "current feature map dim: torch.Size([1024, 256, 1, 1])\n",
      "Initializing parameter#120 with size: torch.Size([256, 1024, 1, 1])\n",
      "num_feats:256, num_ch:1024, patch_size:(1, 1)\n"
     ]
    },
    {
     "name": "stderr",
     "output_type": "stream",
     "text": [
      "/home/mila/s/sara.ebrahim-elkafrawy/.conda/envs/gis/lib/python3.6/site-packages/ipykernel_launcher.py:60: RuntimeWarning: invalid value encountered in true_divide\n",
      "/home/mila/s/sara.ebrahim-elkafrawy/.conda/envs/gis/lib/python3.6/site-packages/ipykernel_launcher.py:60: RuntimeWarning: invalid value encountered in true_divide\n",
      "/home/mila/s/sara.ebrahim-elkafrawy/.conda/envs/gis/lib/python3.6/site-packages/ipykernel_launcher.py:60: RuntimeWarning: invalid value encountered in true_divide\n",
      "/home/mila/s/sara.ebrahim-elkafrawy/.conda/envs/gis/lib/python3.6/site-packages/ipykernel_launcher.py:60: RuntimeWarning: invalid value encountered in true_divide\n",
      "/home/mila/s/sara.ebrahim-elkafrawy/.conda/envs/gis/lib/python3.6/site-packages/ipykernel_launcher.py:60: RuntimeWarning: invalid value encountered in true_divide\n",
      "/home/mila/s/sara.ebrahim-elkafrawy/.conda/envs/gis/lib/python3.6/site-packages/ipykernel_launcher.py:60: RuntimeWarning: invalid value encountered in true_divide\n",
      "/home/mila/s/sara.ebrahim-elkafrawy/.conda/envs/gis/lib/python3.6/site-packages/ipykernel_launcher.py:60: RuntimeWarning: invalid value encountered in true_divide\n",
      "/home/mila/s/sara.ebrahim-elkafrawy/.conda/envs/gis/lib/python3.6/site-packages/ipykernel_launcher.py:60: RuntimeWarning: invalid value encountered in true_divide\n",
      "/home/mila/s/sara.ebrahim-elkafrawy/.conda/envs/gis/lib/python3.6/site-packages/ipykernel_launcher.py:60: RuntimeWarning: invalid value encountered in true_divide\n",
      "/home/mila/s/sara.ebrahim-elkafrawy/.conda/envs/gis/lib/python3.6/site-packages/ipykernel_launcher.py:60: RuntimeWarning: invalid value encountered in true_divide\n",
      "/home/mila/s/sara.ebrahim-elkafrawy/.conda/envs/gis/lib/python3.6/site-packages/ipykernel_launcher.py:60: RuntimeWarning: invalid value encountered in true_divide\n",
      "/home/mila/s/sara.ebrahim-elkafrawy/.conda/envs/gis/lib/python3.6/site-packages/ipykernel_launcher.py:60: RuntimeWarning: invalid value encountered in true_divide\n",
      "/home/mila/s/sara.ebrahim-elkafrawy/.conda/envs/gis/lib/python3.6/site-packages/ipykernel_launcher.py:60: RuntimeWarning: invalid value encountered in true_divide\n",
      "/home/mila/s/sara.ebrahim-elkafrawy/.conda/envs/gis/lib/python3.6/site-packages/ipykernel_launcher.py:60: RuntimeWarning: invalid value encountered in true_divide\n",
      "/home/mila/s/sara.ebrahim-elkafrawy/.conda/envs/gis/lib/python3.6/site-packages/ipykernel_launcher.py:60: RuntimeWarning: invalid value encountered in true_divide\n",
      "/home/mila/s/sara.ebrahim-elkafrawy/.conda/envs/gis/lib/python3.6/site-packages/ipykernel_launcher.py:60: RuntimeWarning: invalid value encountered in true_divide\n",
      "/home/mila/s/sara.ebrahim-elkafrawy/.conda/envs/gis/lib/python3.6/site-packages/ipykernel_launcher.py:60: RuntimeWarning: invalid value encountered in true_divide\n",
      "/home/mila/s/sara.ebrahim-elkafrawy/.conda/envs/gis/lib/python3.6/site-packages/ipykernel_launcher.py:60: RuntimeWarning: invalid value encountered in true_divide\n",
      "/home/mila/s/sara.ebrahim-elkafrawy/.conda/envs/gis/lib/python3.6/site-packages/ipykernel_launcher.py:60: RuntimeWarning: invalid value encountered in true_divide\n",
      "/home/mila/s/sara.ebrahim-elkafrawy/.conda/envs/gis/lib/python3.6/site-packages/ipykernel_launcher.py:60: RuntimeWarning: invalid value encountered in true_divide\n",
      "/home/mila/s/sara.ebrahim-elkafrawy/.conda/envs/gis/lib/python3.6/site-packages/ipykernel_launcher.py:60: RuntimeWarning: invalid value encountered in true_divide\n",
      "/home/mila/s/sara.ebrahim-elkafrawy/.conda/envs/gis/lib/python3.6/site-packages/ipykernel_launcher.py:60: RuntimeWarning: invalid value encountered in true_divide\n",
      "/home/mila/s/sara.ebrahim-elkafrawy/.conda/envs/gis/lib/python3.6/site-packages/ipykernel_launcher.py:60: RuntimeWarning: invalid value encountered in true_divide\n",
      "/home/mila/s/sara.ebrahim-elkafrawy/.conda/envs/gis/lib/python3.6/site-packages/ipykernel_launcher.py:60: RuntimeWarning: invalid value encountered in true_divide\n",
      "/home/mila/s/sara.ebrahim-elkafrawy/.conda/envs/gis/lib/python3.6/site-packages/ipykernel_launcher.py:60: RuntimeWarning: invalid value encountered in true_divide\n"
     ]
    },
    {
     "name": "stdout",
     "output_type": "stream",
     "text": [
      "[MiniBatchKMeans] Reassigning 11 cluster centers.\n"
     ]
    },
    {
     "name": "stderr",
     "output_type": "stream",
     "text": [
      "/home/mila/s/sara.ebrahim-elkafrawy/.conda/envs/gis/lib/python3.6/site-packages/ipykernel_launcher.py:60: RuntimeWarning: invalid value encountered in true_divide\n",
      "/home/mila/s/sara.ebrahim-elkafrawy/.conda/envs/gis/lib/python3.6/site-packages/ipykernel_launcher.py:60: RuntimeWarning: invalid value encountered in true_divide\n",
      "/home/mila/s/sara.ebrahim-elkafrawy/.conda/envs/gis/lib/python3.6/site-packages/ipykernel_launcher.py:60: RuntimeWarning: invalid value encountered in true_divide\n",
      "/home/mila/s/sara.ebrahim-elkafrawy/.conda/envs/gis/lib/python3.6/site-packages/ipykernel_launcher.py:60: RuntimeWarning: invalid value encountered in true_divide\n",
      "/home/mila/s/sara.ebrahim-elkafrawy/.conda/envs/gis/lib/python3.6/site-packages/ipykernel_launcher.py:60: RuntimeWarning: invalid value encountered in true_divide\n"
     ]
    },
    {
     "name": "stdout",
     "output_type": "stream",
     "text": [
      "kmeans for output of conv layer#120\n",
      "current feature map dim: torch.Size([256, 1024, 1, 1])\n",
      "Initializing parameter#123 with size: torch.Size([256, 256, 3, 3])\n",
      "num_feats:256, num_ch:256, patch_size:(3, 3)\n"
     ]
    },
    {
     "name": "stderr",
     "output_type": "stream",
     "text": [
      "/home/mila/s/sara.ebrahim-elkafrawy/.conda/envs/gis/lib/python3.6/site-packages/ipykernel_launcher.py:60: RuntimeWarning: invalid value encountered in true_divide\n",
      "/home/mila/s/sara.ebrahim-elkafrawy/.conda/envs/gis/lib/python3.6/site-packages/ipykernel_launcher.py:60: RuntimeWarning: invalid value encountered in true_divide\n",
      "/home/mila/s/sara.ebrahim-elkafrawy/.conda/envs/gis/lib/python3.6/site-packages/ipykernel_launcher.py:60: RuntimeWarning: invalid value encountered in true_divide\n",
      "/home/mila/s/sara.ebrahim-elkafrawy/.conda/envs/gis/lib/python3.6/site-packages/ipykernel_launcher.py:60: RuntimeWarning: invalid value encountered in true_divide\n",
      "/home/mila/s/sara.ebrahim-elkafrawy/.conda/envs/gis/lib/python3.6/site-packages/ipykernel_launcher.py:60: RuntimeWarning: invalid value encountered in true_divide\n",
      "/home/mila/s/sara.ebrahim-elkafrawy/.conda/envs/gis/lib/python3.6/site-packages/ipykernel_launcher.py:60: RuntimeWarning: invalid value encountered in true_divide\n",
      "/home/mila/s/sara.ebrahim-elkafrawy/.conda/envs/gis/lib/python3.6/site-packages/ipykernel_launcher.py:60: RuntimeWarning: invalid value encountered in true_divide\n",
      "/home/mila/s/sara.ebrahim-elkafrawy/.conda/envs/gis/lib/python3.6/site-packages/ipykernel_launcher.py:60: RuntimeWarning: invalid value encountered in true_divide\n",
      "/home/mila/s/sara.ebrahim-elkafrawy/.conda/envs/gis/lib/python3.6/site-packages/ipykernel_launcher.py:60: RuntimeWarning: invalid value encountered in true_divide\n"
     ]
    },
    {
     "name": "stdout",
     "output_type": "stream",
     "text": [
      "[MiniBatchKMeans] Reassigning 76 cluster centers.\n"
     ]
    },
    {
     "name": "stderr",
     "output_type": "stream",
     "text": [
      "/home/mila/s/sara.ebrahim-elkafrawy/.conda/envs/gis/lib/python3.6/site-packages/ipykernel_launcher.py:60: RuntimeWarning: invalid value encountered in true_divide\n",
      "/home/mila/s/sara.ebrahim-elkafrawy/.conda/envs/gis/lib/python3.6/site-packages/ipykernel_launcher.py:60: RuntimeWarning: invalid value encountered in true_divide\n",
      "/home/mila/s/sara.ebrahim-elkafrawy/.conda/envs/gis/lib/python3.6/site-packages/ipykernel_launcher.py:60: RuntimeWarning: invalid value encountered in true_divide\n",
      "/home/mila/s/sara.ebrahim-elkafrawy/.conda/envs/gis/lib/python3.6/site-packages/ipykernel_launcher.py:60: RuntimeWarning: invalid value encountered in true_divide\n",
      "/home/mila/s/sara.ebrahim-elkafrawy/.conda/envs/gis/lib/python3.6/site-packages/ipykernel_launcher.py:60: RuntimeWarning: invalid value encountered in true_divide\n",
      "/home/mila/s/sara.ebrahim-elkafrawy/.conda/envs/gis/lib/python3.6/site-packages/ipykernel_launcher.py:60: RuntimeWarning: invalid value encountered in true_divide\n",
      "/home/mila/s/sara.ebrahim-elkafrawy/.conda/envs/gis/lib/python3.6/site-packages/ipykernel_launcher.py:60: RuntimeWarning: invalid value encountered in true_divide\n",
      "/home/mila/s/sara.ebrahim-elkafrawy/.conda/envs/gis/lib/python3.6/site-packages/ipykernel_launcher.py:60: RuntimeWarning: invalid value encountered in true_divide\n",
      "/home/mila/s/sara.ebrahim-elkafrawy/.conda/envs/gis/lib/python3.6/site-packages/ipykernel_launcher.py:60: RuntimeWarning: invalid value encountered in true_divide\n",
      "/home/mila/s/sara.ebrahim-elkafrawy/.conda/envs/gis/lib/python3.6/site-packages/ipykernel_launcher.py:60: RuntimeWarning: invalid value encountered in true_divide\n",
      "/home/mila/s/sara.ebrahim-elkafrawy/.conda/envs/gis/lib/python3.6/site-packages/ipykernel_launcher.py:60: RuntimeWarning: invalid value encountered in true_divide\n",
      "/home/mila/s/sara.ebrahim-elkafrawy/.conda/envs/gis/lib/python3.6/site-packages/ipykernel_launcher.py:60: RuntimeWarning: invalid value encountered in true_divide\n",
      "/home/mila/s/sara.ebrahim-elkafrawy/.conda/envs/gis/lib/python3.6/site-packages/ipykernel_launcher.py:60: RuntimeWarning: invalid value encountered in true_divide\n",
      "/home/mila/s/sara.ebrahim-elkafrawy/.conda/envs/gis/lib/python3.6/site-packages/ipykernel_launcher.py:60: RuntimeWarning: invalid value encountered in true_divide\n",
      "/home/mila/s/sara.ebrahim-elkafrawy/.conda/envs/gis/lib/python3.6/site-packages/ipykernel_launcher.py:60: RuntimeWarning: invalid value encountered in true_divide\n",
      "/home/mila/s/sara.ebrahim-elkafrawy/.conda/envs/gis/lib/python3.6/site-packages/ipykernel_launcher.py:60: RuntimeWarning: invalid value encountered in true_divide\n",
      "/home/mila/s/sara.ebrahim-elkafrawy/.conda/envs/gis/lib/python3.6/site-packages/ipykernel_launcher.py:60: RuntimeWarning: invalid value encountered in true_divide\n",
      "/home/mila/s/sara.ebrahim-elkafrawy/.conda/envs/gis/lib/python3.6/site-packages/ipykernel_launcher.py:60: RuntimeWarning: invalid value encountered in true_divide\n",
      "/home/mila/s/sara.ebrahim-elkafrawy/.conda/envs/gis/lib/python3.6/site-packages/ipykernel_launcher.py:60: RuntimeWarning: invalid value encountered in true_divide\n",
      "/home/mila/s/sara.ebrahim-elkafrawy/.conda/envs/gis/lib/python3.6/site-packages/ipykernel_launcher.py:60: RuntimeWarning: invalid value encountered in true_divide\n",
      "/home/mila/s/sara.ebrahim-elkafrawy/.conda/envs/gis/lib/python3.6/site-packages/ipykernel_launcher.py:60: RuntimeWarning: invalid value encountered in true_divide\n"
     ]
    },
    {
     "name": "stdout",
     "output_type": "stream",
     "text": [
      "kmeans for output of conv layer#123\n",
      "current feature map dim: torch.Size([256, 256, 3, 3])\n",
      "Initializing parameter#126 with size: torch.Size([1024, 256, 1, 1])\n",
      "num_feats:1024, num_ch:256, patch_size:(1, 1)\n",
      "[MiniBatchKMeans] Reassigning 435 cluster centers.\n",
      "kmeans for output of conv layer#126\n",
      "current feature map dim: torch.Size([1024, 256, 1, 1])\n",
      "Initializing parameter#129 with size: torch.Size([512, 1024, 1, 1])\n",
      "num_feats:512, num_ch:1024, patch_size:(1, 1)\n"
     ]
    },
    {
     "name": "stderr",
     "output_type": "stream",
     "text": [
      "/home/mila/s/sara.ebrahim-elkafrawy/.conda/envs/gis/lib/python3.6/site-packages/ipykernel_launcher.py:60: RuntimeWarning: invalid value encountered in true_divide\n",
      "/home/mila/s/sara.ebrahim-elkafrawy/.conda/envs/gis/lib/python3.6/site-packages/ipykernel_launcher.py:60: RuntimeWarning: invalid value encountered in true_divide\n",
      "/home/mila/s/sara.ebrahim-elkafrawy/.conda/envs/gis/lib/python3.6/site-packages/ipykernel_launcher.py:60: RuntimeWarning: invalid value encountered in true_divide\n",
      "/home/mila/s/sara.ebrahim-elkafrawy/.conda/envs/gis/lib/python3.6/site-packages/ipykernel_launcher.py:60: RuntimeWarning: invalid value encountered in true_divide\n",
      "/home/mila/s/sara.ebrahim-elkafrawy/.conda/envs/gis/lib/python3.6/site-packages/ipykernel_launcher.py:60: RuntimeWarning: invalid value encountered in true_divide\n",
      "/home/mila/s/sara.ebrahim-elkafrawy/.conda/envs/gis/lib/python3.6/site-packages/ipykernel_launcher.py:60: RuntimeWarning: invalid value encountered in true_divide\n",
      "/home/mila/s/sara.ebrahim-elkafrawy/.conda/envs/gis/lib/python3.6/site-packages/ipykernel_launcher.py:60: RuntimeWarning: invalid value encountered in true_divide\n",
      "/home/mila/s/sara.ebrahim-elkafrawy/.conda/envs/gis/lib/python3.6/site-packages/ipykernel_launcher.py:60: RuntimeWarning: invalid value encountered in true_divide\n",
      "/home/mila/s/sara.ebrahim-elkafrawy/.conda/envs/gis/lib/python3.6/site-packages/ipykernel_launcher.py:60: RuntimeWarning: invalid value encountered in true_divide\n",
      "/home/mila/s/sara.ebrahim-elkafrawy/.conda/envs/gis/lib/python3.6/site-packages/ipykernel_launcher.py:60: RuntimeWarning: invalid value encountered in true_divide\n",
      "/home/mila/s/sara.ebrahim-elkafrawy/.conda/envs/gis/lib/python3.6/site-packages/ipykernel_launcher.py:60: RuntimeWarning: invalid value encountered in true_divide\n"
     ]
    },
    {
     "name": "stdout",
     "output_type": "stream",
     "text": [
      "[MiniBatchKMeans] Reassigning 216 cluster centers.\n"
     ]
    },
    {
     "name": "stderr",
     "output_type": "stream",
     "text": [
      "/home/mila/s/sara.ebrahim-elkafrawy/.conda/envs/gis/lib/python3.6/site-packages/ipykernel_launcher.py:60: RuntimeWarning: invalid value encountered in true_divide\n",
      "/home/mila/s/sara.ebrahim-elkafrawy/.conda/envs/gis/lib/python3.6/site-packages/ipykernel_launcher.py:60: RuntimeWarning: invalid value encountered in true_divide\n",
      "/home/mila/s/sara.ebrahim-elkafrawy/.conda/envs/gis/lib/python3.6/site-packages/ipykernel_launcher.py:60: RuntimeWarning: invalid value encountered in true_divide\n",
      "/home/mila/s/sara.ebrahim-elkafrawy/.conda/envs/gis/lib/python3.6/site-packages/ipykernel_launcher.py:60: RuntimeWarning: invalid value encountered in true_divide\n",
      "/home/mila/s/sara.ebrahim-elkafrawy/.conda/envs/gis/lib/python3.6/site-packages/ipykernel_launcher.py:60: RuntimeWarning: invalid value encountered in true_divide\n",
      "/home/mila/s/sara.ebrahim-elkafrawy/.conda/envs/gis/lib/python3.6/site-packages/ipykernel_launcher.py:60: RuntimeWarning: invalid value encountered in true_divide\n",
      "/home/mila/s/sara.ebrahim-elkafrawy/.conda/envs/gis/lib/python3.6/site-packages/ipykernel_launcher.py:60: RuntimeWarning: invalid value encountered in true_divide\n",
      "/home/mila/s/sara.ebrahim-elkafrawy/.conda/envs/gis/lib/python3.6/site-packages/ipykernel_launcher.py:60: RuntimeWarning: invalid value encountered in true_divide\n",
      "/home/mila/s/sara.ebrahim-elkafrawy/.conda/envs/gis/lib/python3.6/site-packages/ipykernel_launcher.py:60: RuntimeWarning: invalid value encountered in true_divide\n",
      "/home/mila/s/sara.ebrahim-elkafrawy/.conda/envs/gis/lib/python3.6/site-packages/ipykernel_launcher.py:60: RuntimeWarning: invalid value encountered in true_divide\n",
      "/home/mila/s/sara.ebrahim-elkafrawy/.conda/envs/gis/lib/python3.6/site-packages/ipykernel_launcher.py:60: RuntimeWarning: invalid value encountered in true_divide\n",
      "/home/mila/s/sara.ebrahim-elkafrawy/.conda/envs/gis/lib/python3.6/site-packages/ipykernel_launcher.py:60: RuntimeWarning: invalid value encountered in true_divide\n",
      "/home/mila/s/sara.ebrahim-elkafrawy/.conda/envs/gis/lib/python3.6/site-packages/ipykernel_launcher.py:60: RuntimeWarning: invalid value encountered in true_divide\n",
      "/home/mila/s/sara.ebrahim-elkafrawy/.conda/envs/gis/lib/python3.6/site-packages/ipykernel_launcher.py:60: RuntimeWarning: invalid value encountered in true_divide\n",
      "/home/mila/s/sara.ebrahim-elkafrawy/.conda/envs/gis/lib/python3.6/site-packages/ipykernel_launcher.py:60: RuntimeWarning: invalid value encountered in true_divide\n",
      "/home/mila/s/sara.ebrahim-elkafrawy/.conda/envs/gis/lib/python3.6/site-packages/ipykernel_launcher.py:60: RuntimeWarning: invalid value encountered in true_divide\n",
      "/home/mila/s/sara.ebrahim-elkafrawy/.conda/envs/gis/lib/python3.6/site-packages/ipykernel_launcher.py:60: RuntimeWarning: invalid value encountered in true_divide\n",
      "/home/mila/s/sara.ebrahim-elkafrawy/.conda/envs/gis/lib/python3.6/site-packages/ipykernel_launcher.py:60: RuntimeWarning: invalid value encountered in true_divide\n",
      "/home/mila/s/sara.ebrahim-elkafrawy/.conda/envs/gis/lib/python3.6/site-packages/ipykernel_launcher.py:60: RuntimeWarning: invalid value encountered in true_divide\n"
     ]
    },
    {
     "name": "stdout",
     "output_type": "stream",
     "text": [
      "kmeans for output of conv layer#129\n",
      "current feature map dim: torch.Size([512, 1024, 1, 1])\n",
      "Initializing parameter#132 with size: torch.Size([512, 512, 3, 3])\n",
      "num_feats:512, num_ch:512, patch_size:(3, 3)\n"
     ]
    },
    {
     "name": "stderr",
     "output_type": "stream",
     "text": [
      "/home/mila/s/sara.ebrahim-elkafrawy/.conda/envs/gis/lib/python3.6/site-packages/ipykernel_launcher.py:60: RuntimeWarning: invalid value encountered in true_divide\n",
      "/home/mila/s/sara.ebrahim-elkafrawy/.conda/envs/gis/lib/python3.6/site-packages/ipykernel_launcher.py:60: RuntimeWarning: invalid value encountered in true_divide\n",
      "/home/mila/s/sara.ebrahim-elkafrawy/.conda/envs/gis/lib/python3.6/site-packages/ipykernel_launcher.py:60: RuntimeWarning: invalid value encountered in true_divide\n",
      "/home/mila/s/sara.ebrahim-elkafrawy/.conda/envs/gis/lib/python3.6/site-packages/ipykernel_launcher.py:60: RuntimeWarning: invalid value encountered in true_divide\n",
      "/home/mila/s/sara.ebrahim-elkafrawy/.conda/envs/gis/lib/python3.6/site-packages/ipykernel_launcher.py:60: RuntimeWarning: invalid value encountered in true_divide\n",
      "/home/mila/s/sara.ebrahim-elkafrawy/.conda/envs/gis/lib/python3.6/site-packages/ipykernel_launcher.py:60: RuntimeWarning: invalid value encountered in true_divide\n",
      "/home/mila/s/sara.ebrahim-elkafrawy/.conda/envs/gis/lib/python3.6/site-packages/ipykernel_launcher.py:60: RuntimeWarning: invalid value encountered in true_divide\n",
      "/home/mila/s/sara.ebrahim-elkafrawy/.conda/envs/gis/lib/python3.6/site-packages/ipykernel_launcher.py:60: RuntimeWarning: invalid value encountered in true_divide\n",
      "/home/mila/s/sara.ebrahim-elkafrawy/.conda/envs/gis/lib/python3.6/site-packages/ipykernel_launcher.py:60: RuntimeWarning: invalid value encountered in true_divide\n",
      "/home/mila/s/sara.ebrahim-elkafrawy/.conda/envs/gis/lib/python3.6/site-packages/ipykernel_launcher.py:60: RuntimeWarning: invalid value encountered in true_divide\n",
      "/home/mila/s/sara.ebrahim-elkafrawy/.conda/envs/gis/lib/python3.6/site-packages/ipykernel_launcher.py:60: RuntimeWarning: invalid value encountered in true_divide\n",
      "/home/mila/s/sara.ebrahim-elkafrawy/.conda/envs/gis/lib/python3.6/site-packages/ipykernel_launcher.py:60: RuntimeWarning: invalid value encountered in true_divide\n",
      "/home/mila/s/sara.ebrahim-elkafrawy/.conda/envs/gis/lib/python3.6/site-packages/ipykernel_launcher.py:60: RuntimeWarning: invalid value encountered in true_divide\n",
      "/home/mila/s/sara.ebrahim-elkafrawy/.conda/envs/gis/lib/python3.6/site-packages/ipykernel_launcher.py:60: RuntimeWarning: invalid value encountered in true_divide\n",
      "/home/mila/s/sara.ebrahim-elkafrawy/.conda/envs/gis/lib/python3.6/site-packages/ipykernel_launcher.py:60: RuntimeWarning: invalid value encountered in true_divide\n",
      "/home/mila/s/sara.ebrahim-elkafrawy/.conda/envs/gis/lib/python3.6/site-packages/ipykernel_launcher.py:60: RuntimeWarning: invalid value encountered in true_divide\n",
      "/home/mila/s/sara.ebrahim-elkafrawy/.conda/envs/gis/lib/python3.6/site-packages/ipykernel_launcher.py:60: RuntimeWarning: invalid value encountered in true_divide\n",
      "/home/mila/s/sara.ebrahim-elkafrawy/.conda/envs/gis/lib/python3.6/site-packages/ipykernel_launcher.py:60: RuntimeWarning: invalid value encountered in true_divide\n"
     ]
    },
    {
     "name": "stdout",
     "output_type": "stream",
     "text": [
      "[MiniBatchKMeans] Reassigning 435 cluster centers.\n"
     ]
    },
    {
     "name": "stderr",
     "output_type": "stream",
     "text": [
      "/home/mila/s/sara.ebrahim-elkafrawy/.conda/envs/gis/lib/python3.6/site-packages/ipykernel_launcher.py:60: RuntimeWarning: invalid value encountered in true_divide\n",
      "/home/mila/s/sara.ebrahim-elkafrawy/.conda/envs/gis/lib/python3.6/site-packages/ipykernel_launcher.py:60: RuntimeWarning: invalid value encountered in true_divide\n",
      "/home/mila/s/sara.ebrahim-elkafrawy/.conda/envs/gis/lib/python3.6/site-packages/ipykernel_launcher.py:60: RuntimeWarning: invalid value encountered in true_divide\n",
      "/home/mila/s/sara.ebrahim-elkafrawy/.conda/envs/gis/lib/python3.6/site-packages/ipykernel_launcher.py:60: RuntimeWarning: invalid value encountered in true_divide\n",
      "/home/mila/s/sara.ebrahim-elkafrawy/.conda/envs/gis/lib/python3.6/site-packages/ipykernel_launcher.py:60: RuntimeWarning: invalid value encountered in true_divide\n",
      "/home/mila/s/sara.ebrahim-elkafrawy/.conda/envs/gis/lib/python3.6/site-packages/ipykernel_launcher.py:60: RuntimeWarning: invalid value encountered in true_divide\n",
      "/home/mila/s/sara.ebrahim-elkafrawy/.conda/envs/gis/lib/python3.6/site-packages/ipykernel_launcher.py:60: RuntimeWarning: invalid value encountered in true_divide\n",
      "/home/mila/s/sara.ebrahim-elkafrawy/.conda/envs/gis/lib/python3.6/site-packages/ipykernel_launcher.py:60: RuntimeWarning: invalid value encountered in true_divide\n",
      "/home/mila/s/sara.ebrahim-elkafrawy/.conda/envs/gis/lib/python3.6/site-packages/ipykernel_launcher.py:60: RuntimeWarning: invalid value encountered in true_divide\n",
      "/home/mila/s/sara.ebrahim-elkafrawy/.conda/envs/gis/lib/python3.6/site-packages/ipykernel_launcher.py:60: RuntimeWarning: invalid value encountered in true_divide\n",
      "/home/mila/s/sara.ebrahim-elkafrawy/.conda/envs/gis/lib/python3.6/site-packages/ipykernel_launcher.py:60: RuntimeWarning: invalid value encountered in true_divide\n",
      "/home/mila/s/sara.ebrahim-elkafrawy/.conda/envs/gis/lib/python3.6/site-packages/ipykernel_launcher.py:60: RuntimeWarning: invalid value encountered in true_divide\n"
     ]
    },
    {
     "name": "stdout",
     "output_type": "stream",
     "text": [
      "kmeans for output of conv layer#132\n",
      "current feature map dim: torch.Size([512, 512, 3, 3])\n",
      "Initializing parameter#135 with size: torch.Size([2048, 512, 1, 1])\n",
      "num_feats:2048, num_ch:512, patch_size:(1, 1)\n"
     ]
    },
    {
     "name": "stderr",
     "output_type": "stream",
     "text": [
      "/home/mila/s/sara.ebrahim-elkafrawy/.conda/envs/gis/lib/python3.6/site-packages/ipykernel_launcher.py:60: RuntimeWarning: invalid value encountered in true_divide\n",
      "/home/mila/s/sara.ebrahim-elkafrawy/.conda/envs/gis/lib/python3.6/site-packages/ipykernel_launcher.py:60: RuntimeWarning: invalid value encountered in true_divide\n",
      "/home/mila/s/sara.ebrahim-elkafrawy/.conda/envs/gis/lib/python3.6/site-packages/ipykernel_launcher.py:60: RuntimeWarning: invalid value encountered in true_divide\n",
      "/home/mila/s/sara.ebrahim-elkafrawy/.conda/envs/gis/lib/python3.6/site-packages/ipykernel_launcher.py:60: RuntimeWarning: invalid value encountered in true_divide\n",
      "/home/mila/s/sara.ebrahim-elkafrawy/.conda/envs/gis/lib/python3.6/site-packages/ipykernel_launcher.py:60: RuntimeWarning: invalid value encountered in true_divide\n",
      "/home/mila/s/sara.ebrahim-elkafrawy/.conda/envs/gis/lib/python3.6/site-packages/ipykernel_launcher.py:60: RuntimeWarning: invalid value encountered in true_divide\n",
      "/home/mila/s/sara.ebrahim-elkafrawy/.conda/envs/gis/lib/python3.6/site-packages/ipykernel_launcher.py:60: RuntimeWarning: invalid value encountered in true_divide\n",
      "/home/mila/s/sara.ebrahim-elkafrawy/.conda/envs/gis/lib/python3.6/site-packages/ipykernel_launcher.py:60: RuntimeWarning: invalid value encountered in true_divide\n",
      "/home/mila/s/sara.ebrahim-elkafrawy/.conda/envs/gis/lib/python3.6/site-packages/ipykernel_launcher.py:60: RuntimeWarning: invalid value encountered in true_divide\n",
      "/home/mila/s/sara.ebrahim-elkafrawy/.conda/envs/gis/lib/python3.6/site-packages/ipykernel_launcher.py:60: RuntimeWarning: invalid value encountered in true_divide\n",
      "/home/mila/s/sara.ebrahim-elkafrawy/.conda/envs/gis/lib/python3.6/site-packages/ipykernel_launcher.py:60: RuntimeWarning: invalid value encountered in true_divide\n",
      "/home/mila/s/sara.ebrahim-elkafrawy/.conda/envs/gis/lib/python3.6/site-packages/ipykernel_launcher.py:60: RuntimeWarning: invalid value encountered in true_divide\n",
      "/home/mila/s/sara.ebrahim-elkafrawy/.conda/envs/gis/lib/python3.6/site-packages/ipykernel_launcher.py:60: RuntimeWarning: invalid value encountered in true_divide\n",
      "/home/mila/s/sara.ebrahim-elkafrawy/.conda/envs/gis/lib/python3.6/site-packages/ipykernel_launcher.py:60: RuntimeWarning: invalid value encountered in true_divide\n",
      "/home/mila/s/sara.ebrahim-elkafrawy/.conda/envs/gis/lib/python3.6/site-packages/ipykernel_launcher.py:60: RuntimeWarning: invalid value encountered in true_divide\n",
      "/home/mila/s/sara.ebrahim-elkafrawy/.conda/envs/gis/lib/python3.6/site-packages/ipykernel_launcher.py:60: RuntimeWarning: invalid value encountered in true_divide\n",
      "/home/mila/s/sara.ebrahim-elkafrawy/.conda/envs/gis/lib/python3.6/site-packages/ipykernel_launcher.py:60: RuntimeWarning: invalid value encountered in true_divide\n",
      "/home/mila/s/sara.ebrahim-elkafrawy/.conda/envs/gis/lib/python3.6/site-packages/ipykernel_launcher.py:60: RuntimeWarning: invalid value encountered in true_divide\n",
      "/home/mila/s/sara.ebrahim-elkafrawy/.conda/envs/gis/lib/python3.6/site-packages/ipykernel_launcher.py:60: RuntimeWarning: invalid value encountered in true_divide\n",
      "/home/mila/s/sara.ebrahim-elkafrawy/.conda/envs/gis/lib/python3.6/site-packages/ipykernel_launcher.py:60: RuntimeWarning: invalid value encountered in true_divide\n",
      "/home/mila/s/sara.ebrahim-elkafrawy/.conda/envs/gis/lib/python3.6/site-packages/ipykernel_launcher.py:60: RuntimeWarning: invalid value encountered in true_divide\n",
      "/home/mila/s/sara.ebrahim-elkafrawy/.conda/envs/gis/lib/python3.6/site-packages/ipykernel_launcher.py:60: RuntimeWarning: invalid value encountered in true_divide\n",
      "/home/mila/s/sara.ebrahim-elkafrawy/.conda/envs/gis/lib/python3.6/site-packages/ipykernel_launcher.py:60: RuntimeWarning: invalid value encountered in true_divide\n",
      "/home/mila/s/sara.ebrahim-elkafrawy/.conda/envs/gis/lib/python3.6/site-packages/ipykernel_launcher.py:60: RuntimeWarning: invalid value encountered in true_divide\n",
      "/home/mila/s/sara.ebrahim-elkafrawy/.conda/envs/gis/lib/python3.6/site-packages/ipykernel_launcher.py:60: RuntimeWarning: invalid value encountered in true_divide\n",
      "/home/mila/s/sara.ebrahim-elkafrawy/.conda/envs/gis/lib/python3.6/site-packages/ipykernel_launcher.py:60: RuntimeWarning: invalid value encountered in true_divide\n",
      "/home/mila/s/sara.ebrahim-elkafrawy/.conda/envs/gis/lib/python3.6/site-packages/ipykernel_launcher.py:60: RuntimeWarning: invalid value encountered in true_divide\n",
      "/home/mila/s/sara.ebrahim-elkafrawy/.conda/envs/gis/lib/python3.6/site-packages/ipykernel_launcher.py:60: RuntimeWarning: invalid value encountered in true_divide\n",
      "/home/mila/s/sara.ebrahim-elkafrawy/.conda/envs/gis/lib/python3.6/site-packages/ipykernel_launcher.py:60: RuntimeWarning: invalid value encountered in true_divide\n",
      "/home/mila/s/sara.ebrahim-elkafrawy/.conda/envs/gis/lib/python3.6/site-packages/ipykernel_launcher.py:60: RuntimeWarning: invalid value encountered in true_divide\n"
     ]
    },
    {
     "name": "stdout",
     "output_type": "stream",
     "text": [
      "kmeans for output of conv layer#135\n",
      "current feature map dim: torch.Size([2048, 512, 1, 1])\n",
      "Initializing parameter#141 with size: torch.Size([512, 2048, 1, 1])\n",
      "num_feats:512, num_ch:2048, patch_size:(1, 1)\n"
     ]
    },
    {
     "name": "stderr",
     "output_type": "stream",
     "text": [
      "/home/mila/s/sara.ebrahim-elkafrawy/.conda/envs/gis/lib/python3.6/site-packages/ipykernel_launcher.py:60: RuntimeWarning: invalid value encountered in true_divide\n",
      "/home/mila/s/sara.ebrahim-elkafrawy/.conda/envs/gis/lib/python3.6/site-packages/ipykernel_launcher.py:60: RuntimeWarning: invalid value encountered in true_divide\n",
      "/home/mila/s/sara.ebrahim-elkafrawy/.conda/envs/gis/lib/python3.6/site-packages/ipykernel_launcher.py:60: RuntimeWarning: invalid value encountered in true_divide\n",
      "/home/mila/s/sara.ebrahim-elkafrawy/.conda/envs/gis/lib/python3.6/site-packages/ipykernel_launcher.py:60: RuntimeWarning: invalid value encountered in true_divide\n",
      "/home/mila/s/sara.ebrahim-elkafrawy/.conda/envs/gis/lib/python3.6/site-packages/ipykernel_launcher.py:60: RuntimeWarning: invalid value encountered in true_divide\n",
      "/home/mila/s/sara.ebrahim-elkafrawy/.conda/envs/gis/lib/python3.6/site-packages/ipykernel_launcher.py:60: RuntimeWarning: invalid value encountered in true_divide\n",
      "/home/mila/s/sara.ebrahim-elkafrawy/.conda/envs/gis/lib/python3.6/site-packages/ipykernel_launcher.py:60: RuntimeWarning: invalid value encountered in true_divide\n"
     ]
    },
    {
     "name": "stdout",
     "output_type": "stream",
     "text": [
      "[MiniBatchKMeans] Reassigning 473 cluster centers.\n"
     ]
    },
    {
     "name": "stderr",
     "output_type": "stream",
     "text": [
      "/home/mila/s/sara.ebrahim-elkafrawy/.conda/envs/gis/lib/python3.6/site-packages/ipykernel_launcher.py:60: RuntimeWarning: invalid value encountered in true_divide\n",
      "/home/mila/s/sara.ebrahim-elkafrawy/.conda/envs/gis/lib/python3.6/site-packages/ipykernel_launcher.py:60: RuntimeWarning: invalid value encountered in true_divide\n",
      "/home/mila/s/sara.ebrahim-elkafrawy/.conda/envs/gis/lib/python3.6/site-packages/ipykernel_launcher.py:60: RuntimeWarning: invalid value encountered in true_divide\n",
      "/home/mila/s/sara.ebrahim-elkafrawy/.conda/envs/gis/lib/python3.6/site-packages/ipykernel_launcher.py:60: RuntimeWarning: invalid value encountered in true_divide\n",
      "/home/mila/s/sara.ebrahim-elkafrawy/.conda/envs/gis/lib/python3.6/site-packages/ipykernel_launcher.py:60: RuntimeWarning: invalid value encountered in true_divide\n",
      "/home/mila/s/sara.ebrahim-elkafrawy/.conda/envs/gis/lib/python3.6/site-packages/ipykernel_launcher.py:60: RuntimeWarning: invalid value encountered in true_divide\n",
      "/home/mila/s/sara.ebrahim-elkafrawy/.conda/envs/gis/lib/python3.6/site-packages/ipykernel_launcher.py:60: RuntimeWarning: invalid value encountered in true_divide\n",
      "/home/mila/s/sara.ebrahim-elkafrawy/.conda/envs/gis/lib/python3.6/site-packages/ipykernel_launcher.py:60: RuntimeWarning: invalid value encountered in true_divide\n",
      "/home/mila/s/sara.ebrahim-elkafrawy/.conda/envs/gis/lib/python3.6/site-packages/ipykernel_launcher.py:60: RuntimeWarning: invalid value encountered in true_divide\n",
      "/home/mila/s/sara.ebrahim-elkafrawy/.conda/envs/gis/lib/python3.6/site-packages/ipykernel_launcher.py:60: RuntimeWarning: invalid value encountered in true_divide\n",
      "/home/mila/s/sara.ebrahim-elkafrawy/.conda/envs/gis/lib/python3.6/site-packages/ipykernel_launcher.py:60: RuntimeWarning: invalid value encountered in true_divide\n",
      "/home/mila/s/sara.ebrahim-elkafrawy/.conda/envs/gis/lib/python3.6/site-packages/ipykernel_launcher.py:60: RuntimeWarning: invalid value encountered in true_divide\n",
      "/home/mila/s/sara.ebrahim-elkafrawy/.conda/envs/gis/lib/python3.6/site-packages/ipykernel_launcher.py:60: RuntimeWarning: invalid value encountered in true_divide\n",
      "/home/mila/s/sara.ebrahim-elkafrawy/.conda/envs/gis/lib/python3.6/site-packages/ipykernel_launcher.py:60: RuntimeWarning: invalid value encountered in true_divide\n",
      "/home/mila/s/sara.ebrahim-elkafrawy/.conda/envs/gis/lib/python3.6/site-packages/ipykernel_launcher.py:60: RuntimeWarning: invalid value encountered in true_divide\n",
      "/home/mila/s/sara.ebrahim-elkafrawy/.conda/envs/gis/lib/python3.6/site-packages/ipykernel_launcher.py:60: RuntimeWarning: invalid value encountered in true_divide\n",
      "/home/mila/s/sara.ebrahim-elkafrawy/.conda/envs/gis/lib/python3.6/site-packages/ipykernel_launcher.py:60: RuntimeWarning: invalid value encountered in true_divide\n",
      "/home/mila/s/sara.ebrahim-elkafrawy/.conda/envs/gis/lib/python3.6/site-packages/ipykernel_launcher.py:60: RuntimeWarning: invalid value encountered in true_divide\n",
      "/home/mila/s/sara.ebrahim-elkafrawy/.conda/envs/gis/lib/python3.6/site-packages/ipykernel_launcher.py:60: RuntimeWarning: invalid value encountered in true_divide\n",
      "/home/mila/s/sara.ebrahim-elkafrawy/.conda/envs/gis/lib/python3.6/site-packages/ipykernel_launcher.py:60: RuntimeWarning: invalid value encountered in true_divide\n",
      "/home/mila/s/sara.ebrahim-elkafrawy/.conda/envs/gis/lib/python3.6/site-packages/ipykernel_launcher.py:60: RuntimeWarning: invalid value encountered in true_divide\n",
      "/home/mila/s/sara.ebrahim-elkafrawy/.conda/envs/gis/lib/python3.6/site-packages/ipykernel_launcher.py:60: RuntimeWarning: invalid value encountered in true_divide\n",
      "/home/mila/s/sara.ebrahim-elkafrawy/.conda/envs/gis/lib/python3.6/site-packages/ipykernel_launcher.py:60: RuntimeWarning: invalid value encountered in true_divide\n"
     ]
    },
    {
     "name": "stdout",
     "output_type": "stream",
     "text": [
      "kmeans for output of conv layer#141\n",
      "current feature map dim: torch.Size([512, 2048, 1, 1])\n",
      "Initializing parameter#144 with size: torch.Size([512, 512, 3, 3])\n",
      "num_feats:512, num_ch:512, patch_size:(3, 3)\n"
     ]
    },
    {
     "name": "stderr",
     "output_type": "stream",
     "text": [
      "/home/mila/s/sara.ebrahim-elkafrawy/.conda/envs/gis/lib/python3.6/site-packages/ipykernel_launcher.py:60: RuntimeWarning: invalid value encountered in true_divide\n",
      "/home/mila/s/sara.ebrahim-elkafrawy/.conda/envs/gis/lib/python3.6/site-packages/ipykernel_launcher.py:60: RuntimeWarning: invalid value encountered in true_divide\n",
      "/home/mila/s/sara.ebrahim-elkafrawy/.conda/envs/gis/lib/python3.6/site-packages/ipykernel_launcher.py:60: RuntimeWarning: invalid value encountered in true_divide\n",
      "/home/mila/s/sara.ebrahim-elkafrawy/.conda/envs/gis/lib/python3.6/site-packages/ipykernel_launcher.py:60: RuntimeWarning: invalid value encountered in true_divide\n",
      "/home/mila/s/sara.ebrahim-elkafrawy/.conda/envs/gis/lib/python3.6/site-packages/ipykernel_launcher.py:60: RuntimeWarning: invalid value encountered in true_divide\n",
      "/home/mila/s/sara.ebrahim-elkafrawy/.conda/envs/gis/lib/python3.6/site-packages/ipykernel_launcher.py:60: RuntimeWarning: invalid value encountered in true_divide\n",
      "/home/mila/s/sara.ebrahim-elkafrawy/.conda/envs/gis/lib/python3.6/site-packages/ipykernel_launcher.py:60: RuntimeWarning: invalid value encountered in true_divide\n",
      "/home/mila/s/sara.ebrahim-elkafrawy/.conda/envs/gis/lib/python3.6/site-packages/ipykernel_launcher.py:60: RuntimeWarning: invalid value encountered in true_divide\n",
      "/home/mila/s/sara.ebrahim-elkafrawy/.conda/envs/gis/lib/python3.6/site-packages/ipykernel_launcher.py:60: RuntimeWarning: invalid value encountered in true_divide\n",
      "/home/mila/s/sara.ebrahim-elkafrawy/.conda/envs/gis/lib/python3.6/site-packages/ipykernel_launcher.py:60: RuntimeWarning: invalid value encountered in true_divide\n",
      "/home/mila/s/sara.ebrahim-elkafrawy/.conda/envs/gis/lib/python3.6/site-packages/ipykernel_launcher.py:60: RuntimeWarning: invalid value encountered in true_divide\n",
      "/home/mila/s/sara.ebrahim-elkafrawy/.conda/envs/gis/lib/python3.6/site-packages/ipykernel_launcher.py:60: RuntimeWarning: invalid value encountered in true_divide\n",
      "/home/mila/s/sara.ebrahim-elkafrawy/.conda/envs/gis/lib/python3.6/site-packages/ipykernel_launcher.py:60: RuntimeWarning: invalid value encountered in true_divide\n",
      "/home/mila/s/sara.ebrahim-elkafrawy/.conda/envs/gis/lib/python3.6/site-packages/ipykernel_launcher.py:60: RuntimeWarning: invalid value encountered in true_divide\n",
      "/home/mila/s/sara.ebrahim-elkafrawy/.conda/envs/gis/lib/python3.6/site-packages/ipykernel_launcher.py:60: RuntimeWarning: invalid value encountered in true_divide\n",
      "/home/mila/s/sara.ebrahim-elkafrawy/.conda/envs/gis/lib/python3.6/site-packages/ipykernel_launcher.py:60: RuntimeWarning: invalid value encountered in true_divide\n",
      "/home/mila/s/sara.ebrahim-elkafrawy/.conda/envs/gis/lib/python3.6/site-packages/ipykernel_launcher.py:60: RuntimeWarning: invalid value encountered in true_divide\n",
      "/home/mila/s/sara.ebrahim-elkafrawy/.conda/envs/gis/lib/python3.6/site-packages/ipykernel_launcher.py:60: RuntimeWarning: invalid value encountered in true_divide\n",
      "/home/mila/s/sara.ebrahim-elkafrawy/.conda/envs/gis/lib/python3.6/site-packages/ipykernel_launcher.py:60: RuntimeWarning: invalid value encountered in true_divide\n",
      "/home/mila/s/sara.ebrahim-elkafrawy/.conda/envs/gis/lib/python3.6/site-packages/ipykernel_launcher.py:60: RuntimeWarning: invalid value encountered in true_divide\n",
      "/home/mila/s/sara.ebrahim-elkafrawy/.conda/envs/gis/lib/python3.6/site-packages/ipykernel_launcher.py:60: RuntimeWarning: invalid value encountered in true_divide\n",
      "/home/mila/s/sara.ebrahim-elkafrawy/.conda/envs/gis/lib/python3.6/site-packages/ipykernel_launcher.py:60: RuntimeWarning: invalid value encountered in true_divide\n",
      "/home/mila/s/sara.ebrahim-elkafrawy/.conda/envs/gis/lib/python3.6/site-packages/ipykernel_launcher.py:60: RuntimeWarning: invalid value encountered in true_divide\n",
      "/home/mila/s/sara.ebrahim-elkafrawy/.conda/envs/gis/lib/python3.6/site-packages/ipykernel_launcher.py:60: RuntimeWarning: invalid value encountered in true_divide\n",
      "/home/mila/s/sara.ebrahim-elkafrawy/.conda/envs/gis/lib/python3.6/site-packages/ipykernel_launcher.py:60: RuntimeWarning: invalid value encountered in true_divide\n",
      "/home/mila/s/sara.ebrahim-elkafrawy/.conda/envs/gis/lib/python3.6/site-packages/ipykernel_launcher.py:60: RuntimeWarning: invalid value encountered in true_divide\n",
      "/home/mila/s/sara.ebrahim-elkafrawy/.conda/envs/gis/lib/python3.6/site-packages/ipykernel_launcher.py:60: RuntimeWarning: invalid value encountered in true_divide\n",
      "/home/mila/s/sara.ebrahim-elkafrawy/.conda/envs/gis/lib/python3.6/site-packages/ipykernel_launcher.py:60: RuntimeWarning: invalid value encountered in true_divide\n",
      "/home/mila/s/sara.ebrahim-elkafrawy/.conda/envs/gis/lib/python3.6/site-packages/ipykernel_launcher.py:60: RuntimeWarning: invalid value encountered in true_divide\n",
      "/home/mila/s/sara.ebrahim-elkafrawy/.conda/envs/gis/lib/python3.6/site-packages/ipykernel_launcher.py:60: RuntimeWarning: invalid value encountered in true_divide\n"
     ]
    },
    {
     "name": "stdout",
     "output_type": "stream",
     "text": [
      "kmeans for output of conv layer#144\n",
      "current feature map dim: torch.Size([512, 512, 3, 3])\n",
      "Initializing parameter#147 with size: torch.Size([2048, 512, 1, 1])\n",
      "num_feats:2048, num_ch:512, patch_size:(1, 1)\n",
      "[MiniBatchKMeans] Reassigning 1821 cluster centers.\n",
      "kmeans for output of conv layer#147\n",
      "current feature map dim: torch.Size([2048, 512, 1, 1])\n",
      "Initializing parameter#150 with size: torch.Size([512, 2048, 1, 1])\n",
      "num_feats:512, num_ch:2048, patch_size:(1, 1)\n"
     ]
    },
    {
     "name": "stderr",
     "output_type": "stream",
     "text": [
      "/home/mila/s/sara.ebrahim-elkafrawy/.conda/envs/gis/lib/python3.6/site-packages/ipykernel_launcher.py:60: RuntimeWarning: invalid value encountered in true_divide\n",
      "/home/mila/s/sara.ebrahim-elkafrawy/.conda/envs/gis/lib/python3.6/site-packages/ipykernel_launcher.py:60: RuntimeWarning: invalid value encountered in true_divide\n",
      "/home/mila/s/sara.ebrahim-elkafrawy/.conda/envs/gis/lib/python3.6/site-packages/ipykernel_launcher.py:60: RuntimeWarning: invalid value encountered in true_divide\n",
      "/home/mila/s/sara.ebrahim-elkafrawy/.conda/envs/gis/lib/python3.6/site-packages/ipykernel_launcher.py:60: RuntimeWarning: invalid value encountered in true_divide\n",
      "/home/mila/s/sara.ebrahim-elkafrawy/.conda/envs/gis/lib/python3.6/site-packages/ipykernel_launcher.py:60: RuntimeWarning: invalid value encountered in true_divide\n",
      "/home/mila/s/sara.ebrahim-elkafrawy/.conda/envs/gis/lib/python3.6/site-packages/ipykernel_launcher.py:60: RuntimeWarning: invalid value encountered in true_divide\n",
      "/home/mila/s/sara.ebrahim-elkafrawy/.conda/envs/gis/lib/python3.6/site-packages/ipykernel_launcher.py:60: RuntimeWarning: invalid value encountered in true_divide\n",
      "/home/mila/s/sara.ebrahim-elkafrawy/.conda/envs/gis/lib/python3.6/site-packages/ipykernel_launcher.py:60: RuntimeWarning: invalid value encountered in true_divide\n",
      "/home/mila/s/sara.ebrahim-elkafrawy/.conda/envs/gis/lib/python3.6/site-packages/ipykernel_launcher.py:60: RuntimeWarning: invalid value encountered in true_divide\n",
      "/home/mila/s/sara.ebrahim-elkafrawy/.conda/envs/gis/lib/python3.6/site-packages/ipykernel_launcher.py:60: RuntimeWarning: invalid value encountered in true_divide\n",
      "/home/mila/s/sara.ebrahim-elkafrawy/.conda/envs/gis/lib/python3.6/site-packages/ipykernel_launcher.py:60: RuntimeWarning: invalid value encountered in true_divide\n",
      "/home/mila/s/sara.ebrahim-elkafrawy/.conda/envs/gis/lib/python3.6/site-packages/ipykernel_launcher.py:60: RuntimeWarning: invalid value encountered in true_divide\n",
      "/home/mila/s/sara.ebrahim-elkafrawy/.conda/envs/gis/lib/python3.6/site-packages/ipykernel_launcher.py:60: RuntimeWarning: invalid value encountered in true_divide\n",
      "/home/mila/s/sara.ebrahim-elkafrawy/.conda/envs/gis/lib/python3.6/site-packages/ipykernel_launcher.py:60: RuntimeWarning: invalid value encountered in true_divide\n",
      "/home/mila/s/sara.ebrahim-elkafrawy/.conda/envs/gis/lib/python3.6/site-packages/ipykernel_launcher.py:60: RuntimeWarning: invalid value encountered in true_divide\n",
      "/home/mila/s/sara.ebrahim-elkafrawy/.conda/envs/gis/lib/python3.6/site-packages/ipykernel_launcher.py:60: RuntimeWarning: invalid value encountered in true_divide\n"
     ]
    },
    {
     "name": "stdout",
     "output_type": "stream",
     "text": [
      "[MiniBatchKMeans] Reassigning 417 cluster centers.\n"
     ]
    },
    {
     "name": "stderr",
     "output_type": "stream",
     "text": [
      "/home/mila/s/sara.ebrahim-elkafrawy/.conda/envs/gis/lib/python3.6/site-packages/ipykernel_launcher.py:60: RuntimeWarning: invalid value encountered in true_divide\n",
      "/home/mila/s/sara.ebrahim-elkafrawy/.conda/envs/gis/lib/python3.6/site-packages/ipykernel_launcher.py:60: RuntimeWarning: invalid value encountered in true_divide\n",
      "/home/mila/s/sara.ebrahim-elkafrawy/.conda/envs/gis/lib/python3.6/site-packages/ipykernel_launcher.py:60: RuntimeWarning: invalid value encountered in true_divide\n",
      "/home/mila/s/sara.ebrahim-elkafrawy/.conda/envs/gis/lib/python3.6/site-packages/ipykernel_launcher.py:60: RuntimeWarning: invalid value encountered in true_divide\n",
      "/home/mila/s/sara.ebrahim-elkafrawy/.conda/envs/gis/lib/python3.6/site-packages/ipykernel_launcher.py:60: RuntimeWarning: invalid value encountered in true_divide\n",
      "/home/mila/s/sara.ebrahim-elkafrawy/.conda/envs/gis/lib/python3.6/site-packages/ipykernel_launcher.py:60: RuntimeWarning: invalid value encountered in true_divide\n",
      "/home/mila/s/sara.ebrahim-elkafrawy/.conda/envs/gis/lib/python3.6/site-packages/ipykernel_launcher.py:60: RuntimeWarning: invalid value encountered in true_divide\n",
      "/home/mila/s/sara.ebrahim-elkafrawy/.conda/envs/gis/lib/python3.6/site-packages/ipykernel_launcher.py:60: RuntimeWarning: invalid value encountered in true_divide\n",
      "/home/mila/s/sara.ebrahim-elkafrawy/.conda/envs/gis/lib/python3.6/site-packages/ipykernel_launcher.py:60: RuntimeWarning: invalid value encountered in true_divide\n",
      "/home/mila/s/sara.ebrahim-elkafrawy/.conda/envs/gis/lib/python3.6/site-packages/ipykernel_launcher.py:60: RuntimeWarning: invalid value encountered in true_divide\n",
      "/home/mila/s/sara.ebrahim-elkafrawy/.conda/envs/gis/lib/python3.6/site-packages/ipykernel_launcher.py:60: RuntimeWarning: invalid value encountered in true_divide\n",
      "/home/mila/s/sara.ebrahim-elkafrawy/.conda/envs/gis/lib/python3.6/site-packages/ipykernel_launcher.py:60: RuntimeWarning: invalid value encountered in true_divide\n",
      "/home/mila/s/sara.ebrahim-elkafrawy/.conda/envs/gis/lib/python3.6/site-packages/ipykernel_launcher.py:60: RuntimeWarning: invalid value encountered in true_divide\n",
      "/home/mila/s/sara.ebrahim-elkafrawy/.conda/envs/gis/lib/python3.6/site-packages/ipykernel_launcher.py:60: RuntimeWarning: invalid value encountered in true_divide\n"
     ]
    },
    {
     "name": "stdout",
     "output_type": "stream",
     "text": [
      "kmeans for output of conv layer#150\n",
      "current feature map dim: torch.Size([512, 2048, 1, 1])\n",
      "Initializing parameter#153 with size: torch.Size([512, 512, 3, 3])\n",
      "num_feats:512, num_ch:512, patch_size:(3, 3)\n"
     ]
    },
    {
     "name": "stderr",
     "output_type": "stream",
     "text": [
      "/home/mila/s/sara.ebrahim-elkafrawy/.conda/envs/gis/lib/python3.6/site-packages/ipykernel_launcher.py:60: RuntimeWarning: invalid value encountered in true_divide\n",
      "/home/mila/s/sara.ebrahim-elkafrawy/.conda/envs/gis/lib/python3.6/site-packages/ipykernel_launcher.py:60: RuntimeWarning: invalid value encountered in true_divide\n",
      "/home/mila/s/sara.ebrahim-elkafrawy/.conda/envs/gis/lib/python3.6/site-packages/ipykernel_launcher.py:60: RuntimeWarning: invalid value encountered in true_divide\n",
      "/home/mila/s/sara.ebrahim-elkafrawy/.conda/envs/gis/lib/python3.6/site-packages/ipykernel_launcher.py:60: RuntimeWarning: invalid value encountered in true_divide\n",
      "/home/mila/s/sara.ebrahim-elkafrawy/.conda/envs/gis/lib/python3.6/site-packages/ipykernel_launcher.py:60: RuntimeWarning: invalid value encountered in true_divide\n",
      "/home/mila/s/sara.ebrahim-elkafrawy/.conda/envs/gis/lib/python3.6/site-packages/ipykernel_launcher.py:60: RuntimeWarning: invalid value encountered in true_divide\n",
      "/home/mila/s/sara.ebrahim-elkafrawy/.conda/envs/gis/lib/python3.6/site-packages/ipykernel_launcher.py:60: RuntimeWarning: invalid value encountered in true_divide\n",
      "/home/mila/s/sara.ebrahim-elkafrawy/.conda/envs/gis/lib/python3.6/site-packages/ipykernel_launcher.py:60: RuntimeWarning: invalid value encountered in true_divide\n",
      "/home/mila/s/sara.ebrahim-elkafrawy/.conda/envs/gis/lib/python3.6/site-packages/ipykernel_launcher.py:60: RuntimeWarning: invalid value encountered in true_divide\n",
      "/home/mila/s/sara.ebrahim-elkafrawy/.conda/envs/gis/lib/python3.6/site-packages/ipykernel_launcher.py:60: RuntimeWarning: invalid value encountered in true_divide\n",
      "/home/mila/s/sara.ebrahim-elkafrawy/.conda/envs/gis/lib/python3.6/site-packages/ipykernel_launcher.py:60: RuntimeWarning: invalid value encountered in true_divide\n",
      "/home/mila/s/sara.ebrahim-elkafrawy/.conda/envs/gis/lib/python3.6/site-packages/ipykernel_launcher.py:60: RuntimeWarning: invalid value encountered in true_divide\n",
      "/home/mila/s/sara.ebrahim-elkafrawy/.conda/envs/gis/lib/python3.6/site-packages/ipykernel_launcher.py:60: RuntimeWarning: invalid value encountered in true_divide\n",
      "/home/mila/s/sara.ebrahim-elkafrawy/.conda/envs/gis/lib/python3.6/site-packages/ipykernel_launcher.py:60: RuntimeWarning: invalid value encountered in true_divide\n",
      "/home/mila/s/sara.ebrahim-elkafrawy/.conda/envs/gis/lib/python3.6/site-packages/ipykernel_launcher.py:60: RuntimeWarning: invalid value encountered in true_divide\n",
      "/home/mila/s/sara.ebrahim-elkafrawy/.conda/envs/gis/lib/python3.6/site-packages/ipykernel_launcher.py:60: RuntimeWarning: invalid value encountered in true_divide\n",
      "/home/mila/s/sara.ebrahim-elkafrawy/.conda/envs/gis/lib/python3.6/site-packages/ipykernel_launcher.py:60: RuntimeWarning: invalid value encountered in true_divide\n",
      "/home/mila/s/sara.ebrahim-elkafrawy/.conda/envs/gis/lib/python3.6/site-packages/ipykernel_launcher.py:60: RuntimeWarning: invalid value encountered in true_divide\n",
      "/home/mila/s/sara.ebrahim-elkafrawy/.conda/envs/gis/lib/python3.6/site-packages/ipykernel_launcher.py:60: RuntimeWarning: invalid value encountered in true_divide\n",
      "/home/mila/s/sara.ebrahim-elkafrawy/.conda/envs/gis/lib/python3.6/site-packages/ipykernel_launcher.py:60: RuntimeWarning: invalid value encountered in true_divide\n"
     ]
    },
    {
     "name": "stdout",
     "output_type": "stream",
     "text": [
      "[MiniBatchKMeans] Reassigning 288 cluster centers.\n"
     ]
    },
    {
     "name": "stderr",
     "output_type": "stream",
     "text": [
      "/home/mila/s/sara.ebrahim-elkafrawy/.conda/envs/gis/lib/python3.6/site-packages/ipykernel_launcher.py:60: RuntimeWarning: invalid value encountered in true_divide\n",
      "/home/mila/s/sara.ebrahim-elkafrawy/.conda/envs/gis/lib/python3.6/site-packages/ipykernel_launcher.py:60: RuntimeWarning: invalid value encountered in true_divide\n",
      "/home/mila/s/sara.ebrahim-elkafrawy/.conda/envs/gis/lib/python3.6/site-packages/ipykernel_launcher.py:60: RuntimeWarning: invalid value encountered in true_divide\n",
      "/home/mila/s/sara.ebrahim-elkafrawy/.conda/envs/gis/lib/python3.6/site-packages/ipykernel_launcher.py:60: RuntimeWarning: invalid value encountered in true_divide\n",
      "/home/mila/s/sara.ebrahim-elkafrawy/.conda/envs/gis/lib/python3.6/site-packages/ipykernel_launcher.py:60: RuntimeWarning: invalid value encountered in true_divide\n",
      "/home/mila/s/sara.ebrahim-elkafrawy/.conda/envs/gis/lib/python3.6/site-packages/ipykernel_launcher.py:60: RuntimeWarning: invalid value encountered in true_divide\n",
      "/home/mila/s/sara.ebrahim-elkafrawy/.conda/envs/gis/lib/python3.6/site-packages/ipykernel_launcher.py:60: RuntimeWarning: invalid value encountered in true_divide\n",
      "/home/mila/s/sara.ebrahim-elkafrawy/.conda/envs/gis/lib/python3.6/site-packages/ipykernel_launcher.py:60: RuntimeWarning: invalid value encountered in true_divide\n",
      "/home/mila/s/sara.ebrahim-elkafrawy/.conda/envs/gis/lib/python3.6/site-packages/ipykernel_launcher.py:60: RuntimeWarning: invalid value encountered in true_divide\n",
      "/home/mila/s/sara.ebrahim-elkafrawy/.conda/envs/gis/lib/python3.6/site-packages/ipykernel_launcher.py:60: RuntimeWarning: invalid value encountered in true_divide\n"
     ]
    },
    {
     "name": "stdout",
     "output_type": "stream",
     "text": [
      "kmeans for output of conv layer#153\n",
      "current feature map dim: torch.Size([512, 512, 3, 3])\n",
      "Initializing parameter#156 with size: torch.Size([2048, 512, 1, 1])\n",
      "num_feats:2048, num_ch:512, patch_size:(1, 1)\n"
     ]
    }
   ],
   "source": [
    "for layer_idx, conv_idx in enumerate(conv_idxs):\n",
    "\n",
    "    if layer_idx+1 == len(conv_idxs):\n",
    "        break\n",
    "        \n",
    "    print(f'kmeans for output of conv layer#{conv_idx}')\n",
    "    \n",
    "    curr_param_idx = conv_idxs[layer_idx+1]\n",
    "    curr_param_sz = list(model.named_parameters())[curr_param_idx][1].data.shape\n",
    "    \n",
    "    curr_feat_dim = list(model.named_parameters())[conv_idx][1].shape\n",
    "    num_feats = curr_param_sz[0]\n",
    "    num_ch = curr_param_sz[1]\n",
    "    patch_size = (curr_param_sz[2], curr_param_sz[3])\n",
    "    num_iters = 3   # The online learning part: cycle over the whole dataset 6 times\n",
    "    max_patches = int(num_feats/10)\n",
    "\n",
    "    print(f'current feature map dim: {curr_feat_dim}')\n",
    "    print(f'Initializing parameter#{curr_param_idx} with size: {curr_param_sz}')\n",
    "\n",
    "    print(f'num_feats:{num_feats}, num_ch:{num_ch}, patch_size:{patch_size}')\n",
    "    kmeans = MiniBatchKMeans(n_clusters=num_feats, \n",
    "                             random_state=random_state,\n",
    "    #                          max_no_improvement=5,\n",
    "    #                          tol=0.01,\n",
    "    #                          max_iter=5,\n",
    "    #                          batch_size = kmeans_bs,\n",
    "                             verbose=True)\n",
    "\n",
    "    geo_train_loader = DataLoader(\n",
    "                    geo_train_dataset,\n",
    "                    batch_size=batch_size,\n",
    "                    num_workers=num_workers,\n",
    "                    shuffle=True,\n",
    "                    pin_memory=True,\n",
    "                )\n",
    "\n",
    "    index = 0\n",
    "    buffer = []\n",
    "\n",
    "    for _ in range(num_iters):\n",
    "        for batch in geo_train_loader:\n",
    "            patches, target, meta = batch\n",
    "\n",
    "            _ = model(patches['rgb'])\n",
    "            curr_feats = features_dim[f'conv_layer_{conv_idx}'].numpy() #.cpu().numpy())\n",
    "            curr_feats = curr_feats.squeeze(0)\n",
    "            curr_feats = np.einsum('ijk->jki', curr_feats)\n",
    "\n",
    "            data = extract_patches_2d(curr_feats, patch_size, max_patches=max_patches, random_state=random_state)\n",
    "\n",
    "\n",
    "            data = np.reshape(data, (len(data), -1))\n",
    "            buffer.append(data)\n",
    "            index += 1\n",
    "            if index % int(len(geo_train_loader)/10) == 0:\n",
    "        #         print(data)\n",
    "                data = np.concatenate(buffer, axis=0)\n",
    "                data -= np.mean(data, axis=0)\n",
    "                data /= np.std(data, axis=0)\n",
    "                if np.any(np.isnan(data)):\n",
    "                    data = np.nan_to_num(data)\n",
    "                kmeans.partial_fit(data)\n",
    "                buffer = []\n",
    "            if index % 10000 == 0:\n",
    "                print(\"Partial fit of %4i out of %i\" % (index, num_iters * len(geo_train_loader)))\n",
    "\n",
    "\n",
    "    \n",
    "    # change the weights of the corresponding conv layer\n",
    "    list(model.named_parameters())[curr_param_idx][1].data = torch.from_numpy(\n",
    "        kmeans.cluster_centers_.reshape(\n",
    "                                            num_feats, \n",
    "                                            num_ch, \n",
    "                                            patch_size[0], \n",
    "                                            patch_size[1])\n",
    "                                        )\n",
    "\n",
    "    # save the model\n",
    "    PATH = \"/home/mila/s/sara.ebrahim-elkafrawy/scratch/ecosystem_project/ckpts/resnet50_mosaiks_kmeans.pt\"\n",
    "    torch.save(model.state_dict(), PATH)\n"
   ]
  },
  {
   "cell_type": "code",
   "execution_count": null,
   "metadata": {},
   "outputs": [],
   "source": []
  }
 ],
 "metadata": {
  "kernelspec": {
   "display_name": "ffcv2",
   "language": "python",
   "name": "ffcv2"
  },
  "language_info": {
   "codemirror_mode": {
    "name": "ipython",
    "version": 3
   },
   "file_extension": ".py",
   "mimetype": "text/x-python",
   "name": "python",
   "nbconvert_exporter": "python",
   "pygments_lexer": "ipython3",
   "version": "3.9.13"
  }
 },
 "nbformat": 4,
 "nbformat_minor": 4
}
