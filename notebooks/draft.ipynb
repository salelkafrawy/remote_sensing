{
 "cells": [
  {
   "cell_type": "code",
   "execution_count": 25,
   "metadata": {},
   "outputs": [],
   "source": [
    "import os\n",
    "import json"
   ]
  },
  {
   "cell_type": "code",
   "execution_count": 26,
   "metadata": {},
   "outputs": [],
   "source": [
    "log_dir = \"/home/mila/s/sara.ebrahim-elkafrawy/scratch/ecosystem_project/exps/geo_ssl_wandb_offline\""
   ]
  },
  {
   "cell_type": "code",
   "execution_count": 27,
   "metadata": {},
   "outputs": [],
   "source": [
    "files = os.listdir(log_dir)"
   ]
  },
  {
   "cell_type": "code",
   "execution_count": 28,
   "metadata": {},
   "outputs": [
    {
     "data": {
      "text/plain": [
       "['exp_configs.yaml', 'wandb', 'epoch=24.ckpt']"
      ]
     },
     "execution_count": 28,
     "metadata": {},
     "output_type": "execute_result"
    }
   ],
   "source": [
    "files"
   ]
  },
  {
   "cell_type": "code",
   "execution_count": 36,
   "metadata": {},
   "outputs": [
    {
     "name": "stdout",
     "output_type": "stream",
     "text": [
      "23murtoi\n",
      "3b0bse55\n",
      "3b0bse55\n"
     ]
    }
   ],
   "source": [
    "for f_name in files:\n",
    "    file_path = os.path.join(log_dir, f_name)\n",
    "    if os.path.isdir(file_path) and f_name=='wandb':\n",
    "        wandb_files = os.listdir(file_path)\n",
    "        for fwandb_name in wandb_files:\n",
    "            wandb_dir_path = os.path.join(log_dir, f_name, fwandb_name)\n",
    "\n",
    "            if os.path.isdir(wandb_dir_path) and fwandb_name.startswith('offline'):\n",
    "                wandb_run_id = fwandb_name.split('-')[-1]\n",
    "                print(wandb_run_id)\n",
    "#                 json_file = open(wandb_file_path)\n",
    "#                 json_content = json.load(json_file)\n",
    "#                 json_content['run_id']"
   ]
  },
  {
   "cell_type": "code",
   "execution_count": 32,
   "metadata": {},
   "outputs": [
    {
     "data": {
      "text/plain": [
       "True"
      ]
     },
     "execution_count": 32,
     "metadata": {},
     "output_type": "execute_result"
    }
   ],
   "source": [
    "fwandb_name = 'offline-run'\n",
    "fwandb_name.startswith('offline')"
   ]
  },
  {
   "cell_type": "code",
   "execution_count": null,
   "metadata": {},
   "outputs": [],
   "source": []
  }
 ],
 "metadata": {
  "kernelspec": {
   "display_name": "ffcv2",
   "language": "python",
   "name": "ffcv2"
  },
  "language_info": {
   "codemirror_mode": {
    "name": "ipython",
    "version": 3
   },
   "file_extension": ".py",
   "mimetype": "text/x-python",
   "name": "python",
   "nbconvert_exporter": "python",
   "pygments_lexer": "ipython3",
   "version": "3.9.13"
  }
 },
 "nbformat": 4,
 "nbformat_minor": 4
}
