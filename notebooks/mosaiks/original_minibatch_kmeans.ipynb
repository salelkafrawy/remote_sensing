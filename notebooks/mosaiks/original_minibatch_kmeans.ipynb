{
 "cells": [
  {
   "cell_type": "markdown",
   "metadata": {},
   "source": [
    "# Online learning of a dictionary of parts of faces"
   ]
  },
  {
   "cell_type": "markdown",
   "metadata": {},
   "source": [
    "This example uses a large dataset of faces to learn a set of 20 x 20 images patches that constitute faces.\n",
    "\n",
    "From the programming standpoint, it is interesting because it shows how to use the online API of the scikit-learn to process a very large dataset by chunks. The way we proceed is that we load an image at a time and extract randomly 50 patches from this image. Once we have accumulated 500 of these patches (using 10 images), we run the partial_fit method of the online KMeans object, MiniBatchKMeans.\n",
    "\n",
    "The verbose setting on the MiniBatchKMeans enables us to see that some clusters are reassigned during the successive calls to partial-fit. This is because the number of patches that they represent has become too low, and it is better to choose a random new cluster."
   ]
  },
  {
   "cell_type": "code",
   "execution_count": 1,
   "metadata": {},
   "outputs": [
    {
     "name": "stdout",
     "output_type": "stream",
     "text": [
      "downloading Olivetti faces from https://ndownloader.figshare.com/files/5976027 to /home/mila/s/sara.ebrahim-elkafrawy/scikit_learn_data\n"
     ]
    }
   ],
   "source": [
    "from sklearn import datasets\n",
    "\n",
    "faces = datasets.fetch_olivetti_faces()"
   ]
  },
  {
   "cell_type": "code",
   "execution_count": 3,
   "metadata": {},
   "outputs": [
    {
     "name": "stdout",
     "output_type": "stream",
     "text": [
      "Learning the dictionary... \n"
     ]
    }
   ],
   "source": [
    "import time\n",
    "\n",
    "import numpy as np\n",
    "\n",
    "from sklearn.cluster import MiniBatchKMeans\n",
    "from sklearn.feature_extraction.image import extract_patches_2d\n",
    "\n",
    "print(\"Learning the dictionary... \")\n",
    "random_state = np.random.RandomState(0)\n",
    "kmeans = MiniBatchKMeans(n_clusters=81, random_state=random_state, verbose=True)\n",
    "patch_size = (20, 20)\n"
   ]
  },
  {
   "cell_type": "code",
   "execution_count": 4,
   "metadata": {},
   "outputs": [
    {
     "name": "stdout",
     "output_type": "stream",
     "text": [
      "[MiniBatchKMeans] Reassigning 11 cluster centers.\n",
      "Partial fit of  100 out of 2400\n",
      "Partial fit of  200 out of 2400\n",
      "Partial fit of  300 out of 2400\n",
      "Partial fit of  400 out of 2400\n",
      "Partial fit of  500 out of 2400\n",
      "Partial fit of  600 out of 2400\n",
      "[MiniBatchKMeans] Reassigning 2 cluster centers.\n",
      "Partial fit of  700 out of 2400\n",
      "Partial fit of  800 out of 2400\n",
      "Partial fit of  900 out of 2400\n",
      "Partial fit of 1000 out of 2400\n",
      "Partial fit of 1100 out of 2400\n",
      "Partial fit of 1200 out of 2400\n",
      "Partial fit of 1300 out of 2400\n",
      "Partial fit of 1400 out of 2400\n",
      "Partial fit of 1500 out of 2400\n",
      "Partial fit of 1600 out of 2400\n",
      "Partial fit of 1700 out of 2400\n",
      "Partial fit of 1800 out of 2400\n",
      "Partial fit of 1900 out of 2400\n",
      "Partial fit of 2000 out of 2400\n",
      "Partial fit of 2100 out of 2400\n",
      "Partial fit of 2200 out of 2400\n",
      "Partial fit of 2300 out of 2400\n",
      "Partial fit of 2400 out of 2400\n",
      "done in 1.88s.\n"
     ]
    }
   ],
   "source": [
    "t0 = time.time()\n",
    "\n",
    "# The online learning part: cycle over the whole dataset 6 times\n",
    "index = 0\n",
    "buffer = []\n",
    "\n",
    "for _ in range(6):\n",
    "    for img in faces.images:\n",
    "        data = extract_patches_2d(img, patch_size, max_patches=50, random_state=random_state)\n",
    "        data = np.reshape(data, (len(data), -1))\n",
    "        buffer.append(data)\n",
    "        index += 1\n",
    "        if index % 10 == 0:\n",
    "            data = np.concatenate(buffer, axis=0)\n",
    "            data -= np.mean(data, axis=0)\n",
    "            data /= np.std(data, axis=0)\n",
    "            kmeans.partial_fit(data)\n",
    "            buffer = []\n",
    "        if index % 100 == 0:\n",
    "            print(\"Partial fit of %4i out of %i\" % (index, 6 * len(faces.images)))\n",
    "\n",
    "dt = time.time() - t0\n",
    "print(\"done in %.2fs.\" % dt)"
   ]
  },
  {
   "cell_type": "markdown",
   "metadata": {},
   "source": [
    "# Plot the results"
   ]
  },
  {
   "cell_type": "code",
   "execution_count": 5,
   "metadata": {},
   "outputs": [
    {
     "name": "stdout",
     "output_type": "stream",
     "text": [
      "-1.3439441\n",
      "1.1172686\n"
     ]
    },
    {
     "data": {
      "image/png": "[encoded data removed]",
      "text/plain": [
       "<Figure size 302.4x288 with 1 Axes>"
      ]
     },
     "metadata": {},
     "output_type": "display_data"
    }
   ],
   "source": [
    "import matplotlib.pyplot as plt\n",
    "\n",
    "plt.figure(figsize=(4.2, 4))\n",
    "for i, patch in enumerate(kmeans.cluster_centers_):\n",
    "    plt.subplot(9, 9, i + 1)\n",
    "    plt.imshow(patch.reshape(patch_size), cmap=plt.cm.gray, interpolation=\"nearest\")\n",
    "    plt.xticks(())\n",
    "    plt.yticks(())\n",
    "    print(patch.min())\n",
    "    print(patch.max())\n",
    "    break\n",
    "\n",
    "plt.suptitle(\n",
    "    \"Patches of faces\\nTrain time %.1fs on %d patches\" % (dt, 8 * len(faces.images)),\n",
    "    fontsize=16,\n",
    ")\n",
    "plt.subplots_adjust(0.08, 0.02, 0.92, 0.85, 0.08, 0.23)\n",
    "\n",
    "plt.show()"
   ]
  },
  {
   "cell_type": "markdown",
   "metadata": {},
   "source": [
    "# Try with small GeoLife"
   ]
  },
  {
   "cell_type": "code",
   "execution_count": 1,
   "metadata": {},
   "outputs": [],
   "source": [
    "import os\n",
    "import sys\n",
    "import inspect\n",
    "import pandas as pd\n",
    "from pathlib import Path\n",
    "\n",
    "CURR_DIR = os.path.dirname(os.path.abspath(inspect.getfile(inspect.currentframe())))\n",
    "PARENT_DIR = os.path.dirname(CURR_DIR)\n",
    "sys.path.insert(0, \"/home/mila/s/sara.ebrahim-elkafrawy/scratch/ecosystem_project/remote_sensing\")"
   ]
  },
  {
   "cell_type": "code",
   "execution_count": 2,
   "metadata": {},
   "outputs": [],
   "source": [
    "from dataset.pytorch_dataset import GeoLifeCLEF2022Dataset\n",
    "from torch.utils.data import random_split, DataLoader"
   ]
  },
  {
   "cell_type": "code",
   "execution_count": 3,
   "metadata": {},
   "outputs": [],
   "source": [
    "data_dir = \"/network/scratch/s/sara.ebrahim-elkafrawy/small_geo_data\"  # \"/network/scratch/s/sara.ebrahim-elkafrawy/\" \n",
    "split = \"train\"\n",
    "use_ffcv_loader = False\n",
    "bands = [\"rgb\"] \n",
    "batch_size = 1\n",
    "num_workers = 0\n",
    "patch_size = (7, 7)\n",
    "num_feats = 64  # also number of patches"
   ]
  },
  {
   "cell_type": "code",
   "execution_count": 4,
   "metadata": {},
   "outputs": [],
   "source": [
    "geo_train_dataset = GeoLifeCLEF2022Dataset(\n",
    "                root=data_dir,\n",
    "                subset=split,\n",
    "                use_ffcv_loader=use_ffcv_loader,\n",
    "                region=\"both\",\n",
    "                patch_data=bands,\n",
    "                use_rasters=False,\n",
    "                patch_extractor=None,\n",
    "                transform=None,\n",
    "                target_transform=None,\n",
    "                opts=None,\n",
    "            )\n",
    "\n",
    "geo_train_loader = DataLoader(\n",
    "                geo_train_dataset,\n",
    "                batch_size=batch_size,\n",
    "                num_workers=num_workers,\n",
    "                shuffle=True,\n",
    "                pin_memory=True,\n",
    "            )"
   ]
  },
  {
   "cell_type": "code",
   "execution_count": 5,
   "metadata": {},
   "outputs": [
    {
     "data": {
      "text/plain": [
       "2004"
      ]
     },
     "execution_count": 5,
     "metadata": {},
     "output_type": "execute_result"
    }
   ],
   "source": [
    "len(geo_train_loader)"
   ]
  },
  {
   "cell_type": "code",
   "execution_count": 6,
   "metadata": {},
   "outputs": [
    {
     "name": "stdout",
     "output_type": "stream",
     "text": [
      "Learning the dictionary... \n"
     ]
    }
   ],
   "source": [
    "import time\n",
    "\n",
    "import numpy as np\n",
    "\n",
    "from sklearn.cluster import MiniBatchKMeans\n",
    "from sklearn.feature_extraction.image import extract_patches_2d\n",
    "\n",
    "print(\"Learning the dictionary... \")\n",
    "kmeans_bs = 1024\n",
    "\n",
    "random_state = np.random.RandomState(0)\n",
    "kmeans = MiniBatchKMeans(n_clusters=num_feats, \n",
    "                         random_state=random_state,\n",
    "#                          max_no_improvement=5,\n",
    "#                          tol=0.01,\n",
    "#                          max_iter=5,\n",
    "#                          batch_size = kmeans_bs,\n",
    "                         verbose=True)"
   ]
  },
  {
   "cell_type": "code",
   "execution_count": 7,
   "metadata": {},
   "outputs": [
    {
     "name": "stdout",
     "output_type": "stream",
     "text": [
      "Partial fit of 10000 out of 12024\n",
      "done in 59.65s.\n"
     ]
    }
   ],
   "source": [
    "t0 = time.time()\n",
    "\n",
    "# The online learning part: cycle over the whole dataset 6 times\n",
    "index = 0\n",
    "buffer = []\n",
    "num_iters = 6\n",
    "max_patches = 50\n",
    "\n",
    "for _ in range(num_iters):\n",
    "    for batch in geo_train_loader:\n",
    "    #     rand_img_idx = np.random.randint(batch_size)\n",
    "    #     curr_batch_size = batch[0]['rgb'].shape[0]\n",
    "    #     if rand_img_idx > curr_batch_size:\n",
    "    #         rand_img_idx = curr_batch_size-1\n",
    "\n",
    "    #     img_np = batch[0]['rgb'][rand_img_idx].numpy()\n",
    "        patches, target, meta = batch\n",
    "        img_np = patches['rgb'].numpy()\n",
    "        img_np = img_np.squeeze(0)\n",
    "        \n",
    "        img_np = np.einsum('ijk->jki', img_np)\n",
    "\n",
    "        data = extract_patches_2d(img_np, patch_size, max_patches=max_patches, random_state=random_state)\n",
    "        data = np.reshape(data, (len(data), -1))\n",
    "        buffer.append(data)\n",
    "        index += 1\n",
    "        if index % int(len(geo_train_loader)/10) == 0:\n",
    "            data = np.concatenate(buffer, axis=0)\n",
    "            data -= np.mean(data, axis=0)\n",
    "            data /= np.std(data, axis=0)\n",
    "            kmeans.partial_fit(data)\n",
    "            buffer = []\n",
    "    #             print(f'inertia: {kmeans.inertia_}')\n",
    "        if index % 10000 == 0:\n",
    "            print(\"Partial fit of %4i out of %i\" % (index, num_iters * len(geo_train_loader)))\n",
    "\n",
    "dt = time.time() - t0\n",
    "print(\"done in %.2fs.\" % dt)"
   ]
  },
  {
   "cell_type": "code",
   "execution_count": 8,
   "metadata": {},
   "outputs": [
    {
     "data": {
      "text/plain": [
       "-1.9083264"
      ]
     },
     "execution_count": 8,
     "metadata": {},
     "output_type": "execute_result"
    }
   ],
   "source": [
    "# done in 44132.36s.  whole dataset\n",
    "kmeans.cluster_centers_.min()"
   ]
  },
  {
   "cell_type": "code",
   "execution_count": 9,
   "metadata": {},
   "outputs": [],
   "source": [
    "# save_path = '/home/mila/s/sara.ebrahim-elkafrawy/scratch/ecosystem_project/ckpts/mosaik_geo_filters/'\n",
    "# np.save(os.path.join(save_path, 'kmeans_512_small.npy'), kmeans.cluster_centers_.reshape(-1, 3, patch_size[0], patch_size[0]))"
   ]
  },
  {
   "cell_type": "code",
   "execution_count": 10,
   "metadata": {},
   "outputs": [],
   "source": [
    "# kmeans_np = np.load('kmeans_64_whole.npy')\n",
    "# dt = 44132.36"
   ]
  },
  {
   "cell_type": "code",
   "execution_count": 11,
   "metadata": {},
   "outputs": [],
   "source": [
    "# buffer[0].shape, kmeans.cluster_centers_.shape"
   ]
  },
  {
   "cell_type": "code",
   "execution_count": 13,
   "metadata": {},
   "outputs": [
    {
     "data": {
      "image/png": "[encoded data removed]",
      "text/plain": [
       "<Figure size 1800x1800 with 64 Axes>"
      ]
     },
     "metadata": {},
     "output_type": "display_data"
    }
   ],
   "source": [
    "import matplotlib.pyplot as plt\n",
    "\n",
    "plt.figure(figsize=(25, 25))\n",
    "for i, patch in enumerate(kmeans.cluster_centers_):\n",
    "    plt.subplot(8, 8, i + 1)\n",
    "    img = patch.reshape(patch_size[0], patch_size[1],3)\n",
    "    img = (img- np.amin(img))/(np.amax(img)-np.amin(img))\n",
    "    img = np.clip(img, 0, 1)\n",
    "    plt.imshow(img) #interpolation=\"nearest\")\n",
    "    plt.xticks(())\n",
    "    plt.yticks(())\n",
    "\n",
    "\n",
    "plt.suptitle(\n",
    "    \"Patches of GeoLife data \\nTrain time %.1fs on %d patches \\nwith %d max_iterations and %d random patches of one image  \\nbatch size %d\" \\\n",
    "    % (dt, 8 * len(geo_train_loader), num_iters, max_patches, batch_size),\n",
    "    fontsize=16,\n",
    "\n",
    ")\n",
    "plt.subplots_adjust(0.08, 0.02, 0.92, 0.85, 0.08, 0.23)\n",
    "\n",
    "plt.rcParams['savefig.facecolor']='white'\n",
    "plt.savefig('patches_1st_layer.png')"
   ]
  },
  {
   "cell_type": "code",
   "execution_count": 83,
   "metadata": {},
   "outputs": [],
   "source": [
    "# np.save('kmeans_64_whole.npy', kmeans.cluster_centers_)"
   ]
  },
  {
   "cell_type": "code",
   "execution_count": 15,
   "metadata": {},
   "outputs": [
    {
     "data": {
      "image/png": "[encoded data removed]",
      "text/plain": [
       "<Figure size 432x288 with 1 Axes>"
      ]
     },
     "metadata": {
      "needs_background": "light"
     },
     "output_type": "display_data"
    }
   ],
   "source": [
    "lbls = kmeans.labels_\n",
    "lbls_df = pd.DataFrame(lbls, index=None)\n",
    "lbls_lst = list(lbls_df.value_counts().values)\n",
    "x_vals = [f'c{cluster_num}' for cluster_num in range(1,65)]\n",
    "\n",
    "plt.bar(x_vals[:20], lbls_lst[:20], color ='maroon', width = 0.1)\n",
    "plt.xlabel(\"Cluster Number\")\n",
    "plt.ylabel(\"No. of Patches\")\n",
    "plt.title(\"Clusters distribution\")\n",
    "plt.rcParams['savefig.facecolor']='white'\n",
    "plt.savefig('clusters_distribution.png')"
   ]
  },
  {
   "cell_type": "code",
   "execution_count": 21,
   "metadata": {},
   "outputs": [
    {
     "data": {
      "text/plain": [
       "[3256,\n",
       " 3141,\n",
       " 2783,\n",
       " 2758,\n",
       " 2517,\n",
       " 2469,\n",
       " 2314,\n",
       " 1925,\n",
       " 1871,\n",
       " 1850,\n",
       " 1822,\n",
       " 1714,\n",
       " 1622,\n",
       " 1577,\n",
       " 1459,\n",
       " 1419,\n",
       " 1356,\n",
       " 1282,\n",
       " 1241,\n",
       " 1232,\n",
       " 1048,\n",
       " 896,\n",
       " 851,\n",
       " 807,\n",
       " 775,\n",
       " 740,\n",
       " 731,\n",
       " 705,\n",
       " 704,\n",
       " 672,\n",
       " 650,\n",
       " 640,\n",
       " 635,\n",
       " 605,\n",
       " 573,\n",
       " 564,\n",
       " 559,\n",
       " 558,\n",
       " 477,\n",
       " 454,\n",
       " 453,\n",
       " 451,\n",
       " 450,\n",
       " 448,\n",
       " 438,\n",
       " 437,\n",
       " 434,\n",
       " 425,\n",
       " 410,\n",
       " 409,\n",
       " 408,\n",
       " 398,\n",
       " 389,\n",
       " 352,\n",
       " 351,\n",
       " 345,\n",
       " 332,\n",
       " 322,\n",
       " 310,\n",
       " 269,\n",
       " 264,\n",
       " 236,\n",
       " 221,\n",
       " 196]"
      ]
     },
     "execution_count": 21,
     "metadata": {},
     "output_type": "execute_result"
    }
   ],
   "source": [
    "lbls_lst"
   ]
  },
  {
   "cell_type": "code",
   "execution_count": 14,
   "metadata": {},
   "outputs": [
    {
     "data": {
      "text/plain": [
       "42"
      ]
     },
     "execution_count": 14,
     "metadata": {},
     "output_type": "execute_result"
    }
   ],
   "source": [
    "lbls[0]"
   ]
  },
  {
   "cell_type": "code",
   "execution_count": 17,
   "metadata": {},
   "outputs": [
    {
     "data": {
      "text/plain": [
       "64"
      ]
     },
     "execution_count": 17,
     "metadata": {},
     "output_type": "execute_result"
    }
   ],
   "source": [
    "len(lbls_np)"
   ]
  },
  {
   "cell_type": "markdown",
   "metadata": {},
   "source": [
    "# Extract random patches"
   ]
  },
  {
   "cell_type": "code",
   "execution_count": 1,
   "metadata": {},
   "outputs": [],
   "source": [
    "import os\n",
    "import sys\n",
    "import time\n",
    "import inspect\n",
    "import numpy as np\n",
    "from pathlib import Path\n",
    "from sklearn.feature_extraction.image import extract_patches_2d\n",
    "\n",
    "CURR_DIR = os.path.dirname(os.path.abspath(inspect.getfile(inspect.currentframe())))\n",
    "PARENT_DIR = os.path.dirname(CURR_DIR)\n",
    "sys.path.insert(0, \"/home/mila/s/sara.ebrahim-elkafrawy/scratch/ecosystem_project/remote_sensing\")\n",
    "\n",
    "from dataset.pytorch_dataset import GeoLifeCLEF2022Dataset\n",
    "from torch.utils.data import random_split, DataLoader\n",
    "\n",
    "random_state = np.random.RandomState(0)"
   ]
  },
  {
   "cell_type": "code",
   "execution_count": 2,
   "metadata": {},
   "outputs": [],
   "source": [
    "data_dir =\"/network/scratch/s/sara.ebrahim-elkafrawy/\"  #\"/network/scratch/s/sara.ebrahim-elkafrawy/small_geo_data\" \n",
    "split = \"train\"\n",
    "use_ffcv_loader = False\n",
    "bands = [\"rgb\"] \n",
    "batch_size = 1\n",
    "num_workers = 0\n",
    "patch_size = (10, 10)\n",
    "num_feats = 64  # also number of patches"
   ]
  },
  {
   "cell_type": "code",
   "execution_count": 3,
   "metadata": {},
   "outputs": [],
   "source": [
    "geo_train_dataset = GeoLifeCLEF2022Dataset(\n",
    "                root=data_dir,\n",
    "                subset=split,\n",
    "                use_ffcv_loader=use_ffcv_loader,\n",
    "                region=\"both\",\n",
    "                patch_data=bands,\n",
    "                use_rasters=False,\n",
    "                patch_extractor=None,\n",
    "                transform=None,\n",
    "                target_transform=None,\n",
    "                opts=None,\n",
    "            )\n",
    "\n",
    "geo_train_loader = DataLoader(\n",
    "                geo_train_dataset,\n",
    "                batch_size=batch_size,\n",
    "                num_workers=num_workers,\n",
    "                shuffle=True,\n",
    "                pin_memory=True,\n",
    "            )"
   ]
  },
  {
   "cell_type": "code",
   "execution_count": 4,
   "metadata": {},
   "outputs": [
    {
     "data": {
      "text/plain": [
       "1587395.0"
      ]
     },
     "execution_count": 4,
     "metadata": {},
     "output_type": "execute_result"
    }
   ],
   "source": [
    "len(geo_train_loader)/batch_size"
   ]
  },
  {
   "cell_type": "code",
   "execution_count": 5,
   "metadata": {},
   "outputs": [],
   "source": [
    "random_indices = np.random.randint(int(len(geo_train_loader)/batch_size), size=num_feats)\n",
    "random_indices = np.sort(random_indices)"
   ]
  },
  {
   "cell_type": "code",
   "execution_count": 6,
   "metadata": {},
   "outputs": [
    {
     "data": {
      "text/plain": [
       "array([   8650,   12323,   42022,   44540,   55869,   70031,  130105,\n",
       "        155111,  172898,  173358,  181383,  204792,  255881,  258551,\n",
       "        286878,  288480,  289018,  310580,  322334,  351150,  380900,\n",
       "        425373,  433184,  433725,  474171,  492060,  493824,  513643,\n",
       "        517400,  530652,  531283,  575773,  579390,  580400,  624957,\n",
       "        644673,  675433,  705626,  718594,  726891,  753821,  794691,\n",
       "        844035,  854665,  857475,  861714,  899347,  942282,  943779,\n",
       "        953065,  955624,  971702,  975295,  985683, 1044476, 1117779,\n",
       "       1134949, 1294805, 1347399, 1426042, 1482009, 1489213, 1555243,\n",
       "       1585998])"
      ]
     },
     "execution_count": 6,
     "metadata": {},
     "output_type": "execute_result"
    }
   ],
   "source": [
    "random_indices"
   ]
  },
  {
   "cell_type": "code",
   "execution_count": 7,
   "metadata": {},
   "outputs": [
    {
     "data": {
      "text/plain": [
       "64"
      ]
     },
     "execution_count": 7,
     "metadata": {},
     "output_type": "execute_result"
    }
   ],
   "source": [
    "len(random_indices)"
   ]
  },
  {
   "cell_type": "code",
   "execution_count": 8,
   "metadata": {},
   "outputs": [
    {
     "name": "stdout",
     "output_type": "stream",
     "text": [
      "done in 6827.39s.\n"
     ]
    }
   ],
   "source": [
    "t0 = time.time()\n",
    "\n",
    "\n",
    "# The online learning part: cycle over the whole dataset 6 times\n",
    "rand_idx = 0\n",
    "\n",
    "buffer = []\n",
    "\n",
    "\n",
    "for batch_idx, batch in enumerate(geo_train_loader):\n",
    "    if batch_idx == random_indices[rand_idx]:\n",
    "        patches, target, meta = batch\n",
    "        img_np = patches['rgb'].numpy()\n",
    "        img_np = img_np.squeeze(0)\n",
    "        img_np = np.einsum('ijk->jki', img_np)\n",
    "\n",
    "        data = extract_patches_2d(img_np, patch_size, max_patches=1, random_state=random_state)\n",
    "        data = np.reshape(data, (len(data), -1))\n",
    "        buffer.append(data)\n",
    "\n",
    "        rand_idx += 1\n",
    "    if rand_idx == len(random_indices):\n",
    "        break\n",
    "\n",
    "dt = time.time() - t0\n",
    "print(\"done in %.2fs.\" % dt)"
   ]
  },
  {
   "cell_type": "markdown",
   "metadata": {},
   "source": [
    "## visualize the random patches"
   ]
  },
  {
   "cell_type": "code",
   "execution_count": 9,
   "metadata": {},
   "outputs": [
    {
     "data": {
      "text/plain": [
       "((1, 300), 64)"
      ]
     },
     "execution_count": 9,
     "metadata": {},
     "output_type": "execute_result"
    }
   ],
   "source": [
    "buffer[63].shape, len(buffer)"
   ]
  },
  {
   "cell_type": "code",
   "execution_count": 10,
   "metadata": {},
   "outputs": [
    {
     "data": {
      "image/png": "[encoded data removed]",
      "text/plain": [
       "<Figure size 720x720 with 64 Axes>"
      ]
     },
     "metadata": {},
     "output_type": "display_data"
    }
   ],
   "source": [
    "import matplotlib.pyplot as plt\n",
    "\n",
    "plt.figure(figsize=(10, 10))\n",
    "for i, patch in enumerate(buffer):\n",
    "    plt.subplot(8, 8, i + 1)\n",
    "    img = patch.reshape(patch_size[0], patch_size[1],3)\n",
    "    img = (img- np.amin(img))/(np.amax(img)-np.amin(img))\n",
    "#     img = np.clip(img, 0, 1)\n",
    "    plt.imshow(img) #interpolation=\"nearest\")\n",
    "    plt.xticks(())\n",
    "    plt.yticks(())\n",
    "\n",
    "\n",
    "plt.suptitle(\n",
    "    \"Patches of GeoLife data \\nTrain time %.1fs on %d patches\" % (dt, 8 * len(geo_train_loader)),\n",
    "    fontsize=16,\n",
    ")\n",
    "plt.subplots_adjust(0.08, 0.02, 0.92, 0.85, 0.08, 0.23)\n",
    "\n",
    "# plt.show()\n",
    "plt.savefig('patches_1st_layer.png')"
   ]
  },
  {
   "cell_type": "code",
   "execution_count": null,
   "metadata": {},
   "outputs": [],
   "source": []
  }
 ],
 "metadata": {
  "kernelspec": {
   "display_name": "gis",
   "language": "python",
   "name": "gis"
  },
  "language_info": {
   "codemirror_mode": {
    "name": "ipython",
    "version": 3
   },
   "file_extension": ".py",
   "mimetype": "text/x-python",
   "name": "python",
   "nbconvert_exporter": "python",
   "pygments_lexer": "ipython3",
   "version": "3.6.13"
  }
 },
 "nbformat": 4,
 "nbformat_minor": 4
}
