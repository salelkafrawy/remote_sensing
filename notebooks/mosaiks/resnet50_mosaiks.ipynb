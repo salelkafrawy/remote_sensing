{
 "cells": [
  {
   "cell_type": "markdown",
   "metadata": {},
   "source": [
    "# Multi-layer resnet50 from MOSAIKS"
   ]
  },
  {
   "cell_type": "markdown",
   "metadata": {},
   "source": [
    "## Prepare GeoLife data loader"
   ]
  },
  {
   "cell_type": "code",
   "execution_count": 1,
   "metadata": {},
   "outputs": [
    {
     "name": "stderr",
     "output_type": "stream",
     "text": [
      "/home/mila/s/sara.ebrahim-elkafrawy/.conda/envs/ffcv2/lib/python3.9/site-packages/tqdm/auto.py:22: TqdmWarning: IProgress not found. Please update jupyter and ipywidgets. See https://ipywidgets.readthedocs.io/en/stable/user_install.html\n",
      "  from .autonotebook import tqdm as notebook_tqdm\n"
     ]
    }
   ],
   "source": [
    "import os\n",
    "import sys\n",
    "import time\n",
    "import inspect\n",
    "import numpy as np\n",
    "import pandas as pd\n",
    "from pathlib import Path\n",
    "import matplotlib.pyplot as plt\n",
    "import torch\n",
    "import torch.nn as nn\n",
    "from torchvision import transforms\n",
    "import timm\n",
    "\n",
    "from sklearn.cluster import KMeans\n",
    "from sklearn.feature_extraction.image import extract_patches_2d\n",
    "\n",
    "CURR_DIR = os.path.dirname(os.path.abspath(inspect.getfile(inspect.currentframe())))\n",
    "PARENT_DIR = os.path.dirname(CURR_DIR)\n",
    "sys.path.insert(0, \"/home/mila/s/sara.ebrahim-elkafrawy/scratch/ecosystem_project/remote_sensing\")\n",
    "\n",
    "from dataset.pytorch_dataset import GeoLifeCLEF2022Dataset\n",
    "from torch.utils.data import random_split, DataLoader\n",
    "from mosaiks_utils import visualize_3d_patches, visTensor, normalize_patches\n",
    "\n",
    "random_state = np.random.RandomState(0)"
   ]
  },
  {
   "cell_type": "code",
   "execution_count": 2,
   "metadata": {},
   "outputs": [],
   "source": [
    "data_dir = \"/network/scratch/s/sara.ebrahim-elkafrawy/small_geo_data\"  # \"/network/scratch/s/sara.ebrahim-elkafrawy/\" \n",
    "split = \"train\"\n",
    "use_ffcv_loader = False\n",
    "num_species= 17037\n",
    "bands = [\"rgb\"] \n",
    "batch_size = 1\n",
    "num_workers = 0"
   ]
  },
  {
   "cell_type": "code",
   "execution_count": 3,
   "metadata": {},
   "outputs": [],
   "source": [
    "geo_train_dataset = GeoLifeCLEF2022Dataset(\n",
    "                root=data_dir,\n",
    "                subset=split,\n",
    "                use_ffcv_loader=use_ffcv_loader,\n",
    "                region=\"both\",\n",
    "                patch_data=bands,\n",
    "                use_rasters=False,\n",
    "                patch_extractor=None,\n",
    "                transform=None,\n",
    "                target_transform=None,\n",
    "                opts=None,\n",
    "            )\n",
    "\n",
    "geo_train_loader = DataLoader(\n",
    "                geo_train_dataset,\n",
    "                batch_size=batch_size,\n",
    "                num_workers=num_workers,\n",
    "                shuffle=True,\n",
    "                pin_memory=True,\n",
    "            )\n",
    "\n",
    "trf = torch.nn.Sequential(\n",
    "    transforms.Resize(size=(224, 224), interpolation=transforms.InterpolationMode.NEAREST),\n",
    "    transforms.Normalize((106.9413, 114.8733, 104.5285), (51.0005, 44.8595, 43.2014)),\n",
    ")"
   ]
  },
  {
   "cell_type": "markdown",
   "metadata": {},
   "source": [
    "## Define the network"
   ]
  },
  {
   "cell_type": "code",
   "execution_count": 4,
   "metadata": {},
   "outputs": [],
   "source": [
    "# hyperparameters for the model\n",
    "mode = 'whiten' # options ['whiten', 'no_whiten']\n",
    "whiten = True\n",
    "zca_bias = 0.001\n",
    "save_path = f\"/home/mila/s/sara.ebrahim-elkafrawy/scratch/ecosystem_project/ckpts/resnet50_mosaiks_{mode}.pt\"\n",
    "max_iter = 6\n",
    "eps = 1e-4\n",
    "random_state = np.random.RandomState(0)"
   ]
  },
  {
   "cell_type": "markdown",
   "metadata": {},
   "source": [
    "### slicing up resnet50\n",
    "Manually set the indices of all convolution layers and the afterwards activation layers"
   ]
  },
  {
   "cell_type": "code",
   "execution_count": 5,
   "metadata": {},
   "outputs": [],
   "source": [
    "model    = timm.create_model(model_name = 'resnet50', pretrained = True)\n",
    "model.fc = nn.Linear(2048, num_species)"
   ]
  },
  {
   "cell_type": "code",
   "execution_count": 6,
   "metadata": {},
   "outputs": [
    {
     "data": {
      "text/plain": [
       "<All keys matched successfully>"
      ]
     },
     "execution_count": 6,
     "metadata": {},
     "output_type": "execute_result"
    }
   ],
   "source": [
    "model_path = \"/home/mila/s/sara.ebrahim-elkafrawy/scratch/ecosystem_project/ckpts/resnet50_mosaiks_whiten.pt\"\n",
    "model.load_state_dict(torch.load(model_path))"
   ]
  },
  {
   "cell_type": "code",
   "execution_count": 7,
   "metadata": {},
   "outputs": [],
   "source": [
    "# set the weights for hte first layer\n",
    "# list(model.named_parameters())[0][1].data = torch.from_numpy(kmeans.cluster_centers_.reshape(64, 3, 7, 7))"
   ]
  },
  {
   "cell_type": "markdown",
   "metadata": {},
   "source": [
    "## extract all conv layers"
   ]
  },
  {
   "cell_type": "code",
   "execution_count": 8,
   "metadata": {},
   "outputs": [],
   "source": [
    "# for name, param in model.named_parameters():\n",
    "#     print(name, param.shape)"
   ]
  },
  {
   "cell_type": "code",
   "execution_count": 9,
   "metadata": {},
   "outputs": [],
   "source": [
    "conv_lyrs = []\n",
    "idx = 0\n",
    "for name, param in model.named_parameters():\n",
    "    if 'conv' in name:\n",
    "        conv_lyrs.append(idx)\n",
    "    idx += 1"
   ]
  },
  {
   "cell_type": "code",
   "execution_count": 10,
   "metadata": {},
   "outputs": [],
   "source": [
    "# conv_lyrs"
   ]
  },
  {
   "cell_type": "code",
   "execution_count": 11,
   "metadata": {},
   "outputs": [],
   "source": [
    "# for l in conv_lyrs:\n",
    "#     print(list(model.named_parameters())[l][1].data.shape)"
   ]
  },
  {
   "cell_type": "markdown",
   "metadata": {},
   "source": [
    "### Hook the activation layers"
   ]
  },
  {
   "cell_type": "code",
   "execution_count": 12,
   "metadata": {},
   "outputs": [],
   "source": [
    "features_dim = {}\n",
    "def get_features(name):\n",
    "    def hook(model, input, output):\n",
    "        features_dim[name] = output.detach()\n",
    "    return hook"
   ]
  },
  {
   "cell_type": "code",
   "execution_count": 13,
   "metadata": {},
   "outputs": [
    {
     "data": {
      "text/plain": [
       "<torch.utils.hooks.RemovableHandle at 0x7fcc5ad660d0>"
      ]
     },
     "execution_count": 13,
     "metadata": {},
     "output_type": "execute_result"
    }
   ],
   "source": [
    "model.act1.register_forward_hook(get_features('conv_layer_0'))  #model.layer1[1].act2\n",
    "\n",
    "model.layer1[0].act1.register_forward_hook(get_features('conv_layer_3'))\n",
    "model.layer1[0].act2.register_forward_hook(get_features('conv_layer_6'))\n",
    "model.layer1[0].act3.register_forward_hook(get_features('conv_layer_9'))\n",
    "\n",
    "model.layer1[1].act1.register_forward_hook(get_features('conv_layer_15'))\n",
    "model.layer1[1].act2.register_forward_hook(get_features('conv_layer_18'))\n",
    "model.layer1[1].act3.register_forward_hook(get_features('conv_layer_21'))\n",
    "\n",
    "model.layer1[2].act1.register_forward_hook(get_features('conv_layer_24'))\n",
    "model.layer1[2].act2.register_forward_hook(get_features('conv_layer_27'))\n",
    "model.layer1[2].act3.register_forward_hook(get_features('conv_layer_30'))\n",
    "\n",
    "model.layer2[0].act1.register_forward_hook(get_features('conv_layer_33'))\n",
    "model.layer2[0].act2.register_forward_hook(get_features('conv_layer_36'))\n",
    "model.layer2[0].act3.register_forward_hook(get_features('conv_layer_39'))\n",
    "\n",
    "model.layer2[1].act1.register_forward_hook(get_features('conv_layer_45'))\n",
    "model.layer2[1].act2.register_forward_hook(get_features('conv_layer_48'))\n",
    "model.layer2[1].act3.register_forward_hook(get_features('conv_layer_51'))\n",
    "\n",
    "model.layer2[2].act1.register_forward_hook(get_features('conv_layer_54'))\n",
    "model.layer2[2].act2.register_forward_hook(get_features('conv_layer_57'))\n",
    "model.layer2[2].act3.register_forward_hook(get_features('conv_layer_60'))\n",
    "\n",
    "model.layer2[3].act1.register_forward_hook(get_features('conv_layer_63'))\n",
    "model.layer2[3].act2.register_forward_hook(get_features('conv_layer_66'))\n",
    "model.layer2[3].act3.register_forward_hook(get_features('conv_layer_69'))\n",
    "\n",
    "model.layer3[0].act1.register_forward_hook(get_features('conv_layer_72'))\n",
    "model.layer3[0].act2.register_forward_hook(get_features('conv_layer_75'))\n",
    "model.layer3[0].act3.register_forward_hook(get_features('conv_layer_78'))\n",
    "\n",
    "model.layer3[1].act1.register_forward_hook(get_features('conv_layer_84'))\n",
    "model.layer3[1].act2.register_forward_hook(get_features('conv_layer_87'))\n",
    "model.layer3[1].act3.register_forward_hook(get_features('conv_layer_90'))\n",
    "    \n",
    "model.layer3[2].act1.register_forward_hook(get_features('conv_layer_93'))\n",
    "model.layer3[2].act2.register_forward_hook(get_features('conv_layer_96'))\n",
    "model.layer3[2].act3.register_forward_hook(get_features('conv_layer_99'))\n",
    "    \n",
    "model.layer3[3].act1.register_forward_hook(get_features('conv_layer_102'))\n",
    "model.layer3[3].act2.register_forward_hook(get_features('conv_layer_105'))\n",
    "model.layer3[3].act3.register_forward_hook(get_features('conv_layer_108'))\n",
    "\n",
    "model.layer3[4].act1.register_forward_hook(get_features('conv_layer_111'))\n",
    "model.layer3[4].act2.register_forward_hook(get_features('conv_layer_114'))\n",
    "model.layer3[4].act3.register_forward_hook(get_features('conv_layer_117'))\n",
    "\n",
    "model.layer3[5].act1.register_forward_hook(get_features('conv_layer_120'))\n",
    "model.layer3[5].act2.register_forward_hook(get_features('conv_layer_123'))\n",
    "model.layer3[5].act3.register_forward_hook(get_features('conv_layer_126'))    \n",
    "\n",
    "model.layer4[0].act1.register_forward_hook(get_features('conv_layer_129'))\n",
    "model.layer4[0].act2.register_forward_hook(get_features('conv_layer_132'))\n",
    "model.layer4[0].act3.register_forward_hook(get_features('conv_layer_135'))    \n",
    "\n",
    "model.layer4[1].act1.register_forward_hook(get_features('conv_layer_141'))\n",
    "model.layer4[1].act2.register_forward_hook(get_features('conv_layer_144'))\n",
    "model.layer4[1].act3.register_forward_hook(get_features('conv_layer_147'))    \n",
    "\n",
    "model.layer4[2].act1.register_forward_hook(get_features('conv_layer_150'))\n",
    "model.layer4[2].act2.register_forward_hook(get_features('conv_layer_153'))\n",
    "model.layer4[2].act3.register_forward_hook(get_features('conv_layer_156'))    "
   ]
  },
  {
   "cell_type": "code",
   "execution_count": 14,
   "metadata": {},
   "outputs": [],
   "source": [
    "def get_featuremap_patches(train_dataloader, layer_idx, patch_size, max_patches, random_state):\n",
    "    '''expects image shape of (width, height, n_channels)\n",
    "    \n",
    "    Parameters\n",
    "    ----------\n",
    "    train_dataloader: Dataset\n",
    "                   dataloader for the training dataset to extract from\n",
    "    \n",
    "    layer_idx: int\n",
    "               The index of the current feature map. \n",
    "               conv_lyrs[layer_idx] should return the real index of the current weights/parameter \n",
    "               \n",
    "    patch_size: (int, int)\n",
    "                Receptive field size or width and height of the extracted patch.\n",
    "                \n",
    "    max_patches: int\n",
    "                 The number of extracted patches.\n",
    "    \n",
    "    random_state: int\n",
    "                  Random state for reproducibility \n",
    "    Return\n",
    "    ------\n",
    "    patches: ndarrah\n",
    "             final patches of size (max_patches, patch_size, n_channels)\n",
    "    '''\n",
    "    all_patches = []\n",
    "    \n",
    "    for batch in train_dataloader:\n",
    "        \n",
    "        patches, target, meta = batch\n",
    "        patches['rgb'] = trf(patches['rgb'])\n",
    "        \n",
    "        if layer_idx == 0:\n",
    "            curr_feats = patches['rgb'].numpy()\n",
    "        else:\n",
    "            _ = model(patches['rgb'])\n",
    "            curr_feats = features_dim[f'conv_layer_{conv_lyrs[layer_idx-1]}'].numpy() \n",
    "\n",
    "        curr_feats = curr_feats.squeeze(0)\n",
    "        curr_feats = curr_feats.transpose((1,2,0))\n",
    "\n",
    "        # curr_feat_map: expected shape: (width, height, n_channels)\n",
    "        # output shape: (max_patches, patch_size, n_channels)\n",
    "        random_patches = extract_patches_2d(curr_feats, \n",
    "                                  patch_size, \n",
    "                                  max_patches=max_patches,\n",
    "                                  random_state=random_state)\n",
    "        random_patches = np.reshape(random_patches, (len(random_patches), -1))\n",
    "\n",
    "        all_patches.append(random_patches)\n",
    "    \n",
    "    return np.concatenate(all_patches, axis=0)"
   ]
  },
  {
   "cell_type": "code",
   "execution_count": 15,
   "metadata": {},
   "outputs": [
    {
     "name": "stdout",
     "output_type": "stream",
     "text": [
      "for conv layer idx#150\n",
      "number of clusters:512, num_ch:2048, patch_size:(1, 1)\n",
      "curr_param_sz:torch.Size([512, 2048, 1, 1])\n",
      "extract random patches from activation output after conv_layer_#147\n",
      "number of random patches from each image: 128\n",
      "num of total patches: 98196\n",
      "Start normalizing [and] whitening ...\n",
      "zca bias 0.001\n",
      "negatives eigen values: (0,)\n"
     ]
    },
    {
     "name": "stderr",
     "output_type": "stream",
     "text": [
      "/network/scratch/s/sara.ebrahim-elkafrawy/ecosystem_project/remote_sensing/notebooks/mosaiks/mosaiks_utils.py:109: ComplexWarning: Casting complex values to real discards the imaginary part\n",
      "  return patches_normalized.reshape(orig_shape).astype(\"float32\"), means, global_ZCA\n"
     ]
    },
    {
     "name": "stdout",
     "output_type": "stream",
     "text": [
      "whiten_patches stats [min],[max],[mean],[std]: -5.389, 26.563, 0.000, 0.370\n",
      "Running KMeans ...\n",
      "Finished KMeans fit\n",
      "Updating parameter idx#150 with size: torch.Size([512, 2048, 1, 1])\n",
      "Model saved at /home/mila/s/sara.ebrahim-elkafrawy/scratch/ecosystem_project/ckpts/resnet50_mosaiks_whiten.pt\n",
      "for conv layer idx#153\n",
      "number of clusters:512, num_ch:512, patch_size:(3, 3)\n",
      "curr_param_sz:torch.Size([512, 512, 3, 3])\n",
      "extract random patches from activation output after conv_layer_#150\n",
      "number of random patches from each image: 128\n",
      "num of total patches: 50100\n",
      "Start normalizing [and] whitening ...\n",
      "zca bias 0.001\n",
      "negatives eigen values: (0,)\n",
      "whiten_patches stats [min],[max],[mean],[std]: -3.445, 14.360, 0.000, 0.276\n",
      "Running KMeans ...\n",
      "Finished KMeans fit\n",
      "Updating parameter idx#153 with size: torch.Size([512, 512, 3, 3])\n",
      "Model saved at /home/mila/s/sara.ebrahim-elkafrawy/scratch/ecosystem_project/ckpts/resnet50_mosaiks_whiten.pt\n",
      "for conv layer idx#156\n",
      "number of clusters:2048, num_ch:512, patch_size:(1, 1)\n",
      "curr_param_sz:torch.Size([2048, 512, 1, 1])\n",
      "extract random patches from activation output after conv_layer_#153\n",
      "number of random patches from each image: 512\n",
      "num of total patches: 98196\n",
      "Start normalizing [and] whitening ...\n",
      "zca bias 0.001\n",
      "negatives eigen values: (0,)\n",
      "whiten_patches stats [min],[max],[mean],[std]: -5.072, 15.908, 0.000, 0.596\n",
      "Running KMeans ...\n",
      "Finished KMeans fit\n",
      "Updating parameter idx#156 with size: torch.Size([2048, 512, 1, 1])\n",
      "Model saved at /home/mila/s/sara.ebrahim-elkafrawy/scratch/ecosystem_project/ckpts/resnet50_mosaiks_whiten.pt\n"
     ]
    }
   ],
   "source": [
    "for layer_idx, conv_idx in enumerate(conv_lyrs):\n",
    "\n",
    "    if conv_idx < 150:\n",
    "        continue\n",
    "        \n",
    "    if layer_idx == len(conv_lyrs):\n",
    "        break\n",
    "    print(f'for conv layer idx#{conv_idx}')\n",
    "    \n",
    "    curr_param_sz = list(model.named_parameters())[conv_idx][1].data.shape\n",
    "    num_clusters = curr_param_sz[0]\n",
    "    num_ch = curr_param_sz[1]\n",
    "    patch_size = (curr_param_sz[2], curr_param_sz[3])\n",
    "    num_iters = max_iter   # The online learning part: cycle over the whole dataset 6 times\n",
    "    print(f'number of clusters:{num_clusters}, num_ch:{num_ch}, patch_size:{patch_size}')\n",
    "    print(f'curr_param_sz:{curr_param_sz}')\n",
    "    \n",
    "    if layer_idx == 0:\n",
    "        max_patches = num_clusters\n",
    "        print(f'extract random patches from the images pixels')\n",
    "    else: \n",
    "        max_patches = int(num_clusters/4)\n",
    "        print(f'extract random patches from activation output after conv_layer_#{conv_lyrs[layer_idx-1]}')\n",
    "        \n",
    "    print(f'number of random patches from each image: {max_patches}')\n",
    "\n",
    "\n",
    "    # Step#1: extract random patches  shape:(32064, 147)\n",
    "    featmap_patches = get_featuremap_patches(geo_train_loader,\n",
    "                                             layer_idx=layer_idx,\n",
    "                                             patch_size=patch_size,\n",
    "                                             max_patches=max_patches,\n",
    "                                             random_state=random_state)\n",
    "    print(f'num of total patches: {len(featmap_patches)}')\n",
    "    \n",
    "    # Step#2: normalize and whiten the patches\n",
    "    print(f'Start normalizing [and] whitening ...')\n",
    "    whiten_patches, means, zca_mat = normalize_patches(featmap_patches, zca_bias=zca_bias, whiten=whiten)\n",
    "    print(f'whiten_patches stats [min],[max],[mean],[std]: {whiten_patches.min():.3f}, {whiten_patches.max():.3f}, {whiten_patches.mean():.3f}, {whiten_patches.std():.3f}')\n",
    "\n",
    "    # Step#3: apply kmeans to the whitened patches\n",
    "    print(f'Running KMeans ...')\n",
    "    kmeans = KMeans(n_clusters=num_clusters, \n",
    "                    random_state=random_state,\n",
    "                    max_iter=max_iter,\n",
    "                    verbose=False)\n",
    "    kmeans_geo = kmeans.fit(whiten_patches)\n",
    "    print(f'Finished KMeans fit')\n",
    "    \n",
    "    # change the weights of the corresponding conv layer\n",
    "    print(f'Updating parameter idx#{conv_idx} with size: {curr_param_sz}')    \n",
    "    list(model.named_parameters())[conv_idx][1].data = torch.from_numpy(\n",
    "        kmeans_geo.cluster_centers_.reshape(\n",
    "                                            num_clusters, \n",
    "                                            patch_size[0], \n",
    "                                            patch_size[1],\n",
    "                                            num_ch,).transpose(0, 3, 1, 2)\n",
    "                                        )\n",
    "#     norm_param = (x - x.mean())/(x.std())\n",
    "#     model[curr_param_idx].weight.data = norm_param\n",
    "    \n",
    "    # save the model\n",
    "    torch.save(model.state_dict(), save_path)\n",
    "    print(f'Model saved at {save_path}')"
   ]
  },
  {
   "cell_type": "markdown",
   "metadata": {},
   "source": [
    "## Visualize the filters for the first layer"
   ]
  },
  {
   "cell_type": "code",
   "execution_count": 22,
   "metadata": {},
   "outputs": [
    {
     "name": "stdout",
     "output_type": "stream",
     "text": [
      "min: -1.528911828994751\n",
      "max: 1.6349693536758423\n",
      "mean: 9.731370376186987e-09\n",
      "std: 0.2368534505367279\n",
      "num_complex numbers: 0\n"
     ]
    }
   ],
   "source": [
    "def check_weights(weights_data):\n",
    "    print(f'min: {weights_data.min()}')\n",
    "    print(f'max: {weights_data.max()}')\n",
    "    print(f'mean: {weights_data.mean()}')\n",
    "    print(f'std: {weights_data.std()}')\n",
    "    print(f'num_complex numbers: {np.iscomplex(weights_data.numpy()).sum()}')\n",
    "check_weights(list(model.named_parameters())[0][1].data)"
   ]
  },
  {
   "cell_type": "code",
   "execution_count": 23,
   "metadata": {},
   "outputs": [
    {
     "data": {
      "image/png": "[encoded data removed]",
      "text/plain": [
       "<Figure size 1440x1440 with 1 Axes>"
      ]
     },
     "metadata": {
      "needs_background": "light"
     },
     "output_type": "display_data"
    }
   ],
   "source": [
    "visTensor(list(model.named_parameters())[0][1].data, ch=0, allkernels=False)\n",
    "plt.axis('off')\n",
    "plt.ioff()\n",
    "plt.rcParams['savefig.facecolor']='white'\n",
    "plt.savefig(f'conv1_resnet50_{mode}_color.png')\n",
    "plt.show()"
   ]
  },
  {
   "cell_type": "markdown",
   "metadata": {},
   "source": [
    "## Debug the shapes"
   ]
  },
  {
   "cell_type": "code",
   "execution_count": 18,
   "metadata": {},
   "outputs": [],
   "source": [
    "# model_path = \"/home/mila/s/sara.ebrahim-elkafrawy/scratch/ecosystem_project/ckpts/mosaiks_resnet50_no_whiten_minibatch.pt\"\n",
    "# model.load_state_dict(torch.load(model_path))"
   ]
  },
  {
   "cell_type": "code",
   "execution_count": 19,
   "metadata": {},
   "outputs": [],
   "source": [
    "# def check_weights(weights_data):\n",
    "#     print(f'min: {weights_data.min()}')\n",
    "#     print(f'max: {weights_data.max()}')\n",
    "#     print(f'mean: {weights_data.mean()}')\n",
    "#     print(f'std: {weights_data.std()}')\n",
    "#     print(f'num_complex numbers: {np.iscomplex(weights_data.numpy()).sum()}')"
   ]
  },
  {
   "cell_type": "code",
   "execution_count": 20,
   "metadata": {},
   "outputs": [],
   "source": [
    "# check_weights(list(model.named_parameters())[0][1].data)"
   ]
  },
  {
   "cell_type": "code",
   "execution_count": 21,
   "metadata": {},
   "outputs": [],
   "source": [
    "# for layer_idx, conv_idx in enumerate(conv_lyrs):\n",
    "\n",
    "#     if layer_idx == len(conv_lyrs):\n",
    "#         break\n",
    "        \n",
    "#     print(f'for conv layer idx#{conv_idx}')\n",
    "    \n",
    "#     curr_param_sz = list(model.named_parameters())[conv_idx][1].data.shape\n",
    "    \n",
    "#     num_feats = curr_param_sz[0]\n",
    "#     num_ch = curr_param_sz[1]\n",
    "#     patch_size = (curr_param_sz[2], curr_param_sz[3])\n",
    "#     num_iters = max_iter   # The online learning part: cycle over the whole dataset 6 times\n",
    "#     max_patches = int(num_feats/4)\n",
    "\n",
    "#     print(f'num_feats:{num_feats}, num_ch:{num_ch}, patch_size:{patch_size}')\n",
    "#     print(f'curr_param_sz:{curr_param_sz}')\n",
    "\n",
    "#     geo_train_loader = DataLoader(\n",
    "#                     geo_train_dataset,\n",
    "#                     batch_size=batch_size,\n",
    "#                     num_workers=num_workers,\n",
    "#                     shuffle=True,\n",
    "#                     pin_memory=True,\n",
    "#                 )\n",
    "\n",
    "#     index = 0\n",
    "#     buffer = []\n",
    "\n",
    "#     patches, target, meta = next(iter(geo_train_loader))\n",
    "\n",
    "#     # this is trf_stand: means standardization with the GeoLife stats\n",
    "#     patches['rgb'] = trf(patches['rgb'])\n",
    "#     _ = model(patches['rgb'])\n",
    "\n",
    "#     if layer_idx == 0:\n",
    "#         curr_feats = patches['rgb'].numpy()\n",
    "#     else:\n",
    "#         print(f'activation output after conv_layer_#{conv_lyrs[layer_idx-1]}')\n",
    "#         curr_feats = features_dim[f'conv_layer_{conv_lyrs[layer_idx-1]}'].numpy()  \n",
    "\n",
    "\n",
    "\n",
    "#     print(f'curr_feats: {curr_feats.shape}')\n",
    "#     curr_feats = curr_feats.squeeze(0)\n",
    "#     curr_feats = curr_feats.transpose((1,2,0))\n",
    "\n",
    "#     # expects image shape of (width, height, n_channels)\n",
    "#     data = extract_patches_2d(curr_feats, \n",
    "#                               patch_size, \n",
    "#                               max_patches=max_patches,\n",
    "#                               random_state=random_state)\n",
    "#     data = np.reshape(data, (len(data), -1))\n",
    "#     buffer.append(data)\n",
    "#     index += 1\n",
    "\n",
    "#     tmp = np.random.random((num_feats, num_ch*patch_size[0]*patch_size[1]))\n",
    "\n",
    "#     # change the weights of the corresponding conv layer\n",
    "#     print(f'Updating parameter idx#{conv_idx} with size: {curr_param_sz}')\n",
    "#     tmp_tensor = torch.from_numpy(tmp.reshape(\n",
    "#                                         num_feats, \n",
    "#                                         patch_size[0], \n",
    "#                                         patch_size[1],\n",
    "#                                         num_ch,).transpose(0, 3, 1, 2))\n",
    "#     tmp_tensor = tmp_tensor.type(torch.FloatTensor)\n",
    "#     list(model.named_parameters())[conv_idx][1].data =  tmp_tensor\n",
    "\n",
    "\n"
   ]
  }
 ],
 "metadata": {
  "kernelspec": {
   "display_name": "ffcv2",
   "language": "python",
   "name": "ffcv2"
  },
  "language_info": {
   "codemirror_mode": {
    "name": "ipython",
    "version": 3
   },
   "file_extension": ".py",
   "mimetype": "text/x-python",
   "name": "python",
   "nbconvert_exporter": "python",
   "pygments_lexer": "ipython3",
   "version": "3.9.13"
  }
 },
 "nbformat": 4,
 "nbformat_minor": 4
}
