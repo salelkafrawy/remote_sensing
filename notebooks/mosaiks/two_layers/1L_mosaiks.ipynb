{
 "cells": [
  {
   "cell_type": "markdown",
   "metadata": {},
   "source": [
    "# One-layer MOSAIKS"
   ]
  },
  {
   "cell_type": "markdown",
   "metadata": {},
   "source": [
    "## Load utils"
   ]
  },
  {
   "cell_type": "code",
   "execution_count": 1,
   "metadata": {},
   "outputs": [
    {
     "name": "stderr",
     "output_type": "stream",
     "text": [
      "/home/mila/s/sara.ebrahim-elkafrawy/.conda/envs/ffcv2/lib/python3.9/site-packages/tqdm/auto.py:22: TqdmWarning: IProgress not found. Please update jupyter and ipywidgets. See https://ipywidgets.readthedocs.io/en/stable/user_install.html\n",
      "  from .autonotebook import tqdm as notebook_tqdm\n"
     ]
    }
   ],
   "source": [
    "import os\n",
    "from pathlib import Path\n",
    "import torch\n",
    "import torch.nn as nn\n",
    "import torch.nn.functional as F\n",
    "import matplotlib.pyplot as plt"
   ]
  },
  {
   "cell_type": "markdown",
   "metadata": {},
   "source": [
    "## Define the model: two-layer CNN"
   ]
  },
  {
   "cell_type": "code",
   "execution_count": 2,
   "metadata": {},
   "outputs": [],
   "source": [
    "# load the 2-layer mosaiks model\n",
    "# mosaiks+kmeans: \n",
    "# two_layer_mosaiks_kmeans_7_no_whiten_zcaBias_0.001_bias_True_filters_100\n",
    "# two_layer_mosaiks_kmeans_7_whiten_allGeo_bs32_25eachimage_zcaBias_0.001_bias_True_filters_100\n",
    "# original mosaiks:\n",
    "# two_layer_mosaiks_original_7_no_whiten_zcaBias_0.001_bias_True_filters_100\n",
    "# two_layer_mosaiks_original_7_whiten_zcaBias_0.001_bias_True_filters_100\n",
    "\n",
    "main_dir = \"/home/mila/s/sara.ebrahim-elkafrawy/scratch/ecosystem_project/ckpts/mosaiks\"\n",
    "model_name = \"two_layer_mosaiks_original_7_whiten_zcaBias_0.001_bias_True_filters_100.pt\" \n",
    "num_filters_lyrs = [100, 64] #[512, 128] \n",
    "num_final_feats = 5184  #10368 (for 512 features)\n",
    "conv_bias = True\n",
    "num_species = 17037\n",
    "# params to save the one-layer model\n",
    "model_type = \"one_layer_mosaiks_kmeans\"\n",
    "mode = \"whiten\"\n",
    "kernel_size = 7\n",
    "zca_bias = 0.001"
   ]
  },
  {
   "cell_type": "code",
   "execution_count": 3,
   "metadata": {},
   "outputs": [
    {
     "data": {
      "text/plain": [
       "<All keys matched successfully>"
      ]
     },
     "execution_count": 3,
     "metadata": {},
     "output_type": "execute_result"
    }
   ],
   "source": [
    "# first trial: num_filters = [100, 64] with convolution bias and pool size of 256\n",
    "# model = nn.Sequential(\n",
    "#       nn.Conv2d(in_channels=3, out_channels=num_filters[0], kernel_size=kernel_size, padding='same', bias=True),\n",
    "#       nn.LeakyReLU(),\n",
    "#       nn.MaxPool2d(2, stride=2),\n",
    "\n",
    "#       nn.Conv2d(in_channels=num_filters[0], out_channels=num_filters[1], kernel_size=kernel_size, padding='same', bias=True),\n",
    "#       nn.LeakyReLU(),\n",
    "#       nn.MaxPool2d(2, stride=2),\n",
    "    \n",
    "#       nn.AdaptiveAvgPool2d(9),\n",
    "    \n",
    "#       nn.Flatten(),\n",
    "#       nn.Dropout(0.5),\n",
    "#       nn.Linear(5184, 512), #50176\n",
    "#       nn.ReLU(),\n",
    "#       nn.Linear(512, num_species)\n",
    "#       ) \n",
    "\n",
    "# second trial: num_filters = [512, 128] without conv bias and pool size of 2 \n",
    "model = nn.Sequential(\n",
    "      nn.Conv2d(in_channels=3, out_channels=num_filters_lyrs[0], kernel_size=kernel_size, padding='same', bias=conv_bias),\n",
    "      nn.LeakyReLU(),\n",
    "      nn.MaxPool2d(2, stride=2),\n",
    "\n",
    "      nn.Conv2d(in_channels=num_filters_lyrs[0], out_channels=num_filters_lyrs[1], kernel_size=kernel_size, padding='same', bias=conv_bias),\n",
    "      nn.LeakyReLU(),\n",
    "      nn.MaxPool2d(2, stride=2),\n",
    "    \n",
    "      nn.AdaptiveAvgPool2d(9),\n",
    "    \n",
    "      nn.Flatten(),\n",
    "      nn.Dropout(0.5),\n",
    "      nn.Linear(num_final_feats, 512),\n",
    "      nn.ReLU(),\n",
    "      nn.Linear(512, num_species)\n",
    "      )\n",
    "\n",
    "model(torch.rand((1, 3, 224, 224))).shape\n",
    "model_path = os.path.join(main_dir, model_name)\n",
    "model.load_state_dict(torch.load(model_path))"
   ]
  },
  {
   "cell_type": "markdown",
   "metadata": {},
   "source": [
    "# Get the first conv layer"
   ]
  },
  {
   "cell_type": "code",
   "execution_count": 4,
   "metadata": {},
   "outputs": [],
   "source": [
    "pool_size = 2\n",
    "pool_stride= 2\n",
    "bias = 0.0\n",
    "adaptive_pool_sz = 5"
   ]
  },
  {
   "cell_type": "code",
   "execution_count": 5,
   "metadata": {},
   "outputs": [],
   "source": [
    "one_conv_layer = model[0]\n",
    "last_layer = nn.Linear(num_filters_lyrs[0] * adaptive_pool_sz * adaptive_pool_sz * 2, num_species)  "
   ]
  },
  {
   "cell_type": "code",
   "execution_count": 6,
   "metadata": {},
   "outputs": [],
   "source": [
    "# model_path = os.path.join(main_dir, 'one_layer_'+'_'.join(model_name.split('_')[2:]))\n",
    "# torch.save(one_conv_layer.state_dict(), model_path)\n",
    "# print(f'Model saved at {model_path}')"
   ]
  },
  {
   "cell_type": "code",
   "execution_count": 7,
   "metadata": {},
   "outputs": [
    {
     "name": "stdout",
     "output_type": "stream",
     "text": [
      "conv output shape: torch.Size([1, 100, 224, 224])\n"
     ]
    }
   ],
   "source": [
    "tmp_input =torch.rand((1, 3, 224, 224))\n",
    "conv_output = one_conv_layer(tmp_input)\n",
    "print(f'conv output shape: {conv_output.shape}')"
   ]
  },
  {
   "cell_type": "markdown",
   "metadata": {},
   "source": [
    "# Construct the whole one layer model"
   ]
  },
  {
   "cell_type": "code",
   "execution_count": 16,
   "metadata": {},
   "outputs": [],
   "source": [
    "def forward(x):\n",
    "    conv_output = one_conv_layer(x)\n",
    "\n",
    "    x_pos = F.avg_pool2d(\n",
    "        F.relu(conv_output - bias),\n",
    "        [pool_size, pool_size],\n",
    "        stride=[pool_stride, pool_stride],\n",
    "        ceil_mode=True,\n",
    "    )\n",
    "\n",
    "    x_neg = F.avg_pool2d(\n",
    "        F.relu((-1 * conv_output) - bias),\n",
    "        [pool_size, pool_size],\n",
    "        stride=[pool_stride, pool_stride],\n",
    "        ceil_mode=True,\n",
    "    )\n",
    "\n",
    "    avg_pool = nn.AdaptiveAvgPool2d(adaptive_pool_sz)\n",
    "    print(f'avg_pool: {avg_pool}')\n",
    "    x_pos, x_neg = avg_pool(x_pos), avg_pool(x_neg)\n",
    "    # cat_vec shape 1,200, 5, 5 (100 is # filters in 1st layer, 5 is adaptiveAvgPool size)     \n",
    "    cat_vec = torch.cat((x_pos, x_neg), dim=1)   \n",
    "    \n",
    "    cat_vec = cat_vec.view(cat_vec.size(0), -1)  # [1, 5000]\n",
    "    print(f'cat_vec: {cat_vec.shape}')\n",
    "    \n",
    "    print(f'last fc layer: {last_layer}')\n",
    "    final_output = last_layer(cat_vec)\n",
    "    print(f'final_outpus: {final_output.shape}')\n",
    "    return final_output"
   ]
  },
  {
   "cell_type": "code",
   "execution_count": 17,
   "metadata": {},
   "outputs": [
    {
     "name": "stdout",
     "output_type": "stream",
     "text": [
      "avg_pool: AdaptiveAvgPool2d(output_size=5)\n",
      "cat_vec: torch.Size([1, 5000])\n",
      "last fc layer: Linear(in_features=5000, out_features=17037, bias=True)\n",
      "final_outpus: torch.Size([1, 17037])\n",
      "final output shape: torch.Size([1, 100, 224, 224])\n"
     ]
    }
   ],
   "source": [
    "tmp_input =torch.rand((1, 3, 224, 224))\n",
    "final_output = forward(tmp_input)\n",
    "print(f'final output shape: {conv_output.shape}')"
   ]
  },
  {
   "cell_type": "markdown",
   "metadata": {},
   "source": [
    "# debug weights and activations"
   ]
  },
  {
   "cell_type": "code",
   "execution_count": 24,
   "metadata": {},
   "outputs": [],
   "source": [
    "one_conv_layer.weight.data /= 25"
   ]
  },
  {
   "cell_type": "code",
   "execution_count": 9,
   "metadata": {},
   "outputs": [],
   "source": [
    "def plot_histogram(feats_np, name, dim=1):\n",
    "    feats_np = feats_np.reshape(feats_np.shape[dim],-1)\n",
    "    plt.title(f'{name}')\n",
    "    plt.hist(feats_np)\n",
    "    plt.rcParams['savefig.facecolor']='white'\n",
    "    plt.savefig(f'../figures/{name}.png', dpi=150, bbox_inches='tight')\n",
    "    plt.show()\n",
    "# model = nn.Sequential(one_conv_layer, last_layer)"
   ]
  },
  {
   "cell_type": "code",
   "execution_count": 10,
   "metadata": {},
   "outputs": [],
   "source": [
    "import os\n",
    "import sys\n",
    "import inspect\n",
    "from torchvision import transforms\n",
    "CURR_DIR = os.path.dirname(os.path.abspath(inspect.getfile(inspect.currentframe())))\n",
    "PARENT_DIR = os.path.dirname(CURR_DIR)\n",
    "sys.path.insert(0, \"/home/mila/s/sara.ebrahim-elkafrawy/scratch/ecosystem_project/remote_sensing\")\n",
    "sys.path.insert(0, \"/home/mila/s/sara.ebrahim-elkafrawy/scratch/ecosystem_project/remote_sensing/notebooks/mosaiks/\")\n",
    "\n",
    "from dataset.pytorch_dataset import GeoLifeCLEF2022Dataset\n",
    "from torch.utils.data import random_split, DataLoader"
   ]
  },
  {
   "cell_type": "code",
   "execution_count": 11,
   "metadata": {},
   "outputs": [],
   "source": [
    "data_dir =\"/network/scratch/s/sara.ebrahim-elkafrawy/small_geo_data\" #\"/network/scratch/s/sara.ebrahim-elkafrawy/\" #   # \n",
    "split = \"train\"\n",
    "use_ffcv_loader = False\n",
    "num_species= 17037\n",
    "bands = [\"rgb\"] \n",
    "batch_size = 1\n",
    "num_workers = 0"
   ]
  },
  {
   "cell_type": "code",
   "execution_count": 12,
   "metadata": {},
   "outputs": [],
   "source": [
    "geo_train_dataset = GeoLifeCLEF2022Dataset(\n",
    "                root=data_dir,\n",
    "                subset=split,\n",
    "                use_ffcv_loader=use_ffcv_loader,\n",
    "                region=\"both\",\n",
    "                patch_data=bands,\n",
    "                use_rasters=False,\n",
    "                patch_extractor=None,\n",
    "                transform=None,\n",
    "                target_transform=None,\n",
    "                opts=None,\n",
    "            )\n",
    "\n",
    "geo_train_loader = DataLoader(\n",
    "                    geo_train_dataset,\n",
    "                    batch_size=batch_size,\n",
    "                    num_workers=num_workers,\n",
    "                    shuffle=True,\n",
    "                )\n",
    "trf = torch.nn.Sequential(\n",
    "    transforms.Resize(size=(224, 224), interpolation=transforms.InterpolationMode.NEAREST),\n",
    "    transforms.Normalize((106.9413, 114.8733, 104.5285), (51.0005, 44.8595, 43.2014)),\n",
    ")"
   ]
  },
  {
   "cell_type": "code",
   "execution_count": 13,
   "metadata": {},
   "outputs": [
    {
     "data": {
      "image/png": "[encoded data removed]",
      "text/plain": [
       "<Figure size 432x288 with 1 Axes>"
      ]
     },
     "metadata": {
      "needs_background": "light"
     },
     "output_type": "display_data"
    }
   ],
   "source": [
    "model_type = 'original_mosaiks'\n",
    "for batch in geo_train_loader:\n",
    "    patches, target, meta = batch\n",
    "    patches['rgb'] = trf(patches['rgb'])\n",
    "    final_output = forward(patches['rgb'])\n",
    "    \n",
    "#     relu_1_output = features_dim[f'relu_layer_1'].numpy()\n",
    "#     plot_histogram(relu_1_output, f'histogram of l-relu#1 in {model_type} 2-layer CNN')    \n",
    "    \n",
    "#     relu_4_output = features_dim[f'relu_layer_4'].numpy()\n",
    "#     plot_histogram(relu_4_output, f'histogram of l-relu#4 in {model_type} 2-layer CNN')  \n",
    "    \n",
    "    feats_np = final_output.data.numpy()\n",
    "    plot_histogram(feats_np, f'histogram of final layer in {model_type} 1-layer CNN')\n",
    "    \n",
    "    break"
   ]
  },
  {
   "cell_type": "code",
   "execution_count": null,
   "metadata": {},
   "outputs": [],
   "source": []
  }
 ],
 "metadata": {
  "kernelspec": {
   "display_name": "ffcv2",
   "language": "python",
   "name": "ffcv2"
  },
  "language_info": {
   "codemirror_mode": {
    "name": "ipython",
    "version": 3
   },
   "file_extension": ".py",
   "mimetype": "text/x-python",
   "name": "python",
   "nbconvert_exporter": "python",
   "pygments_lexer": "ipython3",
   "version": "3.9.13"
  }
 },
 "nbformat": 4,
 "nbformat_minor": 4
}
