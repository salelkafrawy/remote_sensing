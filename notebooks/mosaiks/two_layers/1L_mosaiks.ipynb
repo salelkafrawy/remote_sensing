{
 "cells": [
  {
   "cell_type": "markdown",
   "metadata": {},
   "source": [
    "# One-layer MOSAIKS"
   ]
  },
  {
   "cell_type": "markdown",
   "metadata": {},
   "source": [
    "## Load utils"
   ]
  },
  {
   "cell_type": "code",
   "execution_count": 1,
   "metadata": {},
   "outputs": [
    {
     "name": "stderr",
     "output_type": "stream",
     "text": [
      "/home/mila/s/sara.ebrahim-elkafrawy/.conda/envs/ffcv2/lib/python3.9/site-packages/tqdm/auto.py:22: TqdmWarning: IProgress not found. Please update jupyter and ipywidgets. See https://ipywidgets.readthedocs.io/en/stable/user_install.html\n",
      "  from .autonotebook import tqdm as notebook_tqdm\n"
     ]
    }
   ],
   "source": [
    "import os\n",
    "from pathlib import Path\n",
    "import torch\n",
    "import torch.nn as nn\n",
    "import torch.nn.functional as F"
   ]
  },
  {
   "cell_type": "markdown",
   "metadata": {},
   "source": [
    "## Define the model: two-layer CNN"
   ]
  },
  {
   "cell_type": "code",
   "execution_count": 12,
   "metadata": {},
   "outputs": [],
   "source": [
    "# load the 2-layer mosaiks model\n",
    "# mosaiks+kmeans: \n",
    "# two_layer_mosaiks_kmeans_7_no_whiten_zcaBias_0.001_bias_True_filters_100\n",
    "# two_layer_mosaiks_kmeans_7_whiten_allGeo_bs32_25eachimage_zcaBias_0.001_bias_True_filters_100\n",
    "# original mosaiks:\n",
    "# two_layer_mosaiks_original_7_no_whiten_zcaBias_0.001_bias_True_filters_100\n",
    "# two_layer_mosaiks_original_7_whiten_zcaBias_0.001_bias_True_filters_100\n",
    "\n",
    "main_dir = \"/home/mila/s/sara.ebrahim-elkafrawy/scratch/ecosystem_project/ckpts\"\n",
    "model_name = \"two_layer_mosaiks_original_7_whiten_zcaBias_0.001_bias_True_filters_100.pt\" \n",
    "num_filters_lyrs = [100, 64] #[512, 128] \n",
    "num_final_feats = 5184  #10368 (for 512 features)\n",
    "conv_bias = True\n",
    "num_species = 17037\n",
    "# params to save the one-layer model\n",
    "model_type = \"one_layer_mosaiks_kmeans\"\n",
    "mode = \"whiten\"\n",
    "kernel_size = 7\n",
    "zca_bias = 0.001"
   ]
  },
  {
   "cell_type": "code",
   "execution_count": 13,
   "metadata": {},
   "outputs": [
    {
     "data": {
      "text/plain": [
       "<All keys matched successfully>"
      ]
     },
     "execution_count": 13,
     "metadata": {},
     "output_type": "execute_result"
    }
   ],
   "source": [
    "# first trial: num_filters = [100, 64] with convolution bias and pool size of 256\n",
    "# model = nn.Sequential(\n",
    "#       nn.Conv2d(in_channels=3, out_channels=num_filters[0], kernel_size=kernel_size, padding='same', bias=True),\n",
    "#       nn.LeakyReLU(),\n",
    "#       nn.MaxPool2d(2, stride=2),\n",
    "\n",
    "#       nn.Conv2d(in_channels=num_filters[0], out_channels=num_filters[1], kernel_size=kernel_size, padding='same', bias=True),\n",
    "#       nn.LeakyReLU(),\n",
    "#       nn.MaxPool2d(2, stride=2),\n",
    "    \n",
    "#       nn.AdaptiveAvgPool2d(9),\n",
    "    \n",
    "#       nn.Flatten(),\n",
    "#       nn.Dropout(0.5),\n",
    "#       nn.Linear(5184, 512), #50176\n",
    "#       nn.ReLU(),\n",
    "#       nn.Linear(512, num_species)\n",
    "#       ) \n",
    "\n",
    "# second trial: num_filters = [512, 128] without conv bias and pool size of 2 \n",
    "model = nn.Sequential(\n",
    "      nn.Conv2d(in_channels=3, out_channels=num_filters_lyrs[0], kernel_size=kernel_size, padding='same', bias=conv_bias),\n",
    "      nn.LeakyReLU(),\n",
    "      nn.MaxPool2d(2, stride=2),\n",
    "\n",
    "      nn.Conv2d(in_channels=num_filters_lyrs[0], out_channels=num_filters_lyrs[1], kernel_size=kernel_size, padding='same', bias=conv_bias),\n",
    "      nn.LeakyReLU(),\n",
    "      nn.MaxPool2d(2, stride=2),\n",
    "    \n",
    "      nn.AdaptiveAvgPool2d(9),\n",
    "    \n",
    "      nn.Flatten(),\n",
    "      nn.Dropout(0.5),\n",
    "      nn.Linear(num_final_feats, 512),\n",
    "      nn.ReLU(),\n",
    "      nn.Linear(512, num_species)\n",
    "      )\n",
    "\n",
    "model(torch.rand((1, 3, 224, 224))).shape\n",
    "model_path = os.path.join(main_dir, model_name)\n",
    "model.load_state_dict(torch.load(model_path))"
   ]
  },
  {
   "cell_type": "markdown",
   "metadata": {},
   "source": [
    "# Get the first conv layer"
   ]
  },
  {
   "cell_type": "code",
   "execution_count": 17,
   "metadata": {},
   "outputs": [],
   "source": [
    "one_conv_layer = model[0]\n",
    "one_conv_layer.weight.requires_grad = False"
   ]
  },
  {
   "cell_type": "code",
   "execution_count": 18,
   "metadata": {},
   "outputs": [
    {
     "data": {
      "text/plain": [
       "torch.nn.modules.conv.Conv2d"
      ]
     },
     "execution_count": 18,
     "metadata": {},
     "output_type": "execute_result"
    }
   ],
   "source": [
    "type(one_conv_layer)"
   ]
  },
  {
   "cell_type": "code",
   "execution_count": 19,
   "metadata": {},
   "outputs": [
    {
     "name": "stdout",
     "output_type": "stream",
     "text": [
      "False\n",
      "True\n"
     ]
    }
   ],
   "source": [
    "for param in one_conv_layer.parameters():\n",
    "    print(param.requires_grad)"
   ]
  },
  {
   "cell_type": "code",
   "execution_count": null,
   "metadata": {},
   "outputs": [],
   "source": []
  },
  {
   "cell_type": "code",
   "execution_count": 6,
   "metadata": {},
   "outputs": [
    {
     "name": "stdout",
     "output_type": "stream",
     "text": [
      "Model saved at /home/mila/s/sara.ebrahim-elkafrawy/scratch/ecosystem_project/ckpts/one_layer_mosaiks_original_7_whiten_zcaBias_0.001_bias_False_filters_512.pt\n"
     ]
    }
   ],
   "source": [
    "# model_path = os.path.join(main_dir, 'one_layer_'+'_'.join(model_name.split('_')[2:]))\n",
    "# torch.save(one_conv_layer.state_dict(), model_path)\n",
    "# print(f'Model saved at {model_path}')"
   ]
  },
  {
   "cell_type": "markdown",
   "metadata": {},
   "source": [
    "# Construct the whole one layer model"
   ]
  },
  {
   "cell_type": "code",
   "execution_count": 7,
   "metadata": {},
   "outputs": [],
   "source": [
    "pool_size = 2\n",
    "pool_stride= 2\n",
    "bias = 0.0\n",
    "adaptive_pool_sz = 5"
   ]
  },
  {
   "cell_type": "code",
   "execution_count": 8,
   "metadata": {},
   "outputs": [],
   "source": [
    "tmp_input =torch.rand((1, 3, 224, 224))"
   ]
  },
  {
   "cell_type": "code",
   "execution_count": 14,
   "metadata": {},
   "outputs": [],
   "source": [
    "last_layer = nn.Linear(num_filters_lyrs[0] * adaptive_pool_sz * adaptive_pool_sz * 2, num_species)  \n",
    "model = nn.Sequential(one_conv_layer, last_layer)"
   ]
  },
  {
   "cell_type": "code",
   "execution_count": 10,
   "metadata": {},
   "outputs": [
    {
     "name": "stdout",
     "output_type": "stream",
     "text": [
      "conv output shape: torch.Size([1, 100, 224, 224])\n"
     ]
    }
   ],
   "source": [
    "conv_output = one_conv_layer(tmp_input)\n",
    "\n",
    "print(f'conv output shape: {conv_output.shape}')"
   ]
  },
  {
   "cell_type": "code",
   "execution_count": 11,
   "metadata": {},
   "outputs": [
    {
     "name": "stdout",
     "output_type": "stream",
     "text": [
      "x_pos shape: torch.Size([1, 100, 112, 112])\n"
     ]
    }
   ],
   "source": [
    "x_pos = F.avg_pool2d(\n",
    "    F.relu(conv_output - bias),\n",
    "    [pool_size, pool_size],\n",
    "    stride=[pool_stride, pool_stride],\n",
    "    ceil_mode=True,\n",
    ")\n",
    "\n",
    "print(f'x_pos shape: {x_pos.shape}')"
   ]
  },
  {
   "cell_type": "code",
   "execution_count": 12,
   "metadata": {},
   "outputs": [],
   "source": [
    "x_neg = F.avg_pool2d(\n",
    "    F.relu((-1 * conv_output) - bias),\n",
    "    [pool_size, pool_size],\n",
    "    stride=[pool_stride, pool_stride],\n",
    "    ceil_mode=True,\n",
    ")\n"
   ]
  },
  {
   "cell_type": "code",
   "execution_count": 13,
   "metadata": {},
   "outputs": [
    {
     "name": "stdout",
     "output_type": "stream",
     "text": [
      "torch.Size([1, 100, 5, 5]) torch.Size([1, 100, 5, 5])\n"
     ]
    }
   ],
   "source": [
    "avg_pool = nn.AdaptiveAvgPool2d(adaptive_pool_sz)\n",
    "x_pos, x_neg = avg_pool(x_pos), avg_pool(x_neg)\n",
    "print(x_pos.shape, x_neg.shape)"
   ]
  },
  {
   "cell_type": "code",
   "execution_count": 14,
   "metadata": {},
   "outputs": [
    {
     "name": "stdout",
     "output_type": "stream",
     "text": [
      "concatenated vector: torch.Size([1, 200, 5, 5])\n"
     ]
    }
   ],
   "source": [
    "cat_vec = torch.cat((x_pos, x_neg), dim=1)\n",
    "print(f\"concatenated vector: {cat_vec.shape}\")"
   ]
  },
  {
   "cell_type": "code",
   "execution_count": 15,
   "metadata": {},
   "outputs": [
    {
     "name": "stdout",
     "output_type": "stream",
     "text": [
      "after reshape: torch.Size([1, 5000])\n"
     ]
    }
   ],
   "source": [
    "cat_vec = cat_vec.view(cat_vec.size(0), -1)\n",
    "print(f\"after reshape: {cat_vec.shape}\")"
   ]
  },
  {
   "cell_type": "code",
   "execution_count": 18,
   "metadata": {},
   "outputs": [],
   "source": [
    "final_output = last_layer(cat_vec)"
   ]
  },
  {
   "cell_type": "code",
   "execution_count": 19,
   "metadata": {},
   "outputs": [
    {
     "data": {
      "text/plain": [
       "torch.Size([1, 17037])"
      ]
     },
     "execution_count": 19,
     "metadata": {},
     "output_type": "execute_result"
    }
   ],
   "source": [
    "final_output.shape"
   ]
  },
  {
   "cell_type": "code",
   "execution_count": null,
   "metadata": {},
   "outputs": [],
   "source": []
  }
 ],
 "metadata": {
  "kernelspec": {
   "display_name": "ffcv2",
   "language": "python",
   "name": "ffcv2"
  },
  "language_info": {
   "codemirror_mode": {
    "name": "ipython",
    "version": 3
   },
   "file_extension": ".py",
   "mimetype": "text/x-python",
   "name": "python",
   "nbconvert_exporter": "python",
   "pygments_lexer": "ipython3",
   "version": "3.9.13"
  }
 },
 "nbformat": 4,
 "nbformat_minor": 4
}
