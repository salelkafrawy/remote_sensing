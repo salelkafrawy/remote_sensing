{
 "cells": [
  {
   "cell_type": "markdown",
   "metadata": {},
   "source": [
    "# Two-layer original MOSAIKS"
   ]
  },
  {
   "cell_type": "markdown",
   "metadata": {},
   "source": [
    "## Load utils"
   ]
  },
  {
   "cell_type": "code",
   "execution_count": 1,
   "metadata": {},
   "outputs": [
    {
     "name": "stderr",
     "output_type": "stream",
     "text": [
      "/home/mila/s/sara.ebrahim-elkafrawy/.conda/envs/ffcv2/lib/python3.9/site-packages/tqdm/auto.py:22: TqdmWarning: IProgress not found. Please update jupyter and ipywidgets. See https://ipywidgets.readthedocs.io/en/stable/user_install.html\n",
      "  from .autonotebook import tqdm as notebook_tqdm\n"
     ]
    }
   ],
   "source": [
    "import os\n",
    "import sys\n",
    "import time\n",
    "import inspect\n",
    "import math\n",
    "import random\n",
    "import numpy as np\n",
    "import pandas as pd\n",
    "from pathlib import Path\n",
    "import matplotlib.pyplot as plt\n",
    "from sklearn.feature_extraction.image import extract_patches_2d\n",
    "import torch\n",
    "import torch.nn as nn\n",
    "import torch.nn.functional as F\n",
    "from torchvision import transforms\n",
    "import timm\n",
    "\n",
    "# from sklearn.cluster import KMeans\n",
    "\n",
    "\n",
    "CURR_DIR = os.path.dirname(os.path.abspath(inspect.getfile(inspect.currentframe())))\n",
    "PARENT_DIR = os.path.dirname(CURR_DIR)\n",
    "sys.path.insert(0, \"/home/mila/s/sara.ebrahim-elkafrawy/scratch/ecosystem_project/remote_sensing\")\n",
    "sys.path.insert(0, \"/home/mila/s/sara.ebrahim-elkafrawy/scratch/ecosystem_project/remote_sensing/notebooks/mosaiks/\")\n",
    "\n",
    "from dataset.pytorch_dataset import GeoLifeCLEF2022Dataset\n",
    "from torch.utils.data import random_split, DataLoader\n",
    "from mosaiks_utils import visualize_3d_patches, visTensor, normalize_patches"
   ]
  },
  {
   "cell_type": "markdown",
   "metadata": {},
   "source": [
    "## Load GeoLifeCLEF dataset"
   ]
  },
  {
   "cell_type": "code",
   "execution_count": 2,
   "metadata": {},
   "outputs": [],
   "source": [
    "data_dir =\"/network/scratch/s/sara.ebrahim-elkafrawy/small_geo_data\" #\"/network/scratch/s/sara.ebrahim-elkafrawy/\" #   # \n",
    "split = \"train\"\n",
    "use_ffcv_loader = False\n",
    "num_species= 17037\n",
    "bands = [\"rgb\"] \n",
    "batch_size = 1\n",
    "num_workers = 0"
   ]
  },
  {
   "cell_type": "code",
   "execution_count": 3,
   "metadata": {},
   "outputs": [],
   "source": [
    "geo_train_dataset = GeoLifeCLEF2022Dataset(\n",
    "                root=data_dir,\n",
    "                subset=split,\n",
    "                use_ffcv_loader=use_ffcv_loader,\n",
    "                region=\"both\",\n",
    "                patch_data=bands,\n",
    "                use_rasters=False,\n",
    "                patch_extractor=None,\n",
    "                transform=None,\n",
    "                target_transform=None,\n",
    "                opts=None,\n",
    "            )\n",
    "\n",
    "geo_train_loader = DataLoader(\n",
    "                    geo_train_dataset,\n",
    "                    batch_size=batch_size,\n",
    "                    num_workers=num_workers,\n",
    "                    shuffle=True,\n",
    "                )\n",
    "trf = torch.nn.Sequential(\n",
    "    transforms.Resize(size=(224, 224), interpolation=transforms.InterpolationMode.NEAREST),\n",
    "    transforms.Normalize((106.9413, 114.8733, 104.5285), (51.0005, 44.8595, 43.2014)),\n",
    ")"
   ]
  },
  {
   "cell_type": "markdown",
   "metadata": {},
   "source": [
    "## Define the model: two-layer CNN"
   ]
  },
  {
   "cell_type": "code",
   "execution_count": 4,
   "metadata": {},
   "outputs": [],
   "source": [
    "# hyperparameters for the model\n",
    "kernel_size = 7\n",
    "model_type = 'two_layer_mosaiks_original'\n",
    "mode = 'whiten' # options ['whiten', 'no_whiten']\n",
    "num_filters_lyrs = [256, 64] # [512, 128] \n",
    "adaptive_pool_sz = 9\n",
    "num_final_feats= 5184 #10368  # for the first trial: 5184\n",
    "whiten = True\n",
    "zca_bias = 0.001\n",
    "conv_bias = True\n",
    "save_path = f\"/home/mila/s/sara.ebrahim-elkafrawy/scratch/ecosystem_project/ckpts/\"\n",
    "model_name = f\"{model_type}_{kernel_size}_{mode}_filters_{num_filters_lyrs[0]}_adapsz_{adaptive_pool_sz}\"\n",
    "max_iter = 100\n",
    "random_state = np.random.RandomState(0)"
   ]
  },
  {
   "cell_type": "code",
   "execution_count": 5,
   "metadata": {},
   "outputs": [
    {
     "data": {
      "text/plain": [
       "torch.Size([1, 17037])"
      ]
     },
     "execution_count": 5,
     "metadata": {},
     "output_type": "execute_result"
    }
   ],
   "source": [
    "model = nn.Sequential(\n",
    "         nn.Conv2d(in_channels=3, out_channels=num_filters_lyrs[0], kernel_size=kernel_size, padding='same', bias=conv_bias),\n",
    "      nn.LeakyReLU(),\n",
    "      nn.MaxPool2d(2, stride=2),\n",
    "\n",
    "      nn.Conv2d(in_channels=num_filters_lyrs[0], out_channels=num_filters_lyrs[1], kernel_size=kernel_size, padding='same', bias=conv_bias),\n",
    "      nn.LeakyReLU(),\n",
    "      nn.MaxPool2d(2, stride=2),\n",
    "    \n",
    "      nn.AdaptiveAvgPool2d(adaptive_pool_sz),\n",
    "    \n",
    "      nn.Flatten(),\n",
    "      nn.Dropout(0.5),\n",
    "      nn.Linear(num_final_feats, 512), #5184\n",
    "      nn.ReLU(),\n",
    "      nn.Linear(512, num_species)\n",
    "      ) \n",
    "model(torch.rand((1, 3, 224, 224))).shape"
   ]
  },
  {
   "cell_type": "code",
   "execution_count": 6,
   "metadata": {},
   "outputs": [
    {
     "data": {
      "text/plain": [
       "<All keys matched successfully>"
      ]
     },
     "execution_count": 6,
     "metadata": {},
     "output_type": "execute_result"
    }
   ],
   "source": [
    "# # for mosaiks original whiten model\n",
    "# model_name = \"two_layer_mosaiks_original_7_whiten_allGeo_bs32_25eachimage_zcaBias_0.001_bias_True_filters_100_normalized\"\n",
    "# model_path = os.path.join(save_path, model_name+\".pt\")\n",
    "# model.load_state_dict(torch.load(model_path))"
   ]
  },
  {
   "cell_type": "code",
   "execution_count": 7,
   "metadata": {},
   "outputs": [],
   "source": [
    "# print(model_name)\n",
    "# model_path = os.path.join(save_path, model_name+'.pt')\n",
    "# model.load_state_dict(torch.load(model_path))"
   ]
  },
  {
   "cell_type": "markdown",
   "metadata": {},
   "source": [
    "## slicing up the network"
   ]
  },
  {
   "cell_type": "code",
   "execution_count": 7,
   "metadata": {},
   "outputs": [
    {
     "data": {
      "text/plain": [
       "Sequential(\n",
       "  (0): Conv2d(3, 100, kernel_size=(7, 7), stride=(1, 1), padding=same)\n",
       "  (1): LeakyReLU(negative_slope=0.01)\n",
       "  (2): MaxPool2d(kernel_size=2, stride=2, padding=0, dilation=1, ceil_mode=False)\n",
       "  (3): Conv2d(100, 64, kernel_size=(7, 7), stride=(1, 1), padding=same)\n",
       "  (4): LeakyReLU(negative_slope=0.01)\n",
       "  (5): MaxPool2d(kernel_size=2, stride=2, padding=0, dilation=1, ceil_mode=False)\n",
       "  (6): AdaptiveAvgPool2d(output_size=9)\n",
       "  (7): Flatten(start_dim=1, end_dim=-1)\n",
       "  (8): Dropout(p=0.5, inplace=False)\n",
       "  (9): Linear(in_features=5184, out_features=512, bias=True)\n",
       "  (10): ReLU()\n",
       "  (11): Linear(in_features=512, out_features=17037, bias=True)\n",
       ")"
      ]
     },
     "execution_count": 7,
     "metadata": {},
     "output_type": "execute_result"
    }
   ],
   "source": [
    "model"
   ]
  },
  {
   "cell_type": "markdown",
   "metadata": {},
   "source": [
    "## Manually set the indices of all convolution layers and the afterwards activation layers"
   ]
  },
  {
   "cell_type": "code",
   "execution_count": 7,
   "metadata": {},
   "outputs": [],
   "source": [
    "# for 2-conv layers\n",
    "conv_lyrs = [0, 3]\n",
    "act_lyrs = [1, 4]\n",
    "\n",
    "# for 4-conv layers\n",
    "# conv_lyrs = [0, 2, 4, 6]\n",
    "# act_lyrs = [1, 4, 7, 10]"
   ]
  },
  {
   "cell_type": "code",
   "execution_count": 8,
   "metadata": {},
   "outputs": [
    {
     "name": "stdout",
     "output_type": "stream",
     "text": [
      "0.weight ---------------\t torch.Size([100, 3, 7, 7])\n",
      "0.bias ---------------\t torch.Size([100])\n",
      "3.weight ---------------\t torch.Size([64, 100, 7, 7])\n",
      "3.bias ---------------\t torch.Size([64])\n",
      "9.weight ---------------\t torch.Size([512, 5184])\n",
      "9.bias ---------------\t torch.Size([512])\n",
      "11.weight ---------------\t torch.Size([17037, 512])\n",
      "11.bias ---------------\t torch.Size([17037])\n"
     ]
    }
   ],
   "source": [
    "for name, param in model.named_parameters():\n",
    "    print(name, '---------------\\t', param.shape)"
   ]
  },
  {
   "cell_type": "markdown",
   "metadata": {},
   "source": [
    "## Hooks for activation layers"
   ]
  },
  {
   "cell_type": "code",
   "execution_count": 7,
   "metadata": {},
   "outputs": [],
   "source": [
    "features_dim = {}\n",
    "def get_features(name):\n",
    "    def hook(model, input, output):\n",
    "        features_dim[name] = output.detach()\n",
    "    return hook"
   ]
  },
  {
   "cell_type": "code",
   "execution_count": 8,
   "metadata": {},
   "outputs": [
    {
     "data": {
      "text/plain": [
       "<torch.utils.hooks.RemovableHandle at 0x7f4d90697df0>"
      ]
     },
     "execution_count": 8,
     "metadata": {},
     "output_type": "execute_result"
    }
   ],
   "source": [
    "# for 2-conv layers\n",
    "model[1].register_forward_hook(get_features('relu_layer_1'))\n",
    "model[4].register_forward_hook(get_features('relu_layer_4'))\n",
    "\n",
    "\n",
    "# for 4-conv layers (without nn.AdaptivePool layer)\n",
    "# model[1].register_forward_hook(get_features('relu_layer_1'))\n",
    "# model[4].register_forward_hook(get_features('relu_layer_4'))\n",
    "# model[7].register_forward_hook(get_features('relu_layer_7'))\n",
    "# model[10].register_forward_hook(get_features('relu_layer_10'))"
   ]
  },
  {
   "cell_type": "code",
   "execution_count": 13,
   "metadata": {},
   "outputs": [],
   "source": [
    "def get_featuremap_patches(train_dataloader, layer_idx, patch_size, max_patches, random_state):\n",
    "    '''expects image shape of (width, height, n_channels)\n",
    "    \n",
    "    Parameters\n",
    "    ----------\n",
    "    train_dataloader: Dataset\n",
    "                   dataloader for the training dataset to extract from\n",
    "    \n",
    "    layer_idx: int\n",
    "               The index of the current feature map. \n",
    "               conv_lyrs[layer_idx] should return the real index of the current weights/parameter \n",
    "               \n",
    "    patch_size: (int, int)\n",
    "                Receptive field size or width and height of the extracted patch.\n",
    "                \n",
    "    max_patches: int\n",
    "                 The number of extracted patches.\n",
    "    \n",
    "    random_state: int\n",
    "                  Random state for reproducibility \n",
    "    Return\n",
    "    ------\n",
    "    patches: ndarrah\n",
    "             final patches of size (max_patches, patch_size, n_channels)\n",
    "    '''\n",
    "    all_patches = []\n",
    "    \n",
    "    \n",
    "    for batch in train_dataloader:\n",
    "        patches, target, meta = batch\n",
    "        patches['rgb'] = trf(patches['rgb'])\n",
    "        \n",
    "        if layer_idx == 0:\n",
    "            curr_feat_map = patches['rgb'].numpy()\n",
    "        else:\n",
    "            output = model(patches['rgb'])\n",
    "            curr_feat_map = features_dim[f'relu_layer_{act_lyrs[layer_idx-1]}'].numpy()\n",
    "\n",
    "        if batch_size > 1:\n",
    "            # grab one image from the batch\n",
    "            img_idx = random.randint(0, batch_size-1)\n",
    "            if img_idx >= curr_feat_map.shape[0]:\n",
    "                img_idx = 0\n",
    "            curr_feat_map = curr_feat_map[img_idx].transpose((1,2,0))\n",
    "        else:\n",
    "            curr_feat_map = curr_feat_map.squeeze(0)\n",
    "            curr_feat_map = curr_feat_map.transpose((1,2,0))\n",
    "\n",
    "        # curr_feat_map: expected shape: (width, height, n_channels)\n",
    "        # output shape: (max_patches, patch_size, n_channels)\n",
    "        random_patches =  extract_patches_2d(curr_feat_map, \n",
    "                                 patch_size, \n",
    "                                 max_patches=max_patches,\n",
    "                                 random_state=random_state)\n",
    "\n",
    "        random_patches = np.reshape(random_patches, (len(random_patches), -1))\n",
    "\n",
    "        all_patches.append(random_patches)\n",
    "    \n",
    "    return np.concatenate(all_patches, axis=0)"
   ]
  },
  {
   "cell_type": "markdown",
   "metadata": {},
   "source": [
    "## Apply the K-Means to two conv layers"
   ]
  },
  {
   "cell_type": "code",
   "execution_count": 14,
   "metadata": {},
   "outputs": [
    {
     "name": "stdout",
     "output_type": "stream",
     "text": [
      "for conv layer#0\n",
      "kmeans for output of relu act layer#1\n",
      "number of random patches from each image: 512\n",
      "num of patches: 1026048\n",
      "zca bias 0.001\n",
      "whiten_patches [min],[max],[mean],[std]: -4.539, 3.231, 0.000, 0.554\n",
      "Updating parameter#0 with size: torch.Size([512, 3, 7, 7])\n",
      "Model saved at /home/mila/s/sara.ebrahim-elkafrawy/scratch/ecosystem_project/ckpts/two_layer_mosaiks_original_7_whiten_zcaBias_0.001_bias_False_filters_512.pt\n",
      "for conv layer#3\n",
      "kmeans for output of relu act layer#4\n",
      "number of random patches from each image: 32\n"
     ]
    },
    {
     "name": "stderr",
     "output_type": "stream",
     "text": [
      "\n",
      "KeyboardInterrupt\n",
      "\n"
     ]
    }
   ],
   "source": [
    "for layer_idx, relu_idx in enumerate(act_lyrs):\n",
    "    if layer_idx == len(conv_lyrs):\n",
    "        break\n",
    "        \n",
    "    print(f'for conv layer#{conv_lyrs[layer_idx]}')\n",
    "    print(f'kmeans for output of relu act layer#{relu_idx}')   \n",
    "    \n",
    "    curr_param_idx = conv_lyrs[layer_idx]\n",
    "    curr_param_sz = model[curr_param_idx].weight.data.shape\n",
    "    num_clusters = curr_param_sz[0]  # number of output filters/kernels in a layer\n",
    "    num_ch = curr_param_sz[1]    # number of channels\n",
    "    patch_size = (curr_param_sz[2], curr_param_sz[3])  # filter/kernel's width and height\n",
    "    \n",
    "    if layer_idx == 0:\n",
    "        max_patches = num_clusters\n",
    "    else: \n",
    "        max_patches = int(num_clusters/4) #int(125000/len(geo_train_loader))   # number of random patches to extract from each image/feature map\n",
    "    \n",
    "    print(f'number of random patches from each image: {max_patches}')\n",
    "    # Step#1: extract random patches  shape:(32064, 147)\n",
    "    featmap_patches = get_featuremap_patches(geo_train_loader,\n",
    "                                           layer_idx=layer_idx,\n",
    "                                             patch_size=patch_size,\n",
    "                                             max_patches=max_patches,\n",
    "                                             random_state=random_state)\n",
    "    \n",
    "    print(f'num of patches: {len(featmap_patches)}')\n",
    "    \n",
    "    # Step#2: pick random patches\n",
    "    featmap_patches = featmap_patches[np.random.randint(low=0, high=num_filters_lyrs[layer_idx], size=num_filters_lyrs[layer_idx])]\n",
    "    \n",
    "    # Step#3: normalize and whiten the patches\n",
    "    whiten_patches, means, zca_mat = normalize_patches(featmap_patches, zca_bias=zca_bias, whiten=whiten)\n",
    "    print(f'whiten_patches [min],[max],[mean],[std]: {whiten_patches.min():.3f}, {whiten_patches.max():.3f}, {whiten_patches.mean():.3f}, {whiten_patches.std():.3f}')\n",
    "\n",
    "    # update the weights of the corresponding conv layer\n",
    "    print(f'Updating parameter#{curr_param_idx} with size: {curr_param_sz}')\n",
    "    model[curr_param_idx].weight.data = torch.from_numpy(whiten_patches.reshape(\n",
    "                                            num_clusters, \n",
    "                                            patch_size[0], \n",
    "                                            patch_size[1],\n",
    "                                            num_ch,).transpose(0, 3, 1, 2)\n",
    "                                        )\n",
    "#     norm_param = (x - x.mean())/(x.std())\n",
    "#     model[curr_param_idx].weight.data = norm_param\n",
    "    \n",
    "    # save the model\n",
    "    path = os.path.join(save_path, model_name+\".pt\")\n",
    "    torch.save(model.state_dict(), path)\n",
    "    print(f'Model saved at {path}')"
   ]
  },
  {
   "cell_type": "code",
   "execution_count": 15,
   "metadata": {},
   "outputs": [
    {
     "name": "stdout",
     "output_type": "stream",
     "text": [
      "min: -4.538667678833008\n",
      "max: 3.231492042541504\n",
      "mean: 1.8930556677787536e-08\n",
      "std: 0.5536641478538513\n",
      "num_complex numbers: False\n"
     ]
    }
   ],
   "source": [
    "def check_weights(weights_data):\n",
    "    print(f'min: {weights_data.min()}')\n",
    "    print(f'max: {weights_data.max()}')\n",
    "    print(f'mean: {weights_data.mean()}')\n",
    "    print(f'std: {weights_data.std()}')\n",
    "    print(f'num_complex numbers: {np.iscomplex(weights_data.sum())}')\n",
    "check_weights(model[0].weight.data.numpy())"
   ]
  },
  {
   "cell_type": "code",
   "execution_count": 14,
   "metadata": {},
   "outputs": [
    {
     "data": {
      "image/png": "[encoded data removed]",
      "text/plain": [
       "<Figure size 1440x1440 with 1 Axes>"
      ]
     },
     "metadata": {
      "needs_background": "light"
     },
     "output_type": "display_data"
    }
   ],
   "source": [
    "visTensor(model[0].weight.data, ch=0, nrow=int(np.sqrt(num_filters_lyrs[0])), allkernels=False)\n",
    "plt.axis('off')\n",
    "plt.ioff()\n",
    "plt.rcParams['savefig.facecolor']='black'\n",
    "# plt.savefig(f'../figures/conv1_{model_name}.png')\n",
    "plt.show()"
   ]
  },
  {
   "cell_type": "markdown",
   "metadata": {},
   "source": [
    "# Inspect the NaN loss in 2-layer models"
   ]
  },
  {
   "cell_type": "code",
   "execution_count": 6,
   "metadata": {},
   "outputs": [
    {
     "data": {
      "text/plain": [
       "<All keys matched successfully>"
      ]
     },
     "execution_count": 6,
     "metadata": {},
     "output_type": "execute_result"
    }
   ],
   "source": [
    "# for mosaiks original whiten model\n",
    "model_type = \"two_layer_mosaiks_kmeans\"\n",
    "model_name = f\"{model_type}_{kernel_size}_{mode}_filters_{num_filters_lyrs[0]}_adapsz_{adaptive_pool_sz}\"\n",
    "model_path = os.path.join(save_path, model_name+\".pt\")\n",
    "model.load_state_dict(torch.load(model_path))"
   ]
  },
  {
   "cell_type": "code",
   "execution_count": 9,
   "metadata": {},
   "outputs": [],
   "source": [
    "model_type = 'kmeans_mosaiks_normalized' #'random_init', 'original_mosaiks' "
   ]
  },
  {
   "cell_type": "code",
   "execution_count": 9,
   "metadata": {},
   "outputs": [],
   "source": [
    "model[0].weight.data /= 25\n",
    "model[3].weight.data /= 25"
   ]
  },
  {
   "cell_type": "code",
   "execution_count": 7,
   "metadata": {},
   "outputs": [],
   "source": [
    "def plot_histogram(feats_np, name, dim=1):\n",
    "    feats_np = feats_np.reshape(feats_np.shape[dim],-1)\n",
    "    plt.title(f'{name}')\n",
    "    plt.hist(feats_np)\n",
    "    plt.rcParams['savefig.facecolor']='white'\n",
    "#     plt.savefig(f'../figures/{name}.png', dpi=150, bbox_inches='tight')\n",
    "    plt.show()"
   ]
  },
  {
   "cell_type": "code",
   "execution_count": 10,
   "metadata": {},
   "outputs": [
    {
     "data": {
      "image/png": "[encoded data removed]",
      "text/plain": [
       "<Figure size 432x288 with 1 Axes>"
      ]
     },
     "metadata": {
      "needs_background": "light"
     },
     "output_type": "display_data"
    }
   ],
   "source": [
    "for batch in geo_train_loader:\n",
    "    patches, target, meta = batch\n",
    "    patches['rgb'] = trf(patches['rgb'])\n",
    "    final_output = model(patches['rgb'])\n",
    "    \n",
    "#     relu_1_output = features_dim[f'relu_layer_1'].numpy()\n",
    "#     plot_histogram(relu_1_output, f'histogram of l-relu#1 in {model_type} 2-layer CNN')    \n",
    "    \n",
    "#     relu_4_output = features_dim[f'relu_layer_4'].numpy()\n",
    "#     plot_histogram(relu_4_output, f'histogram of l-relu#4 in {model_type} 2-layer CNN')  \n",
    "    \n",
    "    feats_np = final_output.data.numpy()\n",
    "    plot_histogram(feats_np, f'histogram of final layer in {model_type} 2-layer CNN')\n",
    "    \n",
    "    break"
   ]
  },
  {
   "cell_type": "code",
   "execution_count": 12,
   "metadata": {},
   "outputs": [
    {
     "data": {
      "image/png": "[encoded data removed]",
      "text/plain": [
       "<Figure size 432x288 with 1 Axes>"
      ]
     },
     "metadata": {
      "needs_background": "light"
     },
     "output_type": "display_data"
    },
    {
     "data": {
      "image/png": "[encoded data removed]",
      "text/plain": [
       "<Figure size 432x288 with 1 Axes>"
      ]
     },
     "metadata": {
      "needs_background": "light"
     },
     "output_type": "display_data"
    }
   ],
   "source": [
    "conv1_filters = model[0].weight.data.numpy() #.reshape(num_filters_lyrs[1],-1)\n",
    "plot_histogram(conv1_filters, f'histogram of conv1 filters in {model_type} 2-layer CNN', dim=0)  \n",
    "\n",
    "conv2_filters = model[3].weight.data.numpy() #.reshape(num_filters_lyrs[1],-1)\n",
    "plot_histogram(conv2_filters, f'histogram of conv2 filters in {model_type} 2-layer CNN', dim=0)  "
   ]
  },
  {
   "cell_type": "code",
   "execution_count": 11,
   "metadata": {},
   "outputs": [
    {
     "name": "stdout",
     "output_type": "stream",
     "text": [
      "two_layer_mosaiks_kmeans_7_whiten_filters_256_adapsz_9\n"
     ]
    }
   ],
   "source": [
    "print(model_name)\n",
    "model_path = os.path.join(save_path, model_name+'_normalized.pt')\n",
    "torch.save(model.state_dict(), model_path)"
   ]
  },
  {
   "cell_type": "code",
   "execution_count": null,
   "metadata": {},
   "outputs": [],
   "source": []
  },
  {
   "cell_type": "code",
   "execution_count": null,
   "metadata": {},
   "outputs": [],
   "source": []
  },
  {
   "cell_type": "code",
   "execution_count": 8,
   "metadata": {},
   "outputs": [],
   "source": [
    "model_type = 'mosaiks_original'"
   ]
  },
  {
   "cell_type": "code",
   "execution_count": 11,
   "metadata": {},
   "outputs": [
    {
     "data": {
      "image/png": "[encoded data removed]",
      "text/plain": [
       "<Figure size 432x288 with 1 Axes>"
      ]
     },
     "metadata": {
      "needs_background": "light"
     },
     "output_type": "display_data"
    },
    {
     "data": {
      "image/png": "[encoded data removed]",
      "text/plain": [
       "<Figure size 432x288 with 1 Axes>"
      ]
     },
     "metadata": {
      "needs_background": "light"
     },
     "output_type": "display_data"
    }
   ],
   "source": [
    "conv1_filters = model[0].bias.data.numpy() #.reshape(num_filters_lyrs[1],-1)\n",
    "plot_histogram(conv1_filters, f'histogram of conv1 bias in {model_type} 2-layer CNN', dim=0)  \n",
    "\n",
    "conv2_filters = model[3].bias.data.numpy() #.reshape(num_filters_lyrs[1],-1)\n",
    "plot_histogram(conv2_filters, f'histogram of conv2 bias in {model_type} 2-layer CNN', dim=0)  "
   ]
  },
  {
   "cell_type": "code",
   "execution_count": null,
   "metadata": {},
   "outputs": [],
   "source": []
  }
 ],
 "metadata": {
  "kernelspec": {
   "display_name": "ffcv2",
   "language": "python",
   "name": "ffcv2"
  },
  "language_info": {
   "codemirror_mode": {
    "name": "ipython",
    "version": 3
   },
   "file_extension": ".py",
   "mimetype": "text/x-python",
   "name": "python",
   "nbconvert_exporter": "python",
   "pygments_lexer": "ipython3",
   "version": "3.9.13"
  }
 },
 "nbformat": 4,
 "nbformat_minor": 4
}
