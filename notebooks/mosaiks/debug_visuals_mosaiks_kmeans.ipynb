{
 "cells": [
  {
   "cell_type": "markdown",
   "metadata": {},
   "source": [
    "# Two-layer custom CNN with MOSAIKS+KMeans"
   ]
  },
  {
   "cell_type": "markdown",
   "metadata": {},
   "source": [
    "## Load utils"
   ]
  },
  {
   "cell_type": "code",
   "execution_count": 1,
   "metadata": {},
   "outputs": [
    {
     "name": "stderr",
     "output_type": "stream",
     "text": [
      "/home/mila/s/sara.ebrahim-elkafrawy/.conda/envs/ffcv2/lib/python3.9/site-packages/tqdm/auto.py:22: TqdmWarning: IProgress not found. Please update jupyter and ipywidgets. See https://ipywidgets.readthedocs.io/en/stable/user_install.html\n",
      "  from .autonotebook import tqdm as notebook_tqdm\n"
     ]
    }
   ],
   "source": [
    "import os\n",
    "import sys\n",
    "import time\n",
    "import inspect\n",
    "import math\n",
    "import numpy as np\n",
    "import pandas as pd\n",
    "from pathlib import Path\n",
    "import matplotlib.pyplot as plt\n",
    "from sklearn.feature_extraction.image import extract_patches_2d\n",
    "import torch\n",
    "import torch.nn as nn\n",
    "import torch.nn.functional as F\n",
    "from torchvision import transforms\n",
    "import timm\n",
    "\n",
    "from sklearn.cluster import KMeans\n",
    "\n",
    "\n",
    "CURR_DIR = os.path.dirname(os.path.abspath(inspect.getfile(inspect.currentframe())))\n",
    "PARENT_DIR = os.path.dirname(CURR_DIR)\n",
    "sys.path.insert(0, \"/home/mila/s/sara.ebrahim-elkafrawy/scratch/ecosystem_project/remote_sensing\")\n",
    "\n",
    "from dataset.pytorch_dataset import GeoLifeCLEF2022Dataset\n",
    "from torch.utils.data import random_split, DataLoader\n",
    "from mosaiks_utils import visualize_3d_patches, visTensor, normalize_patches, DBN"
   ]
  },
  {
   "cell_type": "markdown",
   "metadata": {},
   "source": [
    "## Load GeoLifeCLEF dataset"
   ]
  },
  {
   "cell_type": "code",
   "execution_count": 2,
   "metadata": {},
   "outputs": [],
   "source": [
    "data_dir = \"/network/scratch/s/sara.ebrahim-elkafrawy/small_geo_data\"  # \"/network/scratch/s/sara.ebrahim-elkafrawy/\" \n",
    "split = \"train\"\n",
    "use_ffcv_loader = False\n",
    "num_species= 17037\n",
    "bands = [\"rgb\"] \n",
    "batch_size = 1\n",
    "num_workers = 0"
   ]
  },
  {
   "cell_type": "code",
   "execution_count": 25,
   "metadata": {},
   "outputs": [],
   "source": [
    "geo_train_dataset = GeoLifeCLEF2022Dataset(\n",
    "                root=data_dir,\n",
    "                subset=split,\n",
    "                use_ffcv_loader=use_ffcv_loader,\n",
    "                region=\"both\",\n",
    "                patch_data=bands,\n",
    "                use_rasters=False,\n",
    "                patch_extractor=None,\n",
    "                transform=None,\n",
    "                target_transform=None,\n",
    "                opts=None,\n",
    "            )\n",
    "\n",
    "geo_train_loader = DataLoader(\n",
    "                    geo_train_dataset,\n",
    "                    batch_size=batch_size,\n",
    "                    num_workers=num_workers,\n",
    "                    shuffle=True,\n",
    "                )\n",
    "# trf = torch.nn.Sequential(\n",
    "#     transforms.Resize(size=(224, 224), interpolation=transforms.InterpolationMode.NEAREST),\n",
    "#     transforms.Normalize((106.9413, 114.8733, 104.5285), (51.0005, 44.8595, 43.2014)),\n",
    "# )"
   ]
  },
  {
   "cell_type": "markdown",
   "metadata": {},
   "source": [
    "## Define the model: two-layer CNN"
   ]
  },
  {
   "cell_type": "code",
   "execution_count": 3,
   "metadata": {},
   "outputs": [],
   "source": [
    "# hyperparameters for the model\n",
    "kernel_size = 7\n",
    "mode = 'whiten' # options ['whiten', 'no_whiten']\n",
    "whiten = True\n",
    "save_path = f\"/home/mila/s/sara.ebrahim-elkafrawy/scratch/ecosystem_project/ckpts/two_layer_mosaiks_kmeans_{kernel_size}_{mode}.pt\"\n",
    "max_iter = 6\n",
    "random_state = np.random.RandomState(0)"
   ]
  },
  {
   "cell_type": "code",
   "execution_count": 27,
   "metadata": {},
   "outputs": [
    {
     "data": {
      "text/plain": [
       "torch.Size([1, 17037])"
      ]
     },
     "execution_count": 27,
     "metadata": {},
     "output_type": "execute_result"
    }
   ],
   "source": [
    "model = nn.Sequential(\n",
    "      nn.Conv2d(in_channels=3, out_channels=64, kernel_size=kernel_size, padding='same', bias=True),\n",
    "      nn.LeakyReLU(),\n",
    "      nn.MaxPool2d(2, stride=2),\n",
    "\n",
    "      nn.Conv2d(in_channels=64, out_channels=64, kernel_size=7, padding='same', bias=True),\n",
    "      nn.LeakyReLU(),\n",
    "      nn.MaxPool2d(2, stride=2),\n",
    "    \n",
    "      nn.AdaptiveAvgPool2d(9),\n",
    "    \n",
    "      nn.Flatten(),\n",
    "      nn.Dropout(0.5),\n",
    "      nn.Linear(5184, 512), #50176\n",
    "      nn.ReLU(),\n",
    "      nn.Linear(512, num_species)\n",
    "      ) \n",
    "model(torch.rand((1, 3, 224, 224))).shape"
   ]
  },
  {
   "cell_type": "markdown",
   "metadata": {},
   "source": [
    "## Multi-layer Mosaiks"
   ]
  },
  {
   "cell_type": "code",
   "execution_count": 6,
   "metadata": {},
   "outputs": [],
   "source": [
    "# model = nn.Sequential(\n",
    "#       nn.Conv2d(in_channels=3, out_channels=64, kernel_size=7, padding='same', bias=True),\n",
    "#       nn.LeakyReLU(),\n",
    "#       nn.MaxPool2d(2, stride=2),\n",
    "\n",
    "#       nn.Conv2d(in_channels=64, out_channels=64, kernel_size=7, padding='same', bias=True),\n",
    "#       nn.LeakyReLU(),\n",
    "#       nn.MaxPool2d(2, stride=2),\n",
    "\n",
    "#       nn.Conv2d(in_channels=64, out_channels=128, kernel_size=3, padding='same', bias=True),\n",
    "#       nn.LeakyReLU(),\n",
    "#       nn.MaxPool2d(2, stride=2),\n",
    "\n",
    "#       nn.Conv2d(in_channels=128, out_channels=256, kernel_size=3, padding='same', bias=True),\n",
    "#       nn.LeakyReLU(),\n",
    "#       nn.MaxPool2d(2, stride=2),\n",
    "    \n",
    "#       nn.AdaptiveAvgPool2d(9),\n",
    "    \n",
    "#       nn.Flatten(),\n",
    "#       nn.Dropout(0.5),\n",
    "#       nn.Linear(20736, 512), #50176\n",
    "#       nn.ReLU(),\n",
    "#       nn.Linear(512, num_species)\n",
    "#       ) \n",
    "# model(torch.rand((1, 3, 224, 224))).shape"
   ]
  },
  {
   "cell_type": "markdown",
   "metadata": {},
   "source": [
    "## slicing up the network"
   ]
  },
  {
   "cell_type": "code",
   "execution_count": 7,
   "metadata": {},
   "outputs": [
    {
     "data": {
      "text/plain": [
       "Sequential(\n",
       "  (0): Conv2d(3, 64, kernel_size=(7, 7), stride=(1, 1), padding=same)\n",
       "  (1): LeakyReLU(negative_slope=0.01)\n",
       "  (2): MaxPool2d(kernel_size=2, stride=2, padding=0, dilation=1, ceil_mode=False)\n",
       "  (3): Conv2d(64, 64, kernel_size=(7, 7), stride=(1, 1), padding=same)\n",
       "  (4): LeakyReLU(negative_slope=0.01)\n",
       "  (5): MaxPool2d(kernel_size=2, stride=2, padding=0, dilation=1, ceil_mode=False)\n",
       "  (6): AdaptiveAvgPool2d(output_size=9)\n",
       "  (7): Flatten(start_dim=1, end_dim=-1)\n",
       "  (8): Dropout(p=0.5, inplace=False)\n",
       "  (9): Linear(in_features=5184, out_features=512, bias=True)\n",
       "  (10): ReLU()\n",
       "  (11): Linear(in_features=512, out_features=17037, bias=True)\n",
       ")"
      ]
     },
     "execution_count": 7,
     "metadata": {},
     "output_type": "execute_result"
    }
   ],
   "source": [
    "model"
   ]
  },
  {
   "cell_type": "markdown",
   "metadata": {},
   "source": [
    "## Manually set the indices of all convolution layers and the afterwards activation layers"
   ]
  },
  {
   "cell_type": "code",
   "execution_count": 8,
   "metadata": {},
   "outputs": [],
   "source": [
    "# for 2-conv layers\n",
    "conv_lyrs = [0, 3]\n",
    "act_lyrs = [1, 4]\n",
    "\n",
    "# for 4-conv layers\n",
    "# conv_lyrs = [0, 2, 4, 6]\n",
    "# act_lyrs = [1, 4, 7, 10]"
   ]
  },
  {
   "cell_type": "code",
   "execution_count": 9,
   "metadata": {},
   "outputs": [
    {
     "name": "stdout",
     "output_type": "stream",
     "text": [
      "0.weight ---------------\t torch.Size([64, 3, 7, 7])\n",
      "0.bias ---------------\t torch.Size([64])\n",
      "3.weight ---------------\t torch.Size([64, 64, 7, 7])\n",
      "3.bias ---------------\t torch.Size([64])\n",
      "9.weight ---------------\t torch.Size([512, 5184])\n",
      "9.bias ---------------\t torch.Size([512])\n",
      "11.weight ---------------\t torch.Size([17037, 512])\n",
      "11.bias ---------------\t torch.Size([17037])\n"
     ]
    }
   ],
   "source": [
    "for name, param in model.named_parameters():\n",
    "    print(name, '---------------\\t', param.shape)"
   ]
  },
  {
   "cell_type": "markdown",
   "metadata": {},
   "source": [
    "## Hooks for activation layers"
   ]
  },
  {
   "cell_type": "code",
   "execution_count": 10,
   "metadata": {},
   "outputs": [],
   "source": [
    "features_dim = {}\n",
    "def get_features(name):\n",
    "    def hook(model, input, output):\n",
    "        features_dim[name] = output.detach()\n",
    "    return hook"
   ]
  },
  {
   "cell_type": "code",
   "execution_count": 11,
   "metadata": {},
   "outputs": [
    {
     "data": {
      "text/plain": [
       "<torch.utils.hooks.RemovableHandle at 0x7f4b942c7fd0>"
      ]
     },
     "execution_count": 11,
     "metadata": {},
     "output_type": "execute_result"
    }
   ],
   "source": [
    "# for 2-conv layers\n",
    "model[1].register_forward_hook(get_features('relu_layer_1'))\n",
    "model[4].register_forward_hook(get_features('relu_layer_4'))\n",
    "\n",
    "\n",
    "# for 4-conv layers (without nn.AdaptivePool layer)\n",
    "# model[1].register_forward_hook(get_features('relu_layer_1'))\n",
    "# model[4].register_forward_hook(get_features('relu_layer_4'))\n",
    "# model[7].register_forward_hook(get_features('relu_layer_7'))\n",
    "# model[10].register_forward_hook(get_features('relu_layer_10'))"
   ]
  },
  {
   "cell_type": "code",
   "execution_count": 12,
   "metadata": {},
   "outputs": [],
   "source": [
    "def get_featuremap_patches(train_dataloader, layer_idx, patch_size, max_patches, random_state):\n",
    "    '''expects image shape of (width, height, n_channels)\n",
    "    \n",
    "    Parameters\n",
    "    ----------\n",
    "    train_dataloader: Dataset\n",
    "                   dataloader for the training dataset to extract from\n",
    "    \n",
    "    layer_idx: int\n",
    "               The index of the current feature map. \n",
    "               conv_lyrs[layer_idx] should return the real index of the current weights/parameter \n",
    "               \n",
    "    patch_size: (int, int)\n",
    "                Receptive field size or width and height of the extracted patch.\n",
    "                \n",
    "    max_patches: int\n",
    "                 The number of extracted patches.\n",
    "    \n",
    "    random_state: int\n",
    "                  Random state for reproducibility \n",
    "    Return\n",
    "    ------\n",
    "    patches: ndarrah\n",
    "             final patches of size (max_patches, patch_size, n_channels)\n",
    "    '''\n",
    "    all_patches = []\n",
    "    \n",
    "    \n",
    "    for batch in train_dataloader:\n",
    "        patches, target, meta = batch\n",
    "        \n",
    "        if layer_idx == 0:\n",
    "            curr_feat_map = patches['rgb'].numpy()\n",
    "        else:\n",
    "            output = model(patches['rgb'])\n",
    "            curr_feat_map = features_dim[f'relu_layer_{act_lyrs[layer_idx-1]}'].numpy()\n",
    "\n",
    "        curr_feat_map = curr_feat_map.squeeze(0)\n",
    "        curr_feat_map = curr_feat_map.transpose((1,2,0))\n",
    "\n",
    "        # curr_feat_map: expected shape: (width, height, n_channels)\n",
    "        # output shape: (max_patches, patch_size, n_channels)\n",
    "        random_patches =  extract_patches_2d(curr_feat_map, \n",
    "                                 patch_size, \n",
    "                                 max_patches=max_patches,\n",
    "                                 random_state=random_state)\n",
    "\n",
    "        random_patches = np.reshape(random_patches, (len(random_patches), -1))\n",
    "\n",
    "        all_patches.append(random_patches)\n",
    "    \n",
    "    return np.concatenate(all_patches, axis=0)"
   ]
  },
  {
   "cell_type": "markdown",
   "metadata": {},
   "source": [
    "# Debug the steps"
   ]
  },
  {
   "cell_type": "markdown",
   "metadata": {},
   "source": [
    "## Step #1: Extract random patches"
   ]
  },
  {
   "cell_type": "code",
   "execution_count": 13,
   "metadata": {},
   "outputs": [],
   "source": [
    "# first layer\n",
    "curr_param_sz = model[0].weight.data.shape\n",
    "num_clusters = curr_param_sz[0]  # number of output filters/kernels in a layer\n",
    "num_ch = curr_param_sz[1]    # number of channels\n",
    "patch_size = (curr_param_sz[2], curr_param_sz[3])  # filter/kernel's width and height\n",
    "max_patches = int(num_clusters/4)  # number of random patches to extract from each image/feature map"
   ]
  },
  {
   "cell_type": "code",
   "execution_count": 15,
   "metadata": {},
   "outputs": [
    {
     "name": "stdout",
     "output_type": "stream",
     "text": [
      "DBN(64, num_groups=32, eps=1e-05, momentum=1.0, affine=False, mode=0)\n",
      "y size: torch.Size([2, 64, 7, 7])\n"
     ]
    }
   ],
   "source": [
    "dbn = DBN(64, 32, affine=False, momentum=1.)\n",
    "x = torch.randn(2, 64, 7, 7)\n",
    "print(dbn)\n",
    "y = dbn(x)\n",
    "print('y size:', y.size())"
   ]
  },
  {
   "cell_type": "code",
   "execution_count": 13,
   "metadata": {},
   "outputs": [],
   "source": [
    "# # patches from the original image to initialize first conv layer\n",
    "# conv1_patches = get_featuremap_patches(geo_train_loader, \n",
    "#                                        layer_idx=0, \n",
    "#                                        patch_size=patch_size, \n",
    "#                                        max_patches=max_patches, \n",
    "#                                        random_state=random_state)\n",
    "# visualize_3d_patches(conv1_patches, kernel_size=kernel_size, nrows=10)"
   ]
  },
  {
   "cell_type": "code",
   "execution_count": 46,
   "metadata": {},
   "outputs": [
    {
     "data": {
      "text/plain": [
       "torch.Size([32064, 3, 25, 25])"
      ]
     },
     "execution_count": 46,
     "metadata": {},
     "output_type": "execute_result"
    }
   ],
   "source": [
    "tmp = torch.from_numpy(conv1_patches.reshape(-1, kernel_size, kernel_size, 3).transpose(0, 3, 1, 2))\n",
    "tmp.shape"
   ]
  },
  {
   "cell_type": "code",
   "execution_count": 47,
   "metadata": {},
   "outputs": [
    {
     "name": "stdout",
     "output_type": "stream",
     "text": [
      "DBN(3, num_groups=3, eps=1e-05, momentum=1.0, affine=False, mode=0)\n"
     ]
    },
    {
     "data": {
      "text/plain": [
       "torch.Size([32064, 3, 25, 25])"
      ]
     },
     "execution_count": 47,
     "metadata": {},
     "output_type": "execute_result"
    }
   ],
   "source": [
    "dbn = DBN(3, 3, affine=False, momentum=1.)  # num_features = num_ch\n",
    "x = torch.randn(2, 64, 7, 7)\n",
    "print(dbn)\n",
    "y = dbn(tmp)\n",
    "y.shape"
   ]
  },
  {
   "cell_type": "code",
   "execution_count": 48,
   "metadata": {},
   "outputs": [
    {
     "data": {
      "text/plain": [
       "torch.Size([32064, 3, 25, 25])"
      ]
     },
     "execution_count": 48,
     "metadata": {},
     "output_type": "execute_result"
    }
   ],
   "source": [
    "tmp.shape"
   ]
  },
  {
   "cell_type": "code",
   "execution_count": 50,
   "metadata": {},
   "outputs": [
    {
     "name": "stdout",
     "output_type": "stream",
     "text": [
      "(32064, 1875)\n"
     ]
    }
   ],
   "source": [
    "y_np = y.numpy().transpose(0, 2, 3, 1).reshape(-1, kernel_size * kernel_size * 3)\n",
    "print(tmp_np.shape)"
   ]
  },
  {
   "cell_type": "code",
   "execution_count": 14,
   "metadata": {},
   "outputs": [],
   "source": [
    "# visualize_3d_patches(y_np, kernel_size=kernel_size, nrows=10)"
   ]
  },
  {
   "cell_type": "code",
   "execution_count": null,
   "metadata": {},
   "outputs": [],
   "source": []
  },
  {
   "cell_type": "markdown",
   "metadata": {},
   "source": [
    "## Step #2: Normalize and Whiten the patches"
   ]
  },
  {
   "cell_type": "code",
   "execution_count": 15,
   "metadata": {},
   "outputs": [],
   "source": [
    "# whiten_imgs = normalize_patches(conv1_patches, whiten=False)\n",
    "# visualize_3d_patches(whiten_imgs, kernel_size=kernel_size, nrows=10)"
   ]
  },
  {
   "cell_type": "markdown",
   "metadata": {},
   "source": [
    "## Step #3: Apply KMeans to the whitened patches"
   ]
  },
  {
   "cell_type": "code",
   "execution_count": 16,
   "metadata": {},
   "outputs": [],
   "source": [
    "# ([64, 3, 7, 7])\n",
    "kmeans = KMeans(n_clusters=64, \n",
    "                 random_state=random_state,\n",
    "                 max_iter=6,\n",
    "                 verbose=False)\n",
    "kmeans_geo = kmeans.fit(whiten_imgs)"
   ]
  },
  {
   "cell_type": "code",
   "execution_count": 17,
   "metadata": {},
   "outputs": [
    {
     "data": {
      "text/plain": [
       "(64, 147)"
      ]
     },
     "execution_count": 17,
     "metadata": {},
     "output_type": "execute_result"
    }
   ],
   "source": [
    "kmeans_geo.cluster_centers_.shape"
   ]
  },
  {
   "cell_type": "markdown",
   "metadata": {},
   "source": [
    "## Visualize the filters"
   ]
  },
  {
   "cell_type": "code",
   "execution_count": 16,
   "metadata": {},
   "outputs": [],
   "source": [
    "# filters = torch.from_numpy(kmeans_geo.cluster_centers_.reshape(64, kernel_size, kernel_size, 3).transpose(0, 3, 1, 2))\n",
    "\n",
    "# visTensor(filters, ch=0, allkernels=False)\n",
    "\n",
    "# plt.axis('off')\n",
    "# plt.ioff()\n",
    "# plt.rcParams['savefig.facecolor']='white'\n",
    "# plt.savefig(f'conv1_{str(kernel_size)}_{mode}_color.png')\n",
    "# plt.show()"
   ]
  },
  {
   "cell_type": "code",
   "execution_count": 17,
   "metadata": {},
   "outputs": [],
   "source": [
    "# visualize_3d_patches(kmeans_geo.cluster_centers_, \n",
    "#                      kernel_size=kernel_size, \n",
    "#                      nrows=8)"
   ]
  },
  {
   "cell_type": "markdown",
   "metadata": {},
   "source": [
    "## Sanity check: visualize the images"
   ]
  },
  {
   "cell_type": "code",
   "execution_count": 57,
   "metadata": {},
   "outputs": [],
   "source": [
    "def show_image(img, dim=256, ch=3):\n",
    "    img = img.reshape((dim,dim,ch))\n",
    "    img_min, img_max = img.min(), img.max()\n",
    "    plt.imshow((img - img_min) / (img_max - img_min))\n",
    "    plt.show()"
   ]
  },
  {
   "cell_type": "code",
   "execution_count": 14,
   "metadata": {},
   "outputs": [],
   "source": [
    "# dbn = DBN(3, 3, affine=False, momentum=1.)  # num_features = num_ch\n",
    "\n",
    "\n",
    "# train_loader = DataLoader(\n",
    "#                 geo_train_dataset,\n",
    "#                 batch_size=1,\n",
    "#                 num_workers=num_workers,\n",
    "#                 shuffle=True,\n",
    "#             )\n",
    "\n",
    "# for batch in train_loader:\n",
    "#     patches, target, meta = batch\n",
    "\n",
    "#     curr_feat_map = dbn(patches['rgb']).numpy()\n",
    "# #     print(curr_feat_map[0])\n",
    "# #     curr_feat_map = patches['rgb'].numpy()\n",
    "\n",
    "    \n",
    "#     curr_feat_map = curr_feat_map.squeeze(0)\n",
    "#     curr_feat_map = curr_feat_map.transpose((1,2,0))\n",
    "#     print(curr_feat_map.shape)\n",
    "#     show_image(curr_feat_map)"
   ]
  },
  {
   "cell_type": "markdown",
   "metadata": {},
   "source": [
    "# debug the whiten model weights"
   ]
  },
  {
   "cell_type": "code",
   "execution_count": 28,
   "metadata": {},
   "outputs": [
    {
     "data": {
      "text/plain": [
       "<All keys matched successfully>"
      ]
     },
     "execution_count": 28,
     "metadata": {},
     "output_type": "execute_result"
    }
   ],
   "source": [
    "model.load_state_dict(torch.load(save_path))"
   ]
  },
  {
   "cell_type": "code",
   "execution_count": 29,
   "metadata": {},
   "outputs": [
    {
     "data": {
      "image/png": "[encoded data removed]",
      "text/plain": [
       "<Figure size 1440x1440 with 1 Axes>"
      ]
     },
     "metadata": {
      "needs_background": "light"
     },
     "output_type": "display_data"
    }
   ],
   "source": [
    "visTensor(model[0].weight.data, ch=0, allkernels=False)"
   ]
  },
  {
   "cell_type": "code",
   "execution_count": 6,
   "metadata": {},
   "outputs": [
    {
     "data": {
      "text/plain": [
       "<All keys matched successfully>"
      ]
     },
     "execution_count": 6,
     "metadata": {},
     "output_type": "execute_result"
    }
   ],
   "source": [
    "model_whiten = nn.Sequential(\n",
    "      nn.Conv2d(in_channels=3, out_channels=64, kernel_size=kernel_size, padding='same', bias=True),\n",
    "      nn.LeakyReLU(),\n",
    "      nn.MaxPool2d(2, stride=2),\n",
    "\n",
    "      nn.Conv2d(in_channels=64, out_channels=64, kernel_size=7, padding='same', bias=True),\n",
    "      nn.LeakyReLU(),\n",
    "      nn.MaxPool2d(2, stride=2),\n",
    "    \n",
    "      nn.AdaptiveAvgPool2d(9),\n",
    "    \n",
    "      nn.Flatten(),\n",
    "      nn.Dropout(0.5),\n",
    "      nn.Linear(5184, 512), #50176\n",
    "      nn.ReLU(),\n",
    "      nn.Linear(512, num_species)\n",
    "      ) \n",
    "model_whiten_path = \"/home/mila/s/sara.ebrahim-elkafrawy/scratch/ecosystem_project/ckpts/two_layer_mosaiks_kmeans_7_whiten.pt\"\n",
    "model_whiten.load_state_dict(torch.load(model_whiten_path))"
   ]
  },
  {
   "cell_type": "code",
   "execution_count": 7,
   "metadata": {},
   "outputs": [
    {
     "data": {
      "image/png": "[encoded data removed]",
      "text/plain": [
       "<Figure size 1440x1440 with 1 Axes>"
      ]
     },
     "metadata": {
      "needs_background": "light"
     },
     "output_type": "display_data"
    }
   ],
   "source": [
    "visTensor(model_whiten[0].weight.data, ch=0, allkernels=False)\n"
   ]
  },
  {
   "cell_type": "code",
   "execution_count": 9,
   "metadata": {},
   "outputs": [
    {
     "data": {
      "image/png": "[encoded data removed]",
      "text/plain": [
       "<Figure size 1800x1800 with 64 Axes>"
      ]
     },
     "metadata": {},
     "output_type": "display_data"
    }
   ],
   "source": [
    "filter_shape = model_whiten[0].weight.data.shape\n",
    "tmp_np = model_whiten[0].weight.data.numpy().transpose(0, 2, 3, 1).reshape(filter_shape[0], -1)\n",
    "visualize_3d_patches(tmp_np, kernel_size=kernel_size, nrows=8)\n",
    "plt.axis('off')\n",
    "plt.ioff()\n",
    "plt.rcParams['savefig.facecolor']='white'\n",
    "# plt.savefig(f'conv1_{dataset}_{str(kernel_size)}_{mode}_color.png')\n",
    "plt.show()"
   ]
  },
  {
   "cell_type": "code",
   "execution_count": 4,
   "metadata": {},
   "outputs": [
    {
     "data": {
      "text/plain": [
       "<All keys matched successfully>"
      ]
     },
     "execution_count": 4,
     "metadata": {},
     "output_type": "execute_result"
    }
   ],
   "source": [
    "model_whiten = nn.Sequential(\n",
    "      nn.Conv2d(in_channels=3, out_channels=100, kernel_size=7, padding='same', bias=True),\n",
    "      nn.LeakyReLU(),\n",
    "      nn.MaxPool2d(2, stride=2),\n",
    "\n",
    "      nn.Conv2d(in_channels=100, out_channels=64, kernel_size=7, padding='same', bias=True),\n",
    "      nn.LeakyReLU(),\n",
    "      nn.MaxPool2d(2, stride=2),\n",
    "    \n",
    "      nn.AdaptiveAvgPool2d(9),\n",
    "    \n",
    "      nn.Flatten(),\n",
    "      nn.Dropout(0.5),\n",
    "      nn.Linear(5184, 512), #50176\n",
    "      nn.ReLU(),\n",
    "      nn.Linear(512, num_species)\n",
    "      ) \n",
    "model_whiten_path = \"/home/mila/s/sara.ebrahim-elkafrawy/scratch/ecosystem_project/ckpts/two_layer_mosaiks_kmeans_7_whiten_allGeo_bs32_25eachimage_zcaBias_0.001.pt\"\n",
    "model_whiten.load_state_dict(torch.load(model_whiten_path))"
   ]
  },
  {
   "cell_type": "code",
   "execution_count": 7,
   "metadata": {},
   "outputs": [
    {
     "data": {
      "image/png": "[encoded data removed]",
      "text/plain": [
       "<Figure size 1440x1440 with 1 Axes>"
      ]
     },
     "metadata": {
      "needs_background": "light"
     },
     "output_type": "display_data"
    }
   ],
   "source": [
    "visTensor(model_whiten[0].weight.data, nrow=10, ch=0, allkernels=False)\n",
    "plt.axis('off')\n",
    "plt.ioff()\n",
    "plt.rcParams['savefig.facecolor']='black'\n",
    "plt.savefig(f'conv1_allGeo_bs32_25eachimage_zcaBias_0.001.png')\n",
    "plt.show()"
   ]
  },
  {
   "cell_type": "code",
   "execution_count": 8,
   "metadata": {},
   "outputs": [],
   "source": [
    "def check_weights(weights_data):\n",
    "    print(f'min: {weights_data.min()}')\n",
    "    print(f'max: {weights_data.max()}')\n",
    "    print(f'mean: {weights_data.mean()}')\n",
    "    print(f'std: {weights_data.std()}')\n",
    "    print(f'num_complex numbers: {np.iscomplex(weights_data.numpy()).sum()}')"
   ]
  },
  {
   "cell_type": "code",
   "execution_count": 9,
   "metadata": {},
   "outputs": [
    {
     "name": "stdout",
     "output_type": "stream",
     "text": [
      "min: -1.5757321119308472\n",
      "max: 1.7271215915679932\n",
      "mean: -1.244317928694727e-07\n",
      "std: 0.2641446590423584\n",
      "num_complex numbers: 0\n"
     ]
    }
   ],
   "source": [
    "check_weights(model_whiten[0].weight.data)"
   ]
  },
  {
   "cell_type": "code",
   "execution_count": 36,
   "metadata": {},
   "outputs": [
    {
     "name": "stdout",
     "output_type": "stream",
     "text": [
      "min: -0.19972139596939087\n",
      "max: 0.17146986722946167\n",
      "mean: 1.2671055316104685e-09\n",
      "std: 0.05497889220714569\n",
      "num_complex numbers: 0\n"
     ]
    }
   ],
   "source": [
    "check_weights(model_no_whiten[0].weight.data)"
   ]
  },
  {
   "cell_type": "code",
   "execution_count": 37,
   "metadata": {},
   "outputs": [
    {
     "name": "stdout",
     "output_type": "stream",
     "text": [
      "min: -1.1697169542312622\n",
      "max: 1.4781373739242554\n",
      "mean: 1.8246320010462114e-08\n",
      "std: 0.22702325880527496\n",
      "num_complex numbers: 0\n"
     ]
    }
   ],
   "source": [
    "check_weights(model_whiten[0].weight.data)"
   ]
  },
  {
   "cell_type": "code",
   "execution_count": 42,
   "metadata": {},
   "outputs": [],
   "source": [
    "filter_1 = model_whiten[0].weight.data[1]\n",
    "filter_5 = model_whiten[0].weight.data[5]"
   ]
  },
  {
   "cell_type": "code",
   "execution_count": 43,
   "metadata": {},
   "outputs": [
    {
     "data": {
      "image/png": "[encoded data removed]",
      "text/plain": [
       "<Figure size 432x288 with 1 Axes>"
      ]
     },
     "metadata": {
      "needs_background": "light"
     },
     "output_type": "display_data"
    }
   ],
   "source": [
    "filter_1 = filter_1.numpy().transpose((1,2,0))\n",
    "show_image(filter_1, dim=filter_1.shape[0])"
   ]
  },
  {
   "cell_type": "code",
   "execution_count": 44,
   "metadata": {},
   "outputs": [
    {
     "data": {
      "image/png": "[encoded data removed]",
      "text/plain": [
       "<Figure size 432x288 with 1 Axes>"
      ]
     },
     "metadata": {
      "needs_background": "light"
     },
     "output_type": "display_data"
    }
   ],
   "source": [
    "filter_5 = filter_5.numpy().transpose((1,2,0))\n",
    "show_image(filter_5, dim=filter_5.shape[0])"
   ]
  },
  {
   "cell_type": "code",
   "execution_count": 47,
   "metadata": {},
   "outputs": [
    {
     "data": {
      "text/plain": [
       "(-10.3976965, -8.070095)"
      ]
     },
     "execution_count": 47,
     "metadata": {},
     "output_type": "execute_result"
    }
   ],
   "source": [
    "filter_1.min(), filter_5.min()"
   ]
  },
  {
   "cell_type": "code",
   "execution_count": 48,
   "metadata": {},
   "outputs": [
    {
     "data": {
      "text/plain": [
       "(7.622662, 8.373293)"
      ]
     },
     "execution_count": 48,
     "metadata": {},
     "output_type": "execute_result"
    }
   ],
   "source": [
    "filter_1.max(), filter_5.max()"
   ]
  },
  {
   "cell_type": "code",
   "execution_count": 49,
   "metadata": {},
   "outputs": [
    {
     "data": {
      "text/plain": [
       "(3.892548e-08, 5.117079e-07)"
      ]
     },
     "execution_count": 49,
     "metadata": {},
     "output_type": "execute_result"
    }
   ],
   "source": [
    "filter_1.mean(), filter_5.mean()"
   ]
  },
  {
   "cell_type": "code",
   "execution_count": 50,
   "metadata": {},
   "outputs": [
    {
     "data": {
      "text/plain": [
       "(3.8834505, 2.7545686)"
      ]
     },
     "execution_count": 50,
     "metadata": {},
     "output_type": "execute_result"
    }
   ],
   "source": [
    "filter_1.std(), filter_5.std()"
   ]
  },
  {
   "cell_type": "code",
   "execution_count": 53,
   "metadata": {},
   "outputs": [
    {
     "data": {
      "text/plain": [
       "<All keys matched successfully>"
      ]
     },
     "execution_count": 53,
     "metadata": {},
     "output_type": "execute_result"
    }
   ],
   "source": [
    "model_whiten_Wnorm = nn.Sequential(\n",
    "      nn.Conv2d(in_channels=3, out_channels=64, kernel_size=kernel_size, padding='same', bias=True),\n",
    "      nn.LeakyReLU(),\n",
    "      nn.MaxPool2d(2, stride=2),\n",
    "\n",
    "      nn.Conv2d(in_channels=64, out_channels=64, kernel_size=7, padding='same', bias=True),\n",
    "      nn.LeakyReLU(),\n",
    "      nn.MaxPool2d(2, stride=2),\n",
    "    \n",
    "      nn.AdaptiveAvgPool2d(9),\n",
    "    \n",
    "      nn.Flatten(),\n",
    "      nn.Dropout(0.5),\n",
    "      nn.Linear(5184, 512), #50176\n",
    "      nn.ReLU(),\n",
    "      nn.Linear(512, num_species)\n",
    "      ) \n",
    "model_whiten_Wnorm_path = \"/home/mila/s/sara.ebrahim-elkafrawy/scratch/ecosystem_project/ckpts/two_layer_mosaiks_kmeans_7_whiten+Wnorm_minibatch.pt\"\n",
    "model_whiten_Wnorm.load_state_dict(torch.load(model_whiten_Wnorm_path))"
   ]
  },
  {
   "cell_type": "code",
   "execution_count": 54,
   "metadata": {},
   "outputs": [
    {
     "name": "stdout",
     "output_type": "stream",
     "text": [
      "min: -5.985419273376465\n",
      "max: 5.429774284362793\n",
      "mean: 1.0947792006277268e-08\n",
      "std: 1.0\n",
      "num_complex numbers: 0\n"
     ]
    }
   ],
   "source": [
    "check_weights(model_whiten_Wnorm[0].weight.data)"
   ]
  },
  {
   "cell_type": "code",
   "execution_count": null,
   "metadata": {},
   "outputs": [],
   "source": []
  }
 ],
 "metadata": {
  "kernelspec": {
   "display_name": "ffcv2",
   "language": "python",
   "name": "ffcv2"
  },
  "language_info": {
   "codemirror_mode": {
    "name": "ipython",
    "version": 3
   },
   "file_extension": ".py",
   "mimetype": "text/x-python",
   "name": "python",
   "nbconvert_exporter": "python",
   "pygments_lexer": "ipython3",
   "version": "3.9.13"
  }
 },
 "nbformat": 4,
 "nbformat_minor": 4
}
